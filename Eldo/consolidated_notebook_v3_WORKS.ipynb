{
 "cells": [
  {
   "cell_type": "markdown",
   "id": "18c03538",
   "metadata": {
    "heading_collapsed": true
   },
   "source": [
    "# Eldo"
   ]
  },
  {
   "cell_type": "markdown",
   "id": "c4962027",
   "metadata": {
    "hidden": true
   },
   "source": [
    "## d"
   ]
  },
  {
   "cell_type": "markdown",
   "id": "2a020c91",
   "metadata": {
    "hidden": true
   },
   "source": [
    "## "
   ]
  },
  {
   "cell_type": "markdown",
   "id": "dbfafc00",
   "metadata": {
    "hidden": true
   },
   "source": [
    "### "
   ]
  },
  {
   "cell_type": "markdown",
   "id": "780ff909",
   "metadata": {},
   "source": [
    "# Checkers full code"
   ]
  },
  {
   "cell_type": "markdown",
   "id": "3f776612",
   "metadata": {},
   "source": [
    "1) Checkers action space\n",
    "2) referee for legal moves\n",
    "3) game baseline working om random picks\n",
    "4) basic python visualization output"
   ]
  },
  {
   "cell_type": "markdown",
   "id": "dc0ca356",
   "metadata": {},
   "source": [
    "# Input"
   ]
  },
  {
   "cell_type": "code",
   "execution_count": 1,
   "id": "de1a80d9",
   "metadata": {},
   "outputs": [],
   "source": [
    "#used libraries\n",
    "import numpy as np\n",
    "import random\n",
    "import math\n",
    "import matplotlib.pyplot as plt\n",
    "from mlxtend.plotting import checkerboard_plot\n",
    "from colorama import Fore, Back, Style\n",
    "import pdb"
   ]
  },
  {
   "cell_type": "code",
   "execution_count": 2,
   "id": "543e309f",
   "metadata": {},
   "outputs": [],
   "source": [
    "action_space = [(0,4),#0\n",
    " (0,5),#1\n",
    " (1,5),#2\n",
    " (1,6),#3\n",
    " (2,6),#4\n",
    " (2,7),#5\n",
    " (3,7),#6\n",
    " (4,0),#7\n",
    " (4,8),#8\n",
    " (5,0),#9\n",
    " (5,1),#10\n",
    " (5,8),#11\n",
    " (5,9),#12\n",
    " (6,1),#13\n",
    " (6,2),#14\n",
    " (6,9),#15\n",
    " (6,10),#16\n",
    " (7,2),#17\n",
    " (7,3),#18\n",
    " (7,10),#19\n",
    " (7,11),#20\n",
    " (8,4),#21\n",
    " (8,5),#22\n",
    " (8,12),#23\n",
    " (8,13),#24\n",
    " (9,5),#25\n",
    " (9,6),#26\n",
    " (9,13),#27\n",
    " (9,14),#28\n",
    " (10,6),#29\n",
    " (10,7),#30\n",
    " (10,14),#31\n",
    " (10,15),#32\n",
    " (11,7),#33\n",
    " (11,15),#34\n",
    " (12,8),#35\n",
    " (12,16),#36\n",
    " (13,8),#37\n",
    " (13,9),#38\n",
    " (13,16),#39\n",
    " (13,17),#40\n",
    " (14,9),#41\n",
    " (14,10),#42\n",
    " (14,17),#43\n",
    " (14,18),#44\n",
    " (15,10),#45\n",
    " (15,11),#46\n",
    " (15,18),#47\n",
    " (15,19),#48\n",
    " (16, 12),#49\n",
    " (16, 13),#50\n",
    " (16, 20),#51\n",
    " (16, 21),#52\n",
    " (17, 13),#53\n",
    " (17, 14),#54\n",
    " (17, 21),#55\n",
    " (17, 22),#56\n",
    " (18, 14),#57\n",
    " (18, 15),#58\n",
    " (18, 22),#59\n",
    " (18, 23),#60\n",
    " (19, 15),#61\n",
    " (19, 23),#62\n",
    " (20, 16),#63\n",
    " (20, 24),#64\n",
    " (21, 16),#65\n",
    " (21, 17),#66\n",
    " (21, 24),#67\n",
    " (21, 25),#68\n",
    " (22, 17),#69\n",
    " (22, 18),#70\n",
    " (22, 25),#71\n",
    " (22, 26),#72\n",
    " (23, 18),#73\n",
    " (23, 19),#74\n",
    " (23, 26),#75\n",
    " (23, 27),#76\n",
    " (24, 20),#77\n",
    " (24, 21),#78\n",
    " (24, 28),#79\n",
    " (24, 29),#80\n",
    " (25, 21),#81\n",
    " (25, 22),#82\n",
    " (25, 29),#83\n",
    " (25, 30),#84\n",
    " (26, 22),#85\n",
    " (26, 23),#86\n",
    " (26, 30),#87\n",
    " (26, 31),#88\n",
    " (27, 23),#89\n",
    " (27, 31),#90\n",
    " (28, 24),#91\n",
    " (29, 24),#92\n",
    " (29, 25),#93\n",
    " (30, 25),#94\n",
    " (30, 26),#95\n",
    " (31, 26),#96\n",
    " (31, 27)]#97"
   ]
  },
  {
   "cell_type": "code",
   "execution_count": 3,
   "id": "f6c279ee",
   "metadata": {},
   "outputs": [],
   "source": [
    "#initial state\n",
    "agent = 1 #white\n",
    "board = np.array([1,1,1,1,1,1,1,1,1,1,1,1,0,0,0,0,0,0,0,0,-1,-1,-1,-1,-1,-1,-1,-1,-1,-1,-1,-1])#initial board\n",
    "state = [board,agent]# -> list with state\n",
    "full_state = [board,agent,(8,12)] # -> initializes the full_state variable which is changed in the baseline\n",
    "counter = 1"
   ]
  },
  {
   "cell_type": "markdown",
   "id": "feb5ac1d",
   "metadata": {},
   "source": [
    "# Referee"
   ]
  },
  {
   "cell_type": "code",
   "execution_count": 4,
   "id": "65ae248b",
   "metadata": {},
   "outputs": [],
   "source": [
    "def random_select(action_space): #returns random tuple of movement from action_space\n",
    "    m = action_space[random.randint(0,97)]\n",
    "    return m\n",
    "\n",
    "def complete_state(state, move): #creates a complete state list with [board, color, move]\n",
    "    board = state[0]\n",
    "    agent = state[1]\n",
    "    full_state = [board, agent, move]\n",
    "    return full_state"
   ]
  },
  {
   "cell_type": "code",
   "execution_count": 5,
   "id": "3ca15a9a",
   "metadata": {},
   "outputs": [],
   "source": [
    "def combine_list(new_moves, to_append):\n",
    "    res = []\n",
    "    for nm in new_moves:\n",
    "        for ta in to_append:\n",
    "            combi = nm + ta\n",
    "            res.append(combi) \n",
    "    return res"
   ]
  },
  {
   "cell_type": "code",
   "execution_count": 6,
   "id": "3a0400b7",
   "metadata": {},
   "outputs": [],
   "source": [
    "def iter_clean(ll):\n",
    "    res = []\n",
    "    for l in ll:\n",
    "        if type(l) == tuple:\n",
    "            res.append(l)\n",
    "        else:\n",
    "            res_iter = iter_clean(l)\n",
    "            res += res_iter\n",
    "    return res\n",
    "\n",
    "\n",
    "def remove_duplicates(lst):    \n",
    "    ll = iter_clean(lst)\n",
    "    return [(a, b) for i, [a, b] in enumerate(ll) if not any(c == b for _, c in ll[:i])]\n",
    "\n",
    "\n",
    "def final_clean(ll):\n",
    "    res = []\n",
    "    for l in ll:\n",
    "        clean_l = remove_duplicates(l)\n",
    "        res.append(clean_l)\n",
    "    return res\n",
    "\n",
    "def clean_val(l):\n",
    "    my_list = []\n",
    "    my_list.append(l[0])\n",
    "    my_list.append(len(l))\n",
    "    return my_list"
   ]
  },
  {
   "cell_type": "code",
   "execution_count": 7,
   "id": "d9f2205c",
   "metadata": {},
   "outputs": [],
   "source": [
    "def eat(board, index, value_to_eat, moves = [[]]):\n",
    "    new_moves = [[]]\n",
    "    #pawn\n",
    "    if len(value_to_eat) == 1: \n",
    "        #white\n",
    "        if value_to_eat[0] < 0:\n",
    "            if index < 24:\n",
    "                #if you are on right side\n",
    "                if index%8 == 3: \n",
    "                    #only backward left capture \n",
    "                    moves_1 = moves.copy()\n",
    "                    if board[index+4] == -1 and board[index+7] == 0: \n",
    "                        move_end = index+4\n",
    "                        moves_1.append((index, move_end))\n",
    "                        new_board = board.copy()\n",
    "                        new_board[index] = 0\n",
    "                        new_board[move_end] = 0\n",
    "                        new_board[index+7] = 1\n",
    "                        to_append = eat(new_board, index+7, value_to_eat= value_to_eat, moves = [moves_1])\n",
    "                        new_moves += to_append\n",
    "                        new_moves.append([[moves_1]])\n",
    "                \n",
    "                #if you are close to right side        \n",
    "                if index%8 == 7:\n",
    "                    #only backward left capture\n",
    "                    moves_1 = moves.copy()\n",
    "                    if board[index+3] == -1 and board[index+7] == 0: \n",
    "                        move_end = index+3\n",
    "                        moves_1.append((index, move_end))\n",
    "                        new_board = board.copy()\n",
    "                        new_board[index] = 0\n",
    "                        new_board[move_end] = 0\n",
    "                        new_board[index+7] = 1\n",
    "                        to_append = eat(new_board, index+7, value_to_eat= value_to_eat, moves = [moves_1])\n",
    "                        new_moves += to_append\n",
    "                        new_moves.append([[moves_1]])\n",
    "                        \n",
    "                #if you are on left side\n",
    "                if index%8 == 4:\n",
    "                    #only backward right capture\n",
    "                    moves_1 = moves.copy()\n",
    "                    if board[index+4] == -1 and board[index+9] == 0: \n",
    "                        move_end = index+4\n",
    "                        moves_1.append((index, move_end))\n",
    "                        new_board = board.copy()\n",
    "                        new_board[index] = 0\n",
    "                        new_board[move_end] = 0\n",
    "                        new_board[index+9] = 1\n",
    "                        to_append = eat(new_board, index+9, value_to_eat= value_to_eat, moves = [moves_1])\n",
    "                        new_moves += to_append\n",
    "                        new_moves.append([[moves_1]])\n",
    "\n",
    "                #if you are close to left side\n",
    "                if index%8 == 0:\n",
    "                    #only backward right capture\n",
    "                    moves_1 = moves.copy()\n",
    "                    if board[index+5] == -1 and board[index+9] == 0: \n",
    "                        move_end = index+5\n",
    "                        moves_1.append((index, move_end))\n",
    "                        new_board = board.copy()\n",
    "                        new_board[index] = 0\n",
    "                        new_board[move_end] = 0\n",
    "                        new_board[index+9] = 1\n",
    "                        to_append = eat(new_board, index+9, value_to_eat= value_to_eat, moves = [moves_1])\n",
    "                        new_moves += to_append\n",
    "                        new_moves.append([[moves_1]])\n",
    "                \n",
    "                #if you are in odd row\n",
    "                if index%8 == 1 or index%8 == 2:\n",
    "                    moves_1 = moves.copy()\n",
    "                    moves_2 = moves.copy()\n",
    "                    #two captures possible backward left or right\n",
    "                    if board[index+4]== -1 and board[index+7] == 0:\n",
    "                        move_end = index+4\n",
    "                        moves_1.append((index, move_end))\n",
    "                        new_board = board.copy()\n",
    "                        new_board[index] = 0\n",
    "                        new_board[move_end] = 0\n",
    "                        new_board[index+7] = 1\n",
    "                        to_append = eat(new_board, index+7, value_to_eat= value_to_eat, moves = [moves_1])\n",
    "                        new_moves += to_append\n",
    "                        new_moves.append([[moves_1]])\n",
    "\n",
    "                    if board[index+5] == -1 and board[index+9] == 0:\n",
    "                        move_end = index+5\n",
    "                        moves_2.append((index, move_end))\n",
    "                        new_board = board.copy()\n",
    "                        new_board[index] = 0\n",
    "                        new_board[move_end] = 0\n",
    "                        new_board[index+9] = 1\n",
    "                        to_append = eat(new_board, index+9, value_to_eat= value_to_eat, moves = [moves_2])\n",
    "                        new_moves += to_append\n",
    "                        new_moves.append([[moves_2]])\n",
    "                \n",
    "                #if you are in even row\n",
    "                if index%8 == 5 or index%8 == 6:\n",
    "                    moves_1 = moves.copy()\n",
    "                    moves_2 = moves.copy()\n",
    "                    #two captures possible backward left and right\n",
    "                    if board[index+3]== -1 and board[index+7] == 0:\n",
    "                        move_end = index+3\n",
    "                        moves_1.append((index, move_end))\n",
    "                        new_board = board.copy()\n",
    "                        new_board[index] = 0\n",
    "                        new_board[move_end] = 0\n",
    "                        new_board[index+7] = 1\n",
    "                        to_append = eat(new_board, index+7, value_to_eat= value_to_eat, moves = [moves_1])\n",
    "                        new_moves += to_append\n",
    "                        new_moves.append([[moves_1]])\n",
    "                        \n",
    "                    if board[index+4] == -1 and board[index+9] == 0:\n",
    "                        move_end = index +4\n",
    "                        moves_2.append((index, move_end))\n",
    "                        new_board = board.copy()\n",
    "                        new_board[index] = 0\n",
    "                        new_board[move_end] = 0\n",
    "                        new_board[index+9] = 1\n",
    "                        moves_2.append([(index, move_end)])\n",
    "                        to_append = eat(new_board, index+9, value_to_eat= value_to_eat, moves = [moves_2])\n",
    "                        new_moves += to_append\n",
    "                        new_moves.append([[moves_2]])\n",
    "\n",
    "        \n",
    "        #black\n",
    "        if value_to_eat[0] > 0:\n",
    "            if index > 7:\n",
    "                #if you are on right side\n",
    "                if index%8 == 3: \n",
    "                    #only forward left capture \n",
    "                    moves_1 = moves.copy()\n",
    "                    if board[index-4]== 1 and board[index-9] == 0: \n",
    "                        move_end = index-4\n",
    "                        moves_1.append((index, move_end))\n",
    "                        new_board = board.copy()\n",
    "                        new_board[index] = 0\n",
    "                        new_board[move_end] = 0\n",
    "                        new_board[index-9] = -1\n",
    "                        to_append = eat(new_board, index-9, value_to_eat= value_to_eat, moves = [moves_1])\n",
    "                        new_moves += to_append\n",
    "                        new_moves.append([[moves_1]])\n",
    "                \n",
    "                #if you are close to right side        \n",
    "                if index%8 == 7:\n",
    "                    #only forward left capture\n",
    "                    moves_1 = moves.copy()\n",
    "                    if board[index-5]== 1 and board[index-9] == 0: \n",
    "                        move_end = index-5\n",
    "                        moves_1.append((index, move_end))\n",
    "                        new_board = board.copy()\n",
    "                        new_board[index] = 0\n",
    "                        new_board[move_end] = 0\n",
    "                        new_board[index-9] = -1\n",
    "                        to_append = eat(new_board, index-9, value_to_eat= value_to_eat, moves = [moves_1])\n",
    "                        new_moves += to_append\n",
    "                        new_moves.append([[moves_1]])\n",
    "                    \n",
    "                #if you are on left side\n",
    "                if index%8 == 4:\n",
    "                    #only forward right capture\n",
    "                    moves_1 = moves.copy()\n",
    "                    if board[index-4]== 1 and board[index-7] == 0:\n",
    "                        move_end = index-4\n",
    "                        moves_1.append((index, move_end))\n",
    "                        new_board = board.copy()\n",
    "                        new_board[index] = 0\n",
    "                        new_board[move_end] = 0\n",
    "                        new_board[index-7] = -1\n",
    "                        to_append = eat(new_board, index-7, value_to_eat= value_to_eat, moves = [moves_1])\n",
    "                        new_moves += to_append\n",
    "                        new_moves.append([[moves_1]])\n",
    "\n",
    "                #if you are close to left side\n",
    "                if index%8 == 0:\n",
    "                    #only forward right capture\n",
    "                    moves_1 = moves.copy()\n",
    "                    if board[index-3] == 1 and board[index-7] == 0: \n",
    "                        move_end = index-3\n",
    "                        moves_1.append((index, move_end))\n",
    "                        new_board = board.copy()\n",
    "                        new_board[index] = 0\n",
    "                        new_board[move_end] = 0\n",
    "                        new_board[index-7] = -1\n",
    "                        to_append = eat(new_board, index-7, value_to_eat= value_to_eat, moves = [moves_1])\n",
    "                        new_moves += to_append\n",
    "                        new_moves.append([[moves_1]])\n",
    "                \n",
    "                #if you are in odd row\n",
    "                if index%8 == 1 or index%8 == 2: \n",
    "                    #two captures possible forward left or right\n",
    "                    moves_1 = moves.copy()\n",
    "                    moves_2 = moves.copy()\n",
    "                    if board[index-4]== 1 and board[index-9] == 0:\n",
    "                        move_end = index-4\n",
    "                        moves_1.append((index, move_end))\n",
    "                        new_board = board.copy()\n",
    "                        new_board[index] = 0\n",
    "                        new_board[move_end] = 0\n",
    "                        new_board[index-9] = -1\n",
    "                        to_append = eat(new_board, index-9, value_to_eat= value_to_eat, moves = [moves_1])\n",
    "                        new_moves += to_append\n",
    "                        new_moves.append([[moves_1]])\n",
    "\n",
    "                    if board[index-3] == 1 and board[index-7] == 0:\n",
    "                        move_end = index-3\n",
    "                        moves_2.append((index, move_end))\n",
    "                        new_board = board.copy()\n",
    "                        new_board[index] = 0\n",
    "                        new_board[move_end] = 0\n",
    "                        new_board[index-7] = -1\n",
    "                        to_append = eat(new_board, index-7, value_to_eat= value_to_eat, moves = [moves_2])\n",
    "                        new_moves += to_append\n",
    "                        new_moves.append([[moves_2]])\n",
    "\n",
    "                #if you are in even row\n",
    "                if index%8 == 5 or index%8 == 6:\n",
    "                    #two captures possible forward left or right\n",
    "                    moves_1 = moves.copy()\n",
    "                    moves_2 = moves.copy()\n",
    "                    if board[index-5]== 1 and board[index-9] == 0:\n",
    "                        move_end = index-5\n",
    "                        moves_1.append((index, move_end))\n",
    "                        new_board = board.copy()\n",
    "                        new_board[index] = 0\n",
    "                        new_board[move_end] = 0\n",
    "                        new_board[index-9] = -1\n",
    "                        to_append = eat(new_board, index-9, value_to_eat= value_to_eat, moves = [moves_1])\n",
    "                        new_moves += to_append\n",
    "                        new_moves.append([[moves_1]])\n",
    "\n",
    "                    if board[index-4] == 1 and board[index-7] == 0:\n",
    "                        move_end = index-4\n",
    "                        moves_2.append((index, move_end))\n",
    "                        new_board = board.copy()\n",
    "                        new_board[index] = 0\n",
    "                        new_board[move_end] = 0\n",
    "                        new_board[index-7] = -1\n",
    "                        to_append = eat(new_board, index-7, value_to_eat= value_to_eat, moves = [moves_2])\n",
    "                        new_moves += to_append\n",
    "                        new_moves.append([[moves_2]])\n",
    "\n",
    "    #queen\n",
    "    if len(value_to_eat) == 2:\n",
    "        #white\n",
    "        if value_to_eat[0]<0:\n",
    "            #8 unique capture cases \n",
    "            if index == 0:\n",
    "                #backward right capture\n",
    "                moves_1 = moves.copy()\n",
    "                if board[index+5] <0 and board[index+9] == 0:\n",
    "                    move_end = index+5\n",
    "                    moves_1.append((index, move_end))\n",
    "                    new_board = board.copy()\n",
    "                    new_board[index] = 0\n",
    "                    new_board[move_end] = 0\n",
    "                    new_board[index+9] = 2\n",
    "                    to_append = eat(new_board, index+9, value_to_eat= value_to_eat, moves = [moves_1])\n",
    "                    new_moves += to_append\n",
    "                    new_moves.append([[moves_1]])\n",
    "            \n",
    "            if index == 4:\n",
    "                #backward right capture\n",
    "                moves_1 = moves.copy()\n",
    "                if board[index+4]<0 and board[index+9] == 0:\n",
    "                    move_end = index+4\n",
    "                    moves_1.append((index, move_end))\n",
    "                    new_board = board.copy()\n",
    "                    new_board[index] = 0\n",
    "                    new_board[move_end] = 0\n",
    "                    new_board[index+9] = 2\n",
    "                    to_append = eat(new_board, index+9, value_to_eat= value_to_eat, moves = [moves_1])\n",
    "                    new_moves += to_append\n",
    "                    new_moves.append([[moves_1]])\n",
    "                    \n",
    "            if index == 3:\n",
    "                #backward left capture\n",
    "                moves_1 = moves.copy()\n",
    "                if board[index+4]<0 and board[index+7] == 0:\n",
    "                    move_end = index+4\n",
    "                    moves_1.append((index, move_end))\n",
    "                    new_board = board.copy()\n",
    "                    new_board[index] = 0\n",
    "                    new_board[move_end] = 0\n",
    "                    new_board[index+7] = 2\n",
    "                    to_append = eat(new_board, index+7, value_to_eat= value_to_eat, moves = [moves_1])\n",
    "                    new_moves += to_append\n",
    "                    new_moves.append([[moves_1]])\n",
    "            \n",
    "            if index == 7:\n",
    "                #backwarfd left capture\n",
    "                moves_1 = moves.copy()\n",
    "                if board[index+3] <0 and board[index+7] == 0:\n",
    "                    move_end = index+3\n",
    "                    moves_1.append((index, move_end))\n",
    "                    new_board = board.copy()\n",
    "                    new_board[index] = 0\n",
    "                    new_board[move_end] = 0\n",
    "                    new_board[index+7] = 2\n",
    "                    to_append = eat(new_board, index+7, value_to_eat= value_to_eat, moves = [moves_1])\n",
    "                    new_moves += to_append\n",
    "                    new_moves.append([[moves_1]])\n",
    "                    \n",
    "            if index == 27:\n",
    "                #forward left capture\n",
    "                moves_1 = moves.copy()\n",
    "                if board[index-4]<0 and board[index-9] == 0:\n",
    "                    move_end = index-4\n",
    "                    moves_1.append((index, move_end))\n",
    "                    new_board = board.copy()\n",
    "                    new_board[index] = 0\n",
    "                    new_board[move_end] = 0\n",
    "                    new_board[index-9] = 2\n",
    "                    to_append = eat(new_board, index-9, value_to_eat= value_to_eat, moves = [moves_1])\n",
    "                    new_moves += to_append\n",
    "                    new_moves.append([[moves_1]])\n",
    "                    \n",
    "            if index == 31:\n",
    "                #forwad left capture\n",
    "                moves_1 = moves.copy()\n",
    "                if board[index-5]<0 and board[index-9] == 0:\n",
    "                    move_end = index-5\n",
    "                    moves_1.append((index, move_end))\n",
    "                    new_board = board.copy()\n",
    "                    new_board[index] = 0\n",
    "                    new_board[move_end] = 0\n",
    "                    new_board[index-9] = 2\n",
    "                    to_append = eat(new_board, index-9, value_to_eat= value_to_eat, moves = [moves_1])\n",
    "                    new_moves += to_append\n",
    "                    new_moves.append([[moves_1]])\n",
    "                    \n",
    "            if index == 24:\n",
    "                #forward right capture\n",
    "                moves_1 = moves.copy()\n",
    "                if board[index-3]<0 and board[index-7] == 0:\n",
    "                    move_end = index-3\n",
    "                    moves_1.append((index, move_end))\n",
    "                    new_board = board.copy()\n",
    "                    new_board[index] = 0\n",
    "                    new_board[move_end] = 0\n",
    "                    new_board[index-7] = 2\n",
    "                    to_append = eat(new_board, index-7, value_to_eat= value_to_eat, moves = [moves_1])\n",
    "                    new_moves += to_append\n",
    "                    new_moves.append([[moves_1]])\n",
    "                    \n",
    "            if index == 28:\n",
    "                #forward right capture\n",
    "                moves_1 = moves.copy()\n",
    "                if board[index-4]<0 and board[index-7] == 0:\n",
    "                    move_end = index-4\n",
    "                    moves_1.append((index, move_end))\n",
    "                    new_board = board.copy()\n",
    "                    new_board[index] = 0\n",
    "                    new_board[move_end] = 0\n",
    "                    new_board[index-7] = 2\n",
    "                    to_append = eat(new_board, index-7, value_to_eat= value_to_eat, moves = [moves_1])\n",
    "                    new_moves += to_append\n",
    "                    new_moves.append([[moves_1]])\n",
    "                    \n",
    "            #first row central\n",
    "            if index == 1 or index == 2:\n",
    "                #two captures - backward left\n",
    "                moves_1 = moves.copy()\n",
    "                moves_2 = moves.copy()\n",
    "                if board[index+4]<0 and board[index+7] == 0:\n",
    "                    move_end = index+4\n",
    "                    moves_1.append((index, move_end))\n",
    "                    new_board = board.copy()\n",
    "                    new_board[index] = 0\n",
    "                    new_board[move_end] = 0\n",
    "                    new_board[index+7] = 2\n",
    "                    to_append = eat(new_board, index+7, value_to_eat= value_to_eat, moves = [moves_1])\n",
    "                    new_moves += to_append\n",
    "                    new_moves.append([[moves_1]])\n",
    "\n",
    "                #backward right\n",
    "                if board[index+5]<0 and board[index+9] == 0:\n",
    "                    move_end = index+5\n",
    "                    moves_2.append((index, move_end))\n",
    "                    new_board = board.copy()\n",
    "                    new_board[index] = 0\n",
    "                    new_board[move_end] = 0\n",
    "                    new_board[index+9] = 2\n",
    "                    to_append = eat(new_board, index+9, value_to_eat= value_to_eat, moves = [moves_2])\n",
    "                    new_moves += to_append\n",
    "                    new_moves.append([[moves_2]])\n",
    "                    \n",
    "            #last row central\n",
    "            if index == 29 or index == 30:\n",
    "                moves_1 = moves.copy()\n",
    "                moves_2 = moves.copy()\n",
    "                #two captures - forward left\n",
    "                if board[index-5] <0 and board[index-9] == 0:\n",
    "                    move_end = index-5\n",
    "                    moves_1.append((index, move_end))\n",
    "                    new_board = board.copy()\n",
    "                    new_board[index] = 0\n",
    "                    new_board[move_end] = 0\n",
    "                    new_board[index-9] = 2\n",
    "                    to_append = eat(new_board, index-9, value_to_eat= value_to_eat, moves = [moves_1])\n",
    "                    new_moves += to_append\n",
    "                    new_moves.append([[moves_1]])\n",
    "\n",
    "                #forward right\n",
    "                if board[index-4] <0 and board[index-7] == 0:\n",
    "                    move_end = index-4\n",
    "                    moves_2.append((index, move_end))\n",
    "                    new_board = board.copy()\n",
    "                    new_board[index] = 0\n",
    "                    new_board[move_end] = 0\n",
    "                    new_board[index-7] = 2\n",
    "                    to_append = eat(new_board, index-7, value_to_eat= value_to_eat, moves = [moves_2])\n",
    "                    new_moves += to_append\n",
    "                    new_moves.append([[moves_2]])\n",
    "                    \n",
    "            #left side \n",
    "            if index == 12 or index == 20:\n",
    "                moves_1 = moves.copy()\n",
    "                moves_2 = moves.copy()\n",
    "                #two captures - forward right\n",
    "                if board[index-4] <0 and board[index-7] == 0:\n",
    "                    move_end = index-4\n",
    "                    moves_1.append((index, move_end))\n",
    "                    new_board = board.copy()\n",
    "                    new_board[index] = 0\n",
    "                    new_board[move_end] = 0\n",
    "                    new_board[index-7] = 2\n",
    "                    to_append = eat(new_board, index-7, value_to_eat= value_to_eat, moves = [moves_1])\n",
    "                    new_moves += to_append\n",
    "                    new_moves.append([[moves_1]])\n",
    "\n",
    "                #backward right\n",
    "                if board[index+4] <0 and board[index+9] == 0:\n",
    "                    move_end = index+4\n",
    "                    moves_2.append((index, move_end))\n",
    "                    new_board = board.copy()\n",
    "                    new_board[index] = 0\n",
    "                    new_board[move_end] = 0\n",
    "                    new_board[index+9] = 2\n",
    "                    to_append = eat(new_board, index+9, value_to_eat= value_to_eat, moves = [moves_2])\n",
    "                    new_moves += to_append\n",
    "                    new_moves.append([[moves_2]])\n",
    "                \n",
    "            #right side\n",
    "            if index == 11 or index == 19:\n",
    "                moves_1 = moves.copy()\n",
    "                moves_2 = moves.copy()\n",
    "                #two captures forward left\n",
    "                if board[index-4] <0 and board[index-9] == 0:\n",
    "                    move_end = index-4\n",
    "                    moves_1.append((index, move_end))\n",
    "                    new_board = board.copy()\n",
    "                    new_board[index] = 0\n",
    "                    new_board[move_end] = 0\n",
    "                    new_board[index-9] = 2\n",
    "                    to_append = eat(new_board, index-9, value_to_eat= value_to_eat, moves = [moves_1])\n",
    "                    new_moves += to_append\n",
    "                    new_moves.append([[moves_1]])\n",
    "\n",
    "                #backward left\n",
    "                if board[index+4] <0 and board[index+7] == 0:\n",
    "                    move_end = index+4\n",
    "                    moves_2.append((index, move_end))\n",
    "                    new_board = board.copy()\n",
    "                    new_board[index] = 0\n",
    "                    new_board[move_end] = 0\n",
    "                    new_board[index+7] = 2\n",
    "                    to_append = eat(new_board, index+7, value_to_eat= value_to_eat, moves = [moves_2])\n",
    "                    new_moves += to_append\n",
    "                    new_moves.append([[moves_2]])\n",
    "                    \n",
    "            #second row central\n",
    "            if index == 5 or index == 6:\n",
    "                moves_1 = moves.copy()\n",
    "                moves_2 = moves.copy()\n",
    "                #two captures - backward left\n",
    "                if board[index+3] <0 and board[index+7] == 0:\n",
    "                    move_end = index+3\n",
    "                    moves_1.append((index, move_end))\n",
    "                    new_board = board.copy()\n",
    "                    new_board[index] = 0\n",
    "                    new_board[move_end] = 0\n",
    "                    new_board[index+7] = 2\n",
    "                    to_append = eat(new_board, index+7, value_to_eat= value_to_eat, moves = [moves_1])\n",
    "                    new_moves += to_append\n",
    "                    new_moves.append([[moves_1]])\n",
    "\n",
    "                #backward right\n",
    "                if board[index+4] <0 and board[index+9] == 0:\n",
    "                    move_end = index+4\n",
    "                    moves_2.append((index, move_end))\n",
    "                    new_board = board.copy()\n",
    "                    new_board[index] = 0\n",
    "                    new_board[move_end] = 0\n",
    "                    new_board[index+9] = 2\n",
    "                    to_append = eat(new_board, index+9, value_to_eat= value_to_eat, moves = [moves_2])\n",
    "                    new_moves += to_append\n",
    "                    new_moves.append([[moves_2]])\n",
    "                    \n",
    "            #second to last row central\n",
    "            if index == 25 or index == 26:\n",
    "                moves_1 = moves.copy()\n",
    "                moves_2 = moves.copy()\n",
    "                #two captures - forward left\n",
    "                if board[index-4] <0 and board[index-9] == 0:\n",
    "                    move_end = index-4\n",
    "                    moves_1.append((index, move_end))\n",
    "                    new_board = board.copy()\n",
    "                    new_board[index] = 0\n",
    "                    new_board[move_end] = 0\n",
    "                    new_board[index-9] = 2\n",
    "                    to_append = eat(new_board, index-9, value_to_eat= value_to_eat, moves = [moves_1])\n",
    "                    new_moves += to_append\n",
    "                    new_moves.append([[moves_1]])\n",
    "\n",
    "                #forward right\n",
    "                if board[index-3]<0 and board[index-7] == 0:\n",
    "                    move_end = index-3\n",
    "                    moves_2.append((index, move_end))\n",
    "                    new_board = board.copy()\n",
    "                    new_board[index] = 0\n",
    "                    new_board[move_end] = 0\n",
    "                    new_board[index-7] = 2\n",
    "                    to_append = eat(new_board, index-7, value_to_eat= value_to_eat, moves = [moves_2])\n",
    "                    new_moves += to_append\n",
    "                    new_moves.append([[moves_2]])\n",
    "                    \n",
    "            #second column left\n",
    "            if index == 8 or index == 16:\n",
    "                moves_1 = moves.copy()\n",
    "                moves_2 = moves.copy()\n",
    "                #two captures - forward right\n",
    "                if board[index-3] <0 and board[index-7] == 0:\n",
    "                    move_end = index-3\n",
    "                    moves_1.append((index, move_end))\n",
    "                    new_board = board.copy()\n",
    "                    new_board[index] = 0\n",
    "                    new_board[move_end] = 0\n",
    "                    new_board[index-7] = 2\n",
    "                    to_append = eat(new_board, index-7, value_to_eat= value_to_eat, moves = [moves_1])\n",
    "                    new_moves += to_append\n",
    "                    new_moves.append([[moves_1]])\n",
    "\n",
    "                #backward right\n",
    "                if board[index+5] <0 and board[index+9] == 0:\n",
    "                    move_end = index+5\n",
    "                    moves_2.append((index, move_end))\n",
    "                    new_board = board.copy()\n",
    "                    new_board[index] = 0\n",
    "                    new_board[move_end] = 0\n",
    "                    new_board[index+9] = 2\n",
    "                    to_append = eat(new_board, index+9, value_to_eat= value_to_eat, moves = [moves_2])\n",
    "                    new_moves += to_append\n",
    "                    new_moves.append([[moves_2]])\n",
    "                    \n",
    "            #second column right\n",
    "            if index == 15 or index == 23:\n",
    "                moves_1 = moves.copy()\n",
    "                moves_2 = moves.copy()\n",
    "                #only two captures - forward left\n",
    "                if board[index-5] <0 and board[index-9] == 0:\n",
    "                    move_end = index-5\n",
    "                    moves_1.append((index, move_end))\n",
    "                    new_board = board.copy()\n",
    "                    new_board[index] = 0\n",
    "                    new_board[move_end] = 0\n",
    "                    new_board[index-9] = 2\n",
    "                    to_append = eat(new_board, index-9, value_to_eat= value_to_eat, moves = [moves_1])\n",
    "                    new_moves += to_append\n",
    "                    new_moves.append([[moves_1]])\n",
    "\n",
    "                #backward left\n",
    "                if board[index+3] <0 and board[index+7] == 0:\n",
    "                    move_end = index+3\n",
    "                    moves_2.append((index, move_end))\n",
    "                    new_board = board.copy()\n",
    "                    new_board[index] = 0\n",
    "                    new_board[move_end] = 0\n",
    "                    new_board[index+7] = 2\n",
    "                    to_append = eat(new_board, index+7, value_to_eat= value_to_eat, moves = [moves_2])\n",
    "                    new_moves += to_append\n",
    "                    new_moves.append([[moves_2]])\n",
    "                    \n",
    "            if index == 9 or index == 10 or index == 17 or index == 18:\n",
    "                moves_1 = moves.copy()\n",
    "                moves_2 = moves.copy()\n",
    "                moves_3 = moves.copy()\n",
    "                moves_4 = moves.copy()\n",
    "                #four possible capture - forward left\n",
    "                if board[index-4] <0 and board[index-9] == 0:\n",
    "                    move_end = index-4\n",
    "                    moves_1.append((index, move_end))\n",
    "                    new_board = board.copy()\n",
    "                    new_board[index] = 0\n",
    "                    new_board[move_end] = 0\n",
    "                    new_board[index-9] = 2\n",
    "                    to_append = eat(new_board, index-9, value_to_eat= value_to_eat, moves = [moves_1])\n",
    "                    new_moves += to_append\n",
    "                    new_moves.append([[moves_1]])\n",
    "\n",
    "                #forward right\n",
    "                if board[index-3] <0 and board[index-7] == 0:\n",
    "                    move_end = index-3\n",
    "                    moves_2.append((index, move_end))\n",
    "                    new_board = board.copy()\n",
    "                    new_board[index] = 0\n",
    "                    new_board[move_end] = 0\n",
    "                    new_board[index-7] = 2\n",
    "                    to_append = eat(new_board, index-7, value_to_eat= value_to_eat, moves = [moves_2])\n",
    "                    new_moves += to_append\n",
    "                    new_moves.append([[moves_2]])\n",
    "                    \n",
    "                #backward left\n",
    "                if board[index+4] <0 and board[index+7] == 0:\n",
    "                    move_end = index+4\n",
    "                    moves_3.append((index, move_end))\n",
    "                    new_board = board.copy()\n",
    "                    new_board[index] = 0\n",
    "                    new_board[move_end] = 0\n",
    "                    new_board[index+7] = 2\n",
    "                    to_append = eat(new_board, index+7, value_to_eat= value_to_eat, moves = [moves_3])\n",
    "                    new_moves += to_append\n",
    "                    new_moves.append([[moves_3]])\n",
    "\n",
    "                #backward right\n",
    "                if board[index+5] <0 and board[index+9] == 0:\n",
    "                    move_end = index+5\n",
    "                    moves_4.append((index, move_end))\n",
    "                    new_board = board.copy()\n",
    "                    new_board[index] = 0\n",
    "                    new_board[move_end] = 0\n",
    "                    new_board[index+9] = 2\n",
    "                    to_append = eat(new_board, index+9, value_to_eat= value_to_eat, moves = [moves_4])\n",
    "                    new_moves += to_append\n",
    "                    new_moves.append([[moves_4]])\n",
    "                    \n",
    "            if index == 13 or index == 14 or index == 21 or index == 22:\n",
    "                moves_1 = moves.copy()\n",
    "                moves_2 = moves.copy()\n",
    "                moves_3 = moves.copy()\n",
    "                moves_4 = moves.copy()\n",
    "                #four possible capture - forward left\n",
    "                if board[index-5] <0 and board[index-9] == 0:\n",
    "                    move_end = index-5\n",
    "                    moves_1.append((index, move_end))\n",
    "                    new_board = board.copy()\n",
    "                    new_board[index] = 0\n",
    "                    new_board[move_end] = 0\n",
    "                    new_board[index-9] = 2\n",
    "                    to_append = eat(new_board, index-9, value_to_eat= value_to_eat, moves = [moves_1])\n",
    "                    new_moves += to_append\n",
    "                    new_moves.append([[moves_1]])\n",
    "\n",
    "                #forward right\n",
    "                if board[index-4] <0 and board[index-7] == 0:\n",
    "                    move_end = index-4\n",
    "                    moves_2.append((index, move_end))\n",
    "                    new_board = board.copy()\n",
    "                    new_board[index] = 0\n",
    "                    new_board[move_end] = 0\n",
    "                    new_board[index-7] = 2\n",
    "                    to_append = eat(new_board, index-7, value_to_eat= value_to_eat, moves = [moves_2])\n",
    "                    new_moves += to_append\n",
    "                    new_moves.append([[moves_2]])\n",
    "\n",
    "                #backward left\n",
    "                if board[index+3] <0 and board[index+7] == 0:\n",
    "                    move_end = index+3\n",
    "                    moves_3.append((index, move_end))\n",
    "                    new_board = board.copy()\n",
    "                    new_board[index] = 0\n",
    "                    new_board[move_end] = 0\n",
    "                    new_board[index+7] = 2\n",
    "                    to_append = eat(new_board, index+7, value_to_eat= value_to_eat, moves = [moves_3])\n",
    "                    new_moves += to_append\n",
    "                    new_moves.append([[moves_3]])\n",
    "\n",
    "                #backward right\n",
    "                if board[index+4] <0 and board[index+9] == 0:\n",
    "                    move_end = index+4\n",
    "                    moves_4.append((index, move_end))\n",
    "                    new_board = board.copy()\n",
    "                    new_board[index] = 0\n",
    "                    new_board[move_end] = 0\n",
    "                    new_board[index+9] = 2\n",
    "                    to_append = eat(new_board, index+9, value_to_eat= value_to_eat, moves = [moves_4])\n",
    "                    new_moves += to_append\n",
    "                    new_moves.append([[moves_4]])\n",
    "                    \n",
    "\n",
    "        #black\n",
    "        if value_to_eat[0]>0:\n",
    "            #8 unique capture cases \n",
    "            if index == 0:\n",
    "                moves_1 = moves.copy()\n",
    "                #backward right capture\n",
    "                if board[index+5] >0 and board[index+9] == 0:\n",
    "                    move_end = index+5\n",
    "                    moves_1.append((index, move_end))\n",
    "                    new_board = board.copy()\n",
    "                    new_board[index] = 0\n",
    "                    new_board[move_end] = 0\n",
    "                    new_board[index+9] = -2\n",
    "                    to_append = eat(new_board, index+9, value_to_eat= value_to_eat, moves = [moves_1])\n",
    "                    new_moves += to_append\n",
    "                    new_moves.append([[moves_1]])\n",
    "            \n",
    "            if index == 4:\n",
    "                moves_1 = moves.copy()\n",
    "                #backward right capture\n",
    "                if board[index+4]>0 and board[index+9] == 0:\n",
    "                    move_end = index+4\n",
    "                    moves_1.append((index, move_end))\n",
    "                    new_board = board.copy()\n",
    "                    new_board[index] = 0\n",
    "                    new_board[move_end] = 0\n",
    "                    new_board[index+9] = -2\n",
    "                    to_append = eat(new_board, index+9, value_to_eat= value_to_eat, moves = [moves_1])\n",
    "                    new_moves += to_append\n",
    "                    new_moves.append([[moves_1]])\n",
    "                    \n",
    "            if index == 3:\n",
    "                moves_1 = moves.copy()\n",
    "                #backward left capture\n",
    "                if board[index+4]>0 and board[index+7] == 0:\n",
    "                    move_end = index+4\n",
    "                    moves_1.append((index, move_end))\n",
    "                    new_board = board.copy()\n",
    "                    new_board[index] = 0\n",
    "                    new_board[move_end] = 0\n",
    "                    new_board[index+7] = -2\n",
    "                    to_append = eat(new_board, index+7, value_to_eat= value_to_eat, moves = [moves_1])\n",
    "                    new_moves += to_append\n",
    "                    new_moves.append([[moves_1]])\n",
    "            \n",
    "            if index == 7:\n",
    "                moves_1 = moves.copy()\n",
    "                #backwarfd left capture\n",
    "                if board[index+3] >0 and board[index+7] == 0:\n",
    "                    move_end = index+3\n",
    "                    moves_1.append((index, move_end))\n",
    "                    new_board = board.copy()\n",
    "                    new_board[index] = 0\n",
    "                    new_board[move_end] = 0\n",
    "                    new_board[index+7] = -2\n",
    "                    to_append = eat(new_board, index+7, value_to_eat= value_to_eat, moves = [moves_1])\n",
    "                    new_moves += to_append\n",
    "                    new_moves.append([[moves_1]])\n",
    "                    \n",
    "            if index == 27:\n",
    "                moves_1 = moves.copy()\n",
    "                #forward left capture\n",
    "                if board[index-4]>0 and board[index-9] == 0:\n",
    "                    move_end = index-4\n",
    "                    moves_1.append((index, move_end))\n",
    "                    new_board = board.copy()\n",
    "                    new_board[index] = 0\n",
    "                    new_board[move_end] = 0\n",
    "                    new_board[index-9] = -2\n",
    "                    to_append = eat(new_board, index-9, value_to_eat= value_to_eat, moves = [moves_1])\n",
    "                    new_moves += to_append\n",
    "                    new_moves.append([[moves_1]])\n",
    "                    \n",
    "            if index == 31:\n",
    "                moves_1 = moves.copy()\n",
    "                #forwad left capture\n",
    "                if board[index-5]>0 and board[index-9] == 0:\n",
    "                    move_end = index-5\n",
    "                    moves_1.append((index, move_end))\n",
    "                    new_board = board.copy()\n",
    "                    new_board[index] = 0\n",
    "                    new_board[move_end] = 0\n",
    "                    new_board[index-9] = -2\n",
    "                    to_append = eat(new_board, index-9, value_to_eat= value_to_eat, moves = [moves_1])\n",
    "                    new_moves += to_append\n",
    "                    new_moves.append([[moves_1]])\n",
    "                    \n",
    "            if index == 24:\n",
    "                moves_1 = moves.copy()\n",
    "                #forward right capture\n",
    "                if board[index-3]>0 and board[index-7] == 0:\n",
    "                    move_end = index-3\n",
    "                    moves_1.append((index, move_end))\n",
    "                    new_board = board.copy()\n",
    "                    new_board[index] = 0\n",
    "                    new_board[move_end] = 0\n",
    "                    new_board[index-7] = -2\n",
    "                    to_append = eat(new_board, index-7, value_to_eat= value_to_eat, moves = [moves_1])\n",
    "                    new_moves += to_append\n",
    "                    new_moves.append([[moves_1]])\n",
    "                    \n",
    "            if index == 28:\n",
    "                moves_1 = moves.copy()\n",
    "                #forward right capture\n",
    "                if board[index-4]>0 and board[index-7] == 0:\n",
    "                    move_end = index-4\n",
    "                    moves_1.append((index, move_end))\n",
    "                    new_board = board.copy()\n",
    "                    new_board[index] = 0\n",
    "                    new_board[move_end] = 0\n",
    "                    new_board[index-7] = -2\n",
    "                    to_append = eat(new_board, index-7, value_to_eat= value_to_eat, moves = [moves_1])\n",
    "                    new_moves += to_append\n",
    "                    new_moves.append([[moves_1]])\n",
    "                    \n",
    "            #first row central\n",
    "            if index == 1 or index == 2:\n",
    "                moves_1 = moves.copy()\n",
    "                moves_2 = moves.copy()\n",
    "                #two captures - backward left\n",
    "                if board[index+4]>0 and board[index+7] == 0:\n",
    "                    move_end = index+4\n",
    "                    moves_1.append((index, move_end))\n",
    "                    new_board = board.copy()\n",
    "                    new_board[index] = 0\n",
    "                    new_board[move_end] = 0\n",
    "                    new_board[index+7] = -2\n",
    "                    to_append = eat(new_board, index+7, value_to_eat= value_to_eat, moves = [moves_1])\n",
    "                    new_moves += to_append\n",
    "                    new_moves.append([[moves_1]])\n",
    "\n",
    "                #backward right\n",
    "                if board[index+5]>0 and board[index+9] == 0:\n",
    "                    move_end = index+5\n",
    "                    moves_2.append((index, move_end))\n",
    "                    new_board = board.copy()\n",
    "                    new_board[index] = 0\n",
    "                    new_board[move_end] = 0\n",
    "                    new_board[index+9] = -2\n",
    "                    to_append = eat(new_board, index+9, value_to_eat= value_to_eat, moves = [moves_2])\n",
    "                    new_moves += to_append\n",
    "                    new_moves.append([[moves_2]])\n",
    "                    \n",
    "            #last row central\n",
    "            if index == 29 or index == 30:\n",
    "                moves_1 = moves.copy()\n",
    "                moves_2 = moves.copy()\n",
    "                #two captures - forward left\n",
    "                if board[index-5] >0 and board[index-9] == 0:\n",
    "                    move_end = index-5\n",
    "                    moves_1.append((index, move_end))\n",
    "                    new_board = board.copy()\n",
    "                    new_board[index] = 0\n",
    "                    new_board[move_end] = 0\n",
    "                    new_board[index-9] = -2\n",
    "                    to_append = eat(new_board, index-9, value_to_eat= value_to_eat, moves = [moves_1])\n",
    "                    new_moves += to_append\n",
    "                    new_moves.append([[moves_1]])\n",
    "\n",
    "                #forward right\n",
    "                if board[index-4] >0 and board[index-7] == 0:\n",
    "                    move_end = index-4\n",
    "                    moves_2.append((index, move_end))\n",
    "                    new_board = board.copy()\n",
    "                    new_board[index] = 0\n",
    "                    new_board[move_end] = 0\n",
    "                    new_board[index-7] = -2\n",
    "                    to_append = eat(new_board, index-7, value_to_eat= value_to_eat, moves = [moves_2])\n",
    "                    new_moves += to_append\n",
    "                    new_moves.append([[moves_2]])\n",
    "                    \n",
    "            #left side \n",
    "            if index == 12 or index == 20:\n",
    "                #two capture forward right\n",
    "                moves_1 = moves.copy()\n",
    "                moves_2 = moves.copy()\n",
    "                if board[index-4] >0 and board[index-7] == 0:\n",
    "                    move_end = index-4\n",
    "                    moves_1.append((index, move_end))\n",
    "                    new_board = board.copy()\n",
    "                    new_board[index] = 0\n",
    "                    new_board[move_end] = 0\n",
    "                    new_board[index-7] = -2\n",
    "                    to_append = eat(new_board, index-7, value_to_eat= value_to_eat, moves = [moves_1])\n",
    "                    new_moves += to_append\n",
    "                    new_moves.append([[moves_1]])\n",
    "\n",
    "                #backward right\n",
    "                if board[index+4] >0 and board[index+9] == 0:\n",
    "                    move_end = index+4\n",
    "                    moves_2.append((index, move_end))\n",
    "                    new_board = board.copy()\n",
    "                    new_board[index] = 0\n",
    "                    new_board[move_end] = 0\n",
    "                    new_board[index+9] = -2\n",
    "                    to_append = eat(new_board, index+9, value_to_eat= value_to_eat, moves = [moves_2])\n",
    "                    new_moves += to_append\n",
    "                    new_moves.append([[moves_2]])\n",
    "                \n",
    "            #right side\n",
    "            if index == 11 or index == 19:\n",
    "                #two captures forward left\n",
    "                moves_1 = moves.copy()\n",
    "                moves_2 = moves.copy()\n",
    "                if board[index-4] >0 and board[index-9] == 0:\n",
    "                    move_end = index-4\n",
    "                    moves_1.append((index, move_end))\n",
    "                    new_board = board.copy()\n",
    "                    new_board[index] = 0\n",
    "                    new_board[move_end] = 0\n",
    "                    new_board[index-9] = -2\n",
    "                    to_append = eat(new_board, index-9, value_to_eat= value_to_eat, moves = [moves_1])\n",
    "                    new_moves += to_append\n",
    "                    new_moves.append([[moves_1]])\n",
    "\n",
    "                #backward left\n",
    "                if board[index+4] >0 and board[index+7] == 0:\n",
    "                    move_end = index+4\n",
    "                    moves_2.append((index, move_end))\n",
    "                    new_board = board.copy()\n",
    "                    new_board[index] = 0\n",
    "                    new_board[move_end] = 0\n",
    "                    new_board[index+7] = -2\n",
    "                    to_append = eat(new_board, index+7, value_to_eat= value_to_eat, moves = [moves_2])\n",
    "                    new_moves += to_append\n",
    "                    new_moves.append([[moves_2]])\n",
    "                    \n",
    "            #second row central\n",
    "            if index == 5 or index == 6:\n",
    "                #two captures - backward left\n",
    "                moves_1 = moves.copy()\n",
    "                moves_2 = moves.copy()\n",
    "                if board[index+3] >0 and board[index+7] == 0:\n",
    "                    move_end = index+3\n",
    "                    moves_1.append((index, move_end))\n",
    "                    new_board = board.copy()\n",
    "                    new_board[index] = 0\n",
    "                    new_board[move_end] = 0\n",
    "                    new_board[index+7] = -2\n",
    "                    to_append = eat(new_board, index+7, value_to_eat= value_to_eat, moves = [moves_1])\n",
    "                    new_moves += to_append\n",
    "                    new_moves.append([[moves_1]])\n",
    "\n",
    "                #backward right\n",
    "                if board[index+4] >0 and board[index+9] == 0:\n",
    "                    move_end = index+4\n",
    "                    moves_2.append((index, move_end))\n",
    "                    new_board = board.copy()\n",
    "                    new_board[index] = 0\n",
    "                    new_board[move_end] = 0\n",
    "                    new_board[index+9] = -2\n",
    "                    to_append = eat(new_board, index+9, value_to_eat= value_to_eat, moves = [moves_2])\n",
    "                    new_moves += to_append\n",
    "                    new_moves.append([[moves_2]])\n",
    "                    \n",
    "            #second to last row central\n",
    "            if index == 25 or index == 26:\n",
    "                #two captures - forward left\n",
    "                moves_1 = moves.copy()\n",
    "                moves_2 = moves.copy()\n",
    "                if board[index-4] >0 and board[index-9] == 0:\n",
    "                    move_end = index-4\n",
    "                    moves_1.append((index, move_end))\n",
    "                    new_board = board.copy()\n",
    "                    new_board[index] = 0\n",
    "                    new_board[move_end] = 0\n",
    "                    new_board[index-9] = -2\n",
    "                    to_append = eat(new_board, index-9, value_to_eat= value_to_eat, moves = [moves_1])\n",
    "                    new_moves += to_append\n",
    "                    new_moves.append([[moves_1]])\n",
    "\n",
    "                #forward right\n",
    "                if board[index-3] >0 and board[index-7] == 0:\n",
    "                    move_end = index-3\n",
    "                    moves_2.append((index, move_end))\n",
    "                    new_board = board.copy()\n",
    "                    new_board[index] = 0\n",
    "                    new_board[move_end] = 0\n",
    "                    new_board[index-7] = -2\n",
    "                    to_append = eat(new_board, index-7, value_to_eat= value_to_eat, moves = [moves_2])\n",
    "                    new_moves += to_append\n",
    "                    new_moves.append([[moves_2]])\n",
    "                    \n",
    "            #second column left\n",
    "            if index == 8 or index == 16:\n",
    "                #two captures - forward right\n",
    "                moves_1 = moves.copy()\n",
    "                moves_2 = moves.copy()\n",
    "                if board[index-3] >0 and board[index-7] == 0:\n",
    "                    move_end = index-3\n",
    "                    moves_1.append((index, move_end))\n",
    "                    new_board = board.copy()\n",
    "                    new_board[index] = 0\n",
    "                    new_board[move_end] = 0\n",
    "                    new_board[index-7] = -2\n",
    "                    to_append = eat(new_board, index-7, value_to_eat= value_to_eat, moves = [moves_1])\n",
    "                    new_moves += to_append\n",
    "                    new_moves.append([[moves_1]])\n",
    "\n",
    "                #backward right\n",
    "                if board[index+5] >0 and board[index+9] == 0:\n",
    "                    move_end = index+5\n",
    "                    moves_2.append((index, move_end))\n",
    "                    new_board = board.copy()\n",
    "                    new_board[index] = 0\n",
    "                    new_board[move_end] = 0\n",
    "                    new_board[index+9] = -2\n",
    "                    to_append = eat(new_board, index+9, value_to_eat= value_to_eat, moves = [moves_2])\n",
    "                    new_moves += to_append\n",
    "                    new_moves.append([[moves_2]])\n",
    "                    \n",
    "            #second column right\n",
    "            if index == 15 or index == 23:\n",
    "                #only two captures - forward left\n",
    "                moves_1 = moves.copy()\n",
    "                moves_2 = moves.copy()\n",
    "                if board[index-5] >0 and board[index-9] == 0:\n",
    "                    move_end = index-5\n",
    "                    moves_1.append((index, move_end))\n",
    "                    new_board = board.copy()\n",
    "                    new_board[index] = 0\n",
    "                    new_board[move_end] = 0\n",
    "                    new_board[index-9] = -2\n",
    "                    to_append = eat(new_board, index-9, value_to_eat= value_to_eat, moves = [moves_1])\n",
    "                    new_moves += to_append\n",
    "                    new_moves.append([[moves_1]])\n",
    "\n",
    "                #backward left\n",
    "                if board[index+3] >0 and board[index+7] == 0:\n",
    "                    move_end = index+3\n",
    "                    moves_2.append((index, move_end))\n",
    "                    new_board = board.copy()\n",
    "                    new_board[index] = 0\n",
    "                    new_board[move_end] = 0\n",
    "                    new_board[index+7] = -2\n",
    "                    to_append = eat(new_board, index+7, value_to_eat= value_to_eat, moves = [moves_2])\n",
    "                    new_moves += to_append\n",
    "                    new_moves.append([[moves_2]])\n",
    "                    \n",
    "            if index == 9 or index == 10 or index == 17 or index == 18:\n",
    "                #four possible capture - forward left\n",
    "                moves_1 = moves.copy()\n",
    "                moves_2 = moves.copy()\n",
    "                moves_3 = moves.copy()\n",
    "                moves_4 = moves.copy()\n",
    "                if board[index-4] >0 and board[index-9] == 0:\n",
    "                    move_end = index-4\n",
    "                    moves_1.append((index, move_end))\n",
    "                    new_board = board.copy()\n",
    "                    new_board[index] = 0\n",
    "                    new_board[move_end] = 0\n",
    "                    new_board[index-9] = -2\n",
    "                    to_append = eat(new_board, index-9, value_to_eat= value_to_eat, moves = [moves_1])\n",
    "                    new_moves += to_append\n",
    "                    new_moves.append([[moves_1]])\n",
    "\n",
    "                #forward right\n",
    "                if board[index-3] >0 and board[index-7] == 0:\n",
    "                    move_end = index-3\n",
    "                    moves_2.append((index, move_end))\n",
    "                    new_board = board.copy()\n",
    "                    new_board[index] = 0\n",
    "                    new_board[move_end] = 0\n",
    "                    new_board[index-7] = -2\n",
    "                    to_append = eat(new_board, index-7, value_to_eat= value_to_eat, moves = [moves_2])\n",
    "                    new_moves += to_append\n",
    "                    new_moves.append([[moves_2]])\n",
    "\n",
    "                #backward left\n",
    "                if board[index+4] >0 and board[index+7] == 0:\n",
    "                    move_end = index+4\n",
    "                    moves_3.append((index, move_end))\n",
    "                    new_board = board.copy()\n",
    "                    new_board[index] = 0\n",
    "                    new_board[move_end] = 0\n",
    "                    new_board[index+7] = -2\n",
    "                    to_append = eat(new_board, index+7, value_to_eat= value_to_eat, moves = [moves_3])\n",
    "                    new_moves += to_append\n",
    "                    new_moves.append([[moves_3]])\n",
    "\n",
    "                #backward right\n",
    "                if board[index+5] >0 and board[index+9] == 0:\n",
    "                    move_end = index+5\n",
    "                    moves_4.append((index, move_end))\n",
    "                    new_board = board.copy()\n",
    "                    new_board[index] = 0\n",
    "                    new_board[move_end] = 0\n",
    "                    new_board[index+9] = -2\n",
    "                    to_append = eat(new_board, index+9, value_to_eat= value_to_eat, moves = [moves_4])\n",
    "                    new_moves += to_append\n",
    "                    new_moves.append([[moves_4]])\n",
    "                    \n",
    "            if index == 13 or index == 14 or index == 21 or index == 22:\n",
    "                #four possible capture - forward left\n",
    "                moves_1 = moves.copy()\n",
    "                moves_2 = moves.copy()\n",
    "                moves_3 = moves.copy()\n",
    "                moves_4 = moves.copy()\n",
    "                if board[index-5] >0 and board[index-9] == 0:\n",
    "                    move_end = index-5\n",
    "                    moves_1.append((index, move_end))\n",
    "                    new_board = board.copy()\n",
    "                    new_board[index] = 0\n",
    "                    new_board[move_end] = 0\n",
    "                    new_board[index-9] = -2\n",
    "                    to_append = eat(new_board, index-9, value_to_eat= value_to_eat, moves = [moves_1])\n",
    "                    new_moves += to_append\n",
    "                    new_moves.append([[moves_1]])\n",
    "\n",
    "                #forward right\n",
    "                if board[index-4] >0 and board[index-7] == 0:\n",
    "                    move_end = index-4\n",
    "                    moves_2.append((index, move_end))\n",
    "                    new_board = board.copy()\n",
    "                    new_board[index] = 0\n",
    "                    new_board[move_end] = 0\n",
    "                    new_board[index-7] = -2\n",
    "                    to_append = eat(new_board, index-7, value_to_eat= value_to_eat, moves = [moves_2])\n",
    "                    new_moves += to_append\n",
    "                    new_moves.append([[moves_2]])\n",
    "\n",
    "                #backward left\n",
    "                if board[index+3] >0 and board[index+7] == 0:\n",
    "                    move_end = index+3\n",
    "                    moves_3.append((index, move_end))\n",
    "                    new_board = board.copy()\n",
    "                    new_board[index] = 0\n",
    "                    new_board[move_end] = 0\n",
    "                    new_board[index+7] = -2\n",
    "                    to_append = eat(new_board, index+7, value_to_eat= value_to_eat, moves = [moves_3])\n",
    "                    new_moves += to_append\n",
    "                    new_moves.append([[moves_3]])\n",
    "\n",
    "                #backward right\n",
    "                if board[index+4] >0 and board[index+9] == 0:\n",
    "                    move_end = index+4\n",
    "                    moves_4.append((index, move_end))\n",
    "                    new_board = board.copy()\n",
    "                    new_board[index] = 0\n",
    "                    new_board[move_end] = 0\n",
    "                    new_board[index+9] = -2\n",
    "                    to_append = eat(new_board, index+9, value_to_eat= value_to_eat, moves = [moves_4])\n",
    "                    new_moves += to_append\n",
    "                    new_moves.append([[moves_4]])\n",
    "\n",
    "\n",
    "    if len(new_moves) == 0:\n",
    "        return new_moves\n",
    "    max_len = max([len(l) for l in new_moves])\n",
    "    new_moves = [l for l in new_moves if len(l) == max_len]\n",
    "    \n",
    "    return combine_list(moves, new_moves)\n",
    "#    pdb.set_trace()\n",
    "#    return final_clean(captures)"
   ]
  },
  {
   "cell_type": "code",
   "execution_count": 8,
   "id": "38f4b7b6",
   "metadata": {},
   "outputs": [],
   "source": [
    "def can_eat(full_state): #out [boolean, dict]\n",
    "    board = full_state[0]#board\n",
    "    color = full_state[1]#color\n",
    "    move = full_state[2]#move - tuple\n",
    "    my_dict = {}\n",
    "    #white\n",
    "    if color == 1:\n",
    "        #index of white pawns\n",
    "        index_list = (np.where(board>0))\n",
    "        index_list = index_list[0]\n",
    "        for index in index_list:\n",
    "            if board[index] == 2:\n",
    "                my_dict[index] = final_clean(eat(board, index, value_to_eat=[-1,-2]))\n",
    "            else:\n",
    "                my_dict[index] = final_clean(eat(board, index, value_to_eat=[-1]))\n",
    "    \n",
    "    #black\n",
    "    if color == -1:\n",
    "        #index of black pawns\n",
    "        index_list = (np.where(board<0))\n",
    "        index_list = index_list[0]\n",
    "        for index in index_list:\n",
    "            if board[index] == -2:\n",
    "                my_dict[index] = final_clean(eat(board, index, value_to_eat=[1,2]))\n",
    "            else:\n",
    "                my_dict[index] = final_clean(eat(board, index, value_to_eat=[1]))\n",
    "    \n",
    "    values = 0\n",
    "    for index, square in enumerate(my_dict):\n",
    "        for val in my_dict[square]:\n",
    "            values += len(val)\n",
    "    #pdb.set_trace()    \n",
    "    if values != 0:\n",
    "        return [True, my_dict]\n",
    "    else:\n",
    "        return [False,0] "
   ]
  },
  {
   "cell_type": "code",
   "execution_count": 9,
   "id": "3ea8d822",
   "metadata": {},
   "outputs": [],
   "source": [
    "#move_piece function when not eating\n",
    "def move_piece(full_state):\n",
    "    agent_turn = full_state[1] #who is playing - black or white\n",
    "\n",
    "    start = full_state[2][0] #randomly selected start position\n",
    "    stop = full_state[2][1] #randomly selected stop position\n",
    "    \n",
    "    agent_start = full_state[0][start] #piece on start space / agent white: +1, black: -1, wQ = +2, bQ = -2, 0 empty\n",
    "    agent_stop = full_state[0][stop] #piece on stop space / agent white: +1, black: -1, wQ = +2, bQ = -2, 0 empty\n",
    "\n",
    "    if agent_turn == 1:#turn is white\n",
    "        if agent_start == 1: #start position occupied by white pawn, check direction\n",
    "            if stop > start:#good direction for white \n",
    "                if agent_stop == 0: #adjacent space is free and can move\n",
    "                    return True #good move for white on free space\n",
    "                else:\n",
    "                    return False #adjacent space is not empty\n",
    "            else:\n",
    "                return False #wrong direction for white\n",
    "        elif agent_start == 2: #start position occupied by white queen, check direction\n",
    "            if agent_stop == 0: #adjacent space is free and can move\n",
    "                return True #good move for white Queen on free space\n",
    "            else:\n",
    "                return False #adjacent space is not free and can't move\n",
    "        else:\n",
    "            return False #start position is empty - no piece on it\n",
    "\n",
    "    elif agent_turn == -1:#turn is black\n",
    "        if agent_start == -1: #start position occupied by black pawn, check direction\n",
    "            if stop < start:#good direction for black \n",
    "                if agent_stop == 0: #adjacent space is free and can move\n",
    "                    return True #good move for black on free space\n",
    "                else:\n",
    "                    return False #adjacent space is not empty\n",
    "            else:\n",
    "                return False #wrong direction for black\n",
    "        elif agent_start == -2: #start position occupied by white queen, check direction\n",
    "            if agent_stop == 0: #adjacent space is free and can move\n",
    "                return True #good move for black Queen on free space\n",
    "            else:\n",
    "                return False #adjacent space is not free and can't move\n",
    "        else:\n",
    "            return False #start position is empty - no piece on it\n",
    "    else:\n",
    "        return False #any other option  "
   ]
  },
  {
   "cell_type": "code",
   "execution_count": 66,
   "id": "7f51fb05",
   "metadata": {
    "scrolled": false
   },
   "outputs": [
    {
     "data": {
      "text/plain": [
       "[True, {3: [[(3, 7), (10, 14), (17, 22)], [(3, 7), (10, 15), (19, 23)]]}]"
      ]
     },
     "execution_count": 66,
     "metadata": {},
     "output_type": "execute_result"
    }
   ],
   "source": [
    "can_eat([board_3, 1, (3,7)])"
   ]
  },
  {
   "cell_type": "code",
   "execution_count": 67,
   "id": "9595c14f",
   "metadata": {
    "scrolled": true
   },
   "outputs": [
    {
     "data": {
      "text/plain": [
       "[(3, 7), (3, 7)]"
      ]
     },
     "execution_count": 67,
     "metadata": {},
     "output_type": "execute_result"
    }
   ],
   "source": [
    "fix_dict(can_eat([board_3, 1, (14,17)])[1])"
   ]
  },
  {
   "cell_type": "code",
   "execution_count": 11,
   "id": "fbbc7d7d",
   "metadata": {},
   "outputs": [],
   "source": [
    "def fix_dict(moves_dict):#return the first move of the longest eating possibility\n",
    "    moves = moves_dict\n",
    "    possible_moves = []\n",
    "    max_eat = 0\n",
    "    for x in moves.values():\n",
    "        for i in x:\n",
    "            if len(i) > max_eat:\n",
    "                max_eat = len(i)\n",
    "    for x in moves.values():\n",
    "        for i in x:\n",
    "            if len(i) == max_eat:\n",
    "                possible_moves.append(i[0])\n",
    "    return possible_moves"
   ]
  },
  {
   "cell_type": "code",
   "execution_count": 12,
   "id": "ea7fdca4",
   "metadata": {},
   "outputs": [],
   "source": [
    "def eating_priority(my_dict, full_state):#eating priority main function IN: dictionary OUT: -> Boolean\n",
    "    move_list = fix_dict(my_dict)\n",
    "    queens = []\n",
    "    eating_queens = []\n",
    "    board = full_state[0]\n",
    "    if len(move_list) == 1:\n",
    "        return move_list[0] == full_state[2]\n",
    "    for x in move_list:\n",
    "        if abs(board[x[0]]) == 2:\n",
    "            queens.append(x)\n",
    "    #print(queens)\n",
    "    if len(queens) == 0:\n",
    "        return full_state[2] in move_list\n",
    "    if len(queens) == 1:\n",
    "        return queens[0] == full_state[2]\n",
    "    for x in queens:\n",
    "        if abs(board[x[1]]) == 2:\n",
    "            eating_queens.append(x)\n",
    "            \n",
    "    return(full_state[2] in eating_queens) if len(eating_queens) != 0 else (full_state[2] in queens)"
   ]
  },
  {
   "cell_type": "code",
   "execution_count": 73,
   "id": "bdd50b7b",
   "metadata": {
    "scrolled": false
   },
   "outputs": [
    {
     "data": {
      "text/plain": [
       "True"
      ]
     },
     "execution_count": 73,
     "metadata": {},
     "output_type": "execute_result"
    }
   ],
   "source": [
    "eating_priority(can_eat([board_3, 1, (2,7)])[1], [board_3, 1, (3, 7)])"
   ]
  },
  {
   "cell_type": "code",
   "execution_count": 13,
   "id": "9d906bd6",
   "metadata": {},
   "outputs": [],
   "source": [
    "def referee(action_space, full_state):#full_state to be called with baseline_game with full_state defined as local variable\n",
    "    #OUT: [BOOLEAN, dict of prio move(s)]\n",
    "    A = can_eat(full_state)[0] #boolean\n",
    "    my_dict = can_eat(full_state)[1] #dictionary\n",
    "    #print('full_state_ref',full_state)\n",
    "    if A == True:\n",
    "        B = eating_priority(my_dict, full_state)\n",
    "        if B == True:\n",
    "            res = [True, my_dict]\n",
    "            return res\n",
    "        else:\n",
    "            return [False, 0]\n",
    "    elif A == False:\n",
    "        C = move_piece(full_state)\n",
    "        if C == True:\n",
    "            return [True, 0]\n",
    "        else: \n",
    "            return [False, 0]\n",
    "    else:\n",
    "        return [False, 0]"
   ]
  },
  {
   "cell_type": "code",
   "execution_count": 220,
   "id": "ef976d68",
   "metadata": {},
   "outputs": [
    {
     "data": {
      "image/png": "[encoded data removed]",
      "text/plain": [
       "<Figure size 360x360 with 1 Axes>"
      ]
     },
     "metadata": {
      "needs_background": "light"
     },
     "output_type": "display_data"
    }
   ],
   "source": [
    "vis(board_3)"
   ]
  },
  {
   "cell_type": "code",
   "execution_count": 222,
   "id": "089fc531",
   "metadata": {
    "scrolled": true
   },
   "outputs": [
    {
     "data": {
      "text/plain": [
       "[True, {2: [[(2, 7), (11, 15)]]}]"
      ]
     },
     "execution_count": 222,
     "metadata": {},
     "output_type": "execute_result"
    }
   ],
   "source": [
    "referee(action_space, [board_3, 1, (2,7)])"
   ]
  },
  {
   "cell_type": "markdown",
   "id": "b66ed652",
   "metadata": {},
   "source": [
    "# Next State"
   ]
  },
  {
   "cell_type": "code",
   "execution_count": 158,
   "id": "ead7e2f5",
   "metadata": {},
   "outputs": [],
   "source": [
    "def capture(board,move): #works inside next_state\n",
    "    #move = move[0]\n",
    "    #print('move', move)\n",
    "    new_board = board.copy()\n",
    "    row = math.floor(move[0] / 4)\n",
    "    start_col = move[0] % 4\n",
    "    end_col = move[1] % 4\n",
    "    #print(row,start_col,end_col)\n",
    "    if row % 2 == 0:\n",
    "        if move[0] < move[1]:\n",
    "            if end_col <= start_col:\n",
    "                #down left\n",
    "                new_board[move[1]] = 0\n",
    "                new_board[move[0]+7] = new_board[move[0]]\n",
    "                new_board[move[0]] = 0\n",
    "                pass\n",
    "            elif end_col > start_col:\n",
    "                #down right\n",
    "                new_board[move[1]] = 0\n",
    "                new_board[move[0]+9] = new_board[move[0]]\n",
    "                new_board[move[0]] = 0\n",
    "        if move[0] > move[1]:\n",
    "            if end_col<= start_col:\n",
    "                #up left\n",
    "                new_board[move[1]] = 0\n",
    "                new_board[move[0]-9] = new_board[move[0]]\n",
    "                new_board[move[0]] = 0\n",
    "            if end_col > start_col:\n",
    "                #up right\n",
    "                new_board[move[1]] = 0\n",
    "                new_board[move[0]-7] = new_board[move[0]]\n",
    "                new_board[move[0]] = 0\n",
    "    elif row % 2 != 0:\n",
    "        if move[0] < move[1]:\n",
    "            if end_col < start_col:\n",
    "                #down left\n",
    "                new_board[move[1]] = 0\n",
    "                new_board[move[0]+7] = new_board[move[0]]\n",
    "                new_board[move[0]] = 0\n",
    "            elif end_col >= start_col:\n",
    "                #down right\n",
    "                new_board[move[1]] = 0\n",
    "                new_board[move[0]+9] = new_board[move[0]]\n",
    "                new_board[move[0]] = 0\n",
    "        if move[0] > move[1]:\n",
    "            if end_col< start_col:\n",
    "                #up left\n",
    "                new_board[move[1]] = 0\n",
    "                new_board[move[0]-9] = new_board[move[0]]\n",
    "                new_board[move[0]] = 0\n",
    "            if end_col >= start_col:\n",
    "                #up right\n",
    "                new_board[move[1]] = 0\n",
    "                new_board[move[0]-7] = new_board[move[0]]\n",
    "                new_board[move[0]] = 0\n",
    "    return new_board"
   ]
  },
  {
   "cell_type": "code",
   "execution_count": 164,
   "id": "940fc111",
   "metadata": {},
   "outputs": [
    {
     "data": {
      "image/png": "[encoded data removed]",
      "text/plain": [
       "<Figure size 360x360 with 1 Axes>"
      ]
     },
     "metadata": {
      "needs_background": "light"
     },
     "output_type": "display_data"
    }
   ],
   "source": [
    "vis(capture(board_3, (2,7)))"
   ]
  },
  {
   "cell_type": "code",
   "execution_count": 168,
   "id": "58de0d15",
   "metadata": {},
   "outputs": [],
   "source": [
    "def normal_move(board,move): #works inside next_state\n",
    "    new_board = board.copy()\n",
    "    if move[1] >= 28 and new_board[move[0]] == 1:\n",
    "        new_board[move[1]] = 2\n",
    "        new_board[move[0]] = 0\n",
    "        \n",
    "    elif move[1] <= 3 and new_board[move[0]] == -1:\n",
    "        #pdb.set_trace()\n",
    "        new_board[move[1]] = -2\n",
    "        new_board[move[0]] = 0\n",
    "    \n",
    "    else:\n",
    "        new_board[move[1]] = new_board[move[0]]\n",
    "        new_board[move[0]] = 0\n",
    "    return new_board"
   ]
  },
  {
   "cell_type": "code",
   "execution_count": 176,
   "id": "f12da992",
   "metadata": {
    "scrolled": false
   },
   "outputs": [
    {
     "data": {
      "image/png": "[encoded data removed]",
      "text/plain": [
       "<Figure size 360x360 with 1 Axes>"
      ]
     },
     "metadata": {
      "needs_background": "light"
     },
     "output_type": "display_data"
    }
   ],
   "source": [
    "vis(normal_move(board_3, (24,20)))"
   ]
  },
  {
   "cell_type": "code",
   "execution_count": 18,
   "id": "93bb2339",
   "metadata": {},
   "outputs": [],
   "source": [
    "def nextState(full_state,move): #compute next state IN: list with board np.array, int for color, tuple for move\n",
    "    board = full_state[0]\n",
    "    if board[move[1]] == 0:\n",
    "        board = normal_move(board,move)\n",
    "        return board\n",
    "    else:\n",
    "        board = capture(board,move)\n",
    "    return board"
   ]
  },
  {
   "cell_type": "code",
   "execution_count": 239,
   "id": "a83784f8",
   "metadata": {},
   "outputs": [
    {
     "data": {
      "text/plain": [
       "{2: [[(2, 7), (11, 15)]]}"
      ]
     },
     "execution_count": 239,
     "metadata": {},
     "output_type": "execute_result"
    }
   ],
   "source": [
    "referee(action_space, [board_3,1,(2,7)])[1]"
   ]
  },
  {
   "cell_type": "code",
   "execution_count": 258,
   "id": "32ebc33c",
   "metadata": {},
   "outputs": [],
   "source": [
    "def nextStatev2(full_state,move,moves_dict):\n",
    "    new_board = full_state[0].copy()\n",
    "    moves = moves_dict\n",
    "    possible_moves = []\n",
    "    max_eat = 0\n",
    "    if moves_dict == 0:\n",
    "        new_board = nextState([new_board, full_state[1], full_state[2]],move)\n",
    "        return new_board\n",
    "    for x in moves.values():\n",
    "        for i in x:\n",
    "            if len(i) > max_eat:\n",
    "                max_eat = len(i)\n",
    "    for x in moves.values():\n",
    "        for i in x:\n",
    "            if len(i) == max_eat:\n",
    "                if i[0] == full_state[2]:\n",
    "                    possible_moves.append(i)\n",
    "    for x in possible_moves:\n",
    "        for i in x:\n",
    "            new_board = nextState([new_board, full_state[1], full_state[2]],i)\n",
    "    for x in range(0,4):\n",
    "        if new_board[x] == -1:\n",
    "            new_board[x] = -2\n",
    "    for x in range(28,32):\n",
    "        if new_board[x] == 1:\n",
    "            new_board[x] = 2\n",
    "    \n",
    "    return new_board"
   ]
  },
  {
   "cell_type": "code",
   "execution_count": 254,
   "id": "707821da",
   "metadata": {
    "scrolled": false
   },
   "outputs": [
    {
     "data": {
      "image/png": "[encoded data removed]",
      "text/plain": [
       "<Figure size 360x360 with 1 Axes>"
      ]
     },
     "metadata": {
      "needs_background": "light"
     },
     "output_type": "display_data"
    }
   ],
   "source": [
    "vis(nextStatev2([board_3,1,(2,7)], (2,7), referee(action_space, [board_3,1,(2,7)])[1]))"
   ]
  },
  {
   "cell_type": "code",
   "execution_count": 248,
   "id": "ebbf7299",
   "metadata": {},
   "outputs": [
    {
     "data": {
      "image/png": "[encoded data removed]",
      "text/plain": [
       "<Figure size 360x360 with 1 Axes>"
      ]
     },
     "metadata": {
      "needs_background": "light"
     },
     "output_type": "display_data"
    }
   ],
   "source": [
    "vis(board_3)"
   ]
  },
  {
   "cell_type": "markdown",
   "id": "643070a7",
   "metadata": {},
   "source": [
    "# Game Baseline"
   ]
  },
  {
   "cell_type": "code",
   "execution_count": 20,
   "id": "2195ec61",
   "metadata": {},
   "outputs": [],
   "source": [
    "def baseline_game(action_space,state): \n",
    "    legal_bl = False\n",
    "    i = 0 #delete for real model\n",
    "    while legal_bl == False:\n",
    "        i += 1 #delete for real model\n",
    "        #create a move by extracting a tuple\n",
    "        move = random_select(action_space)\n",
    "        \n",
    "        # full_state = [board (np.array), agent color (int), move (tuple)]\n",
    "        full_state = complete_state(state, move)\n",
    "        \n",
    "        output_ref = referee(action_space,full_state) #out [True, move]\n",
    "        legal_bl = output_ref[0]\n",
    "        if legal_bl == True or i > 999:#delete (i) for real model\n",
    "            if i < 999:\n",
    "                print(f\"Last move: {move}\")\n",
    "                print(f\"# iterations: {i} -> True\")\n",
    "            elif i >= 999:\n",
    "                print(f\"Last try: {move}\")\n",
    "                print(f\"# iterations: {i} -> False\")\n",
    "            break\n",
    "        else:\n",
    "            continue\n",
    "    \n",
    "#     print(f\"Last move: {move}\")\n",
    "#     print(f\"# iterations: {i} -> True\")\n",
    "    \n",
    "    if i > 999: #to deal with iteration and not make a move if it doesnt hit the right move - usefull for modelling only\n",
    "        print(Fore.RED + \"No move found & nothing changed! \" + Style.RESET_ALL, end = '')#delete for real model\n",
    "        if state[1] > 0:\n",
    "            print(Fore.RED + \"White plays again!\" + Style.RESET_ALL)\n",
    "        else:\n",
    "            print(Fore.RED + \"Black plays again!\" + Style.RESET_ALL)       \n",
    "        board = state[0]#delete for real model\n",
    "        if state[1] > 0:\n",
    "            agent = 1\n",
    "        else:\n",
    "            agent = -1        \n",
    "    else:#delete for real model\n",
    "        a_dict = output_ref[1]\n",
    "        move = full_state[2]\n",
    "        board = nextStatev2(full_state,move, a_dict)# -> no.array / new board based ### Check this, as I am not sure what is the board to be taken into account       \n",
    "        if state[1] > 0:\n",
    "            agent = -1\n",
    "        else:\n",
    "            agent = 1\n",
    "    state = [board,agent]#new state\n",
    "    return state #list [board = np.array, agent = integer]"
   ]
  },
  {
   "cell_type": "markdown",
   "id": "e1877f4d",
   "metadata": {},
   "source": [
    "# Visualization"
   ]
  },
  {
   "cell_type": "code",
   "execution_count": 21,
   "id": "1c24570d",
   "metadata": {},
   "outputs": [],
   "source": [
    "def visualize(state, counter): #state: list (board: np.array, agent: int +1 or -1) -> this function just prints\n",
    "    board = state[0].tolist()\n",
    "    agent = state[1]\n",
    "    full_board = []\n",
    "    new_board = np.array_split(board, 8)\n",
    "    i = 0\n",
    "    finished_board = []\n",
    "    for i in range(0,8):\n",
    "        if i%2 == 0:\n",
    "            row =[]\n",
    "            for x in new_board[i]:\n",
    "                row.append(0)\n",
    "                row.append(x)\n",
    "        else:\n",
    "            row = []\n",
    "            for x in new_board[i]:\n",
    "                row.append(x)\n",
    "                row.append(0)\n",
    "        finished_board.append(row)\n",
    "    ary = np.array(finished_board)\n",
    "    brd = checkerboard_plot(ary, fmt = '%d', figsize=(5, 5), fontsize = 15)\n",
    "    plt.show()"
   ]
  },
  {
   "cell_type": "code",
   "execution_count": 22,
   "id": "06c96191",
   "metadata": {},
   "outputs": [],
   "source": [
    "def winner(state):\n",
    "    sum_points = np.sum(state[0])# -> sum of board\n",
    "    if sum_points > 0:\n",
    "        win_color = '=> Game over! The winner is White :)'\n",
    "    elif sum_points < 0:\n",
    "        win_color = '=> Game over! The winner is Black :)'\n",
    "    else:\n",
    "        win_color = '=> Game over! No winner this time! :('\n",
    "    return win_color"
   ]
  },
  {
   "cell_type": "markdown",
   "id": "b38a6e83",
   "metadata": {},
   "source": [
    "# Game"
   ]
  },
  {
   "cell_type": "code",
   "execution_count": 23,
   "id": "0e1acd6a",
   "metadata": {},
   "outputs": [],
   "source": [
    "#Game script\n",
    "\n",
    "def game(action_space, state, counter):  #counter = 1  \n",
    "    print(\"Initial Board - Turn: White\")\n",
    "    visualize(state,counter) #initial visualization\n",
    "    t=0\n",
    "    for t in range(50):# -> 50 plays\n",
    "        play_next = input(Fore.WHITE + Back.GREEN +'Press to play ' + Style.RESET_ALL)\n",
    "        print()\n",
    "        if state[1] > 0: #it provides the player for the active move\n",
    "            player = 'White'\n",
    "            next_player = 'Black'\n",
    "            print(f\"Play: {counter } / Played by: {player} / Next player: {next_player}\")#display active play\n",
    "        else:\n",
    "            player = 'Black'\n",
    "            next_player = 'White'\n",
    "            print(f\"Play: {counter} / Played by: {player} / Next player: {next_player}\")#display active play\n",
    "        counter = t+2\n",
    "        state = baseline_game(action_space,state)#[board,agent] #state = list [board = np.array, agent = integer]\n",
    "        visualize(state,counter)\n",
    "    print()\n",
    "    print(winner(state))"
   ]
  },
  {
   "cell_type": "markdown",
   "id": "76de0f79",
   "metadata": {},
   "source": [
    "# Execute"
   ]
  },
  {
   "cell_type": "code",
   "execution_count": 280,
   "id": "8007d431",
   "metadata": {},
   "outputs": [],
   "source": [
    "#initial board\n",
    "board_1 = np.array([1,1,1,1,1,1,1,1,1,1,1,1,0,0,0,0,0,0,0,0,-1,-1,-1,-1,-1,-1,-1,-1,-1,-1,-1,-1])\n",
    "\n",
    "state[0] = board_1"
   ]
  },
  {
   "cell_type": "code",
   "execution_count": 259,
   "id": "e88d2a7a",
   "metadata": {},
   "outputs": [
    {
     "data": {
      "text/plain": [
       "[True,\n",
       " {0: [[]],\n",
       "  2: [[]],\n",
       "  3: [[]],\n",
       "  4: [[]],\n",
       "  5: [[]],\n",
       "  6: [[]],\n",
       "  7: [[]],\n",
       "  8: [[]],\n",
       "  9: [[]],\n",
       "  10: [[]],\n",
       "  11: [[]],\n",
       "  12: [[]],\n",
       "  13: [[]],\n",
       "  14: [[(14, 17), (21, 25)]]}]"
      ]
     },
     "execution_count": 259,
     "metadata": {},
     "output_type": "execute_result"
    }
   ],
   "source": [
    "referee(action_space, [board_2, 1, (14,17)])"
   ]
  },
  {
   "cell_type": "code",
   "execution_count": 121,
   "id": "b8420e70",
   "metadata": {},
   "outputs": [],
   "source": [
    "board_1 = np.array([0,0,0,0,-1,0,0,0,0,0,0,0,0,0,0,0,0,0,0,0,0,0,0,0,0,0,0,1,0,0,0,0])\n",
    "\n",
    "state[0] = board_3"
   ]
  },
  {
   "cell_type": "code",
   "execution_count": 266,
   "id": "d514bbb5",
   "metadata": {},
   "outputs": [],
   "source": [
    "board_3 = np.array([0,0,0,0,-1,0,0,0,0,0,0,0,0,0,0,0,0,0,0,0,0,0,1,0,-1,-1,0,0,0,0,0,0])\n",
    "board_3[2] = 1\n",
    "board_3[6] = -1\n",
    "board_3[7] = -1\n",
    "board_3[11] = 0\n",
    "board_3[3] = 0\n",
    "board_3[14] = 0\n",
    "board_3[15] = 0\n",
    "board_3[18] = 0\n",
    "board_3[22] = 0\n",
    "board_3[23] = 0\n",
    "\n",
    "state[0] = board_3"
   ]
  },
  {
   "cell_type": "code",
   "execution_count": 267,
   "id": "325e7d1c",
   "metadata": {
    "scrolled": true
   },
   "outputs": [
    {
     "data": {
      "image/png": "[encoded data removed]",
      "text/plain": [
       "<Figure size 360x360 with 1 Axes>"
      ]
     },
     "metadata": {
      "needs_background": "light"
     },
     "output_type": "display_data"
    }
   ],
   "source": [
    "vis(board_3)"
   ]
  },
  {
   "cell_type": "code",
   "execution_count": 281,
   "id": "17716cef",
   "metadata": {
    "scrolled": true
   },
   "outputs": [
    {
     "name": "stdout",
     "output_type": "stream",
     "text": [
      "Initial Board - Turn: White\n"
     ]
    },
    {
     "data": {
      "image/png": "[encoded data removed]",
      "text/plain": [
       "<Figure size 360x360 with 1 Axes>"
      ]
     },
     "metadata": {
      "needs_background": "light"
     },
     "output_type": "display_data"
    },
    {
     "name": "stdout",
     "output_type": "stream",
     "text": [
      "Press to play \n",
      "\n",
      "Play: 1 / Played by: White / Next player: Black\n",
      "Last move: (8, 12)\n",
      "# iterations: 1 -> True\n"
     ]
    },
    {
     "data": {
      "image/png": "[encoded data removed]",
      "text/plain": [
       "<Figure size 360x360 with 1 Axes>"
      ]
     },
     "metadata": {
      "needs_background": "light"
     },
     "output_type": "display_data"
    },
    {
     "name": "stdout",
     "output_type": "stream",
     "text": [
      "Press to play \n",
      "\n",
      "Play: 2 / Played by: Black / Next player: White\n",
      "Last move: (22, 18)\n",
      "# iterations: 15 -> True\n"
     ]
    },
    {
     "data": {
      "image/png": "[encoded data removed]",
      "text/plain": [
       "<Figure size 360x360 with 1 Axes>"
      ]
     },
     "metadata": {
      "needs_background": "light"
     },
     "output_type": "display_data"
    },
    {
     "name": "stdout",
     "output_type": "stream",
     "text": [
      "Press to play \n",
      "\n",
      "Play: 3 / Played by: White / Next player: Black\n",
      "Last move: (10, 15)\n",
      "# iterations: 2 -> True\n"
     ]
    },
    {
     "data": {
      "image/png": "[encoded data removed]",
      "text/plain": [
       "<Figure size 360x360 with 1 Axes>"
      ]
     },
     "metadata": {
      "needs_background": "light"
     },
     "output_type": "display_data"
    },
    {
     "name": "stdout",
     "output_type": "stream",
     "text": [
      "Press to play \n",
      "\n",
      "Play: 4 / Played by: Black / Next player: White\n",
      "Last move: (23, 19)\n",
      "# iterations: 19 -> True\n"
     ]
    },
    {
     "data": {
      "image/png": "[encoded data removed]",
      "text/plain": [
       "<Figure size 360x360 with 1 Axes>"
      ]
     },
     "metadata": {
      "needs_background": "light"
     },
     "output_type": "display_data"
    },
    {
     "name": "stdout",
     "output_type": "stream",
     "text": [
      "Press to play \n",
      "\n",
      "Play: 5 / Played by: White / Next player: Black\n",
      "Last move: (15, 18)\n",
      "# iterations: 17 -> True\n"
     ]
    },
    {
     "data": {
      "image/png": "[encoded data removed]",
      "text/plain": [
       "<Figure size 360x360 with 1 Axes>"
      ]
     },
     "metadata": {
      "needs_background": "light"
     },
     "output_type": "display_data"
    },
    {
     "name": "stdout",
     "output_type": "stream",
     "text": [
      "Press to play \n",
      "\n",
      "Play: 6 / Played by: Black / Next player: White\n",
      "Last move: (26, 22)\n",
      "# iterations: 101 -> True\n"
     ]
    },
    {
     "data": {
      "image/png": "[encoded data removed]",
      "text/plain": [
       "<Figure size 360x360 with 1 Axes>"
      ]
     },
     "metadata": {
      "needs_background": "light"
     },
     "output_type": "display_data"
    },
    {
     "name": "stdout",
     "output_type": "stream",
     "text": [
      "Press to play \n",
      "\n",
      "Play: 7 / Played by: White / Next player: Black\n",
      "Last move: (5, 8)\n",
      "# iterations: 1 -> True\n"
     ]
    },
    {
     "data": {
      "image/png": "[encoded data removed]",
      "text/plain": [
       "<Figure size 360x360 with 1 Axes>"
      ]
     },
     "metadata": {
      "needs_background": "light"
     },
     "output_type": "display_data"
    },
    {
     "name": "stdout",
     "output_type": "stream",
     "text": [
      "Press to play \n",
      "\n",
      "Play: 8 / Played by: Black / Next player: White\n",
      "Last move: (20, 16)\n",
      "# iterations: 3 -> True\n"
     ]
    },
    {
     "data": {
      "image/png": "[encoded data removed]",
      "text/plain": [
       "<Figure size 360x360 with 1 Axes>"
      ]
     },
     "metadata": {
      "needs_background": "light"
     },
     "output_type": "display_data"
    },
    {
     "name": "stdout",
     "output_type": "stream",
     "text": [
      "Press to play \n",
      "\n",
      "Play: 9 / Played by: White / Next player: Black\n",
      "Last move: (11, 15)\n",
      "# iterations: 20 -> True\n"
     ]
    },
    {
     "data": {
      "image/png": "[encoded data removed]",
      "text/plain": [
       "<Figure size 360x360 with 1 Axes>"
      ]
     },
     "metadata": {
      "needs_background": "light"
     },
     "output_type": "display_data"
    },
    {
     "name": "stdout",
     "output_type": "stream",
     "text": [
      "Press to play \n",
      "\n",
      "Play: 10 / Played by: Black / Next player: White\n",
      "Last move: (19, 15)\n",
      "# iterations: 31 -> True\n"
     ]
    },
    {
     "data": {
      "image/png": "[encoded data removed]",
      "text/plain": [
       "<Figure size 360x360 with 1 Axes>"
      ]
     },
     "metadata": {
      "needs_background": "light"
     },
     "output_type": "display_data"
    },
    {
     "name": "stdout",
     "output_type": "stream",
     "text": [
      "Press to play \n",
      "\n",
      "Play: 11 / Played by: White / Next player: Black\n",
      "Last move: (6, 10)\n",
      "# iterations: 38 -> True\n"
     ]
    },
    {
     "data": {
      "image/png": "[encoded data removed]",
      "text/plain": [
       "<Figure size 360x360 with 1 Axes>"
      ]
     },
     "metadata": {
      "needs_background": "light"
     },
     "output_type": "display_data"
    },
    {
     "name": "stdout",
     "output_type": "stream",
     "text": [
      "Press to play \n",
      "\n",
      "Play: 12 / Played by: Black / Next player: White\n",
      "Last move: (25, 22)\n",
      "# iterations: 19 -> True\n"
     ]
    },
    {
     "data": {
      "image/png": "[encoded data removed]",
      "text/plain": [
       "<Figure size 360x360 with 1 Axes>"
      ]
     },
     "metadata": {
      "needs_background": "light"
     },
     "output_type": "display_data"
    },
    {
     "name": "stdout",
     "output_type": "stream",
     "text": [
      "Press to play \n",
      "\n",
      "Play: 13 / Played by: White / Next player: Black\n",
      "Last move: (9, 13)\n",
      "# iterations: 27 -> True\n"
     ]
    },
    {
     "data": {
      "image/png": "[encoded data removed]",
      "text/plain": [
       "<Figure size 360x360 with 1 Axes>"
      ]
     },
     "metadata": {
      "needs_background": "light"
     },
     "output_type": "display_data"
    },
    {
     "name": "stdout",
     "output_type": "stream",
     "text": [
      "Press to play \n",
      "\n",
      "Play: 14 / Played by: Black / Next player: White\n",
      "Last move: (16, 13)\n",
      "# iterations: 37 -> True\n"
     ]
    },
    {
     "data": {
      "image/png": "[encoded data removed]",
      "text/plain": [
       "<Figure size 360x360 with 1 Axes>"
      ]
     },
     "metadata": {
      "needs_background": "light"
     },
     "output_type": "display_data"
    },
    {
     "name": "stdout",
     "output_type": "stream",
     "text": [
      "Press to play \n",
      "\n",
      "Play: 15 / Played by: White / Next player: Black\n",
      "Last move: (15, 19)\n",
      "# iterations: 3 -> True\n"
     ]
    },
    {
     "data": {
      "image/png": "[encoded data removed]",
      "text/plain": [
       "<Figure size 360x360 with 1 Axes>"
      ]
     },
     "metadata": {
      "needs_background": "light"
     },
     "output_type": "display_data"
    },
    {
     "name": "stdout",
     "output_type": "stream",
     "text": [
      "Press to play \n",
      "\n",
      "Play: 16 / Played by: Black / Next player: White\n",
      "Last move: (30, 25)\n",
      "# iterations: 3 -> True\n"
     ]
    },
    {
     "data": {
      "image/png": "[encoded data removed]",
      "text/plain": [
       "<Figure size 360x360 with 1 Axes>"
      ]
     },
     "metadata": {
      "needs_background": "light"
     },
     "output_type": "display_data"
    },
    {
     "ename": "KeyboardInterrupt",
     "evalue": "Interrupted by user",
     "output_type": "error",
     "traceback": [
      "\u001b[0;31m---------------------------------------------------------------------------\u001b[0m",
      "\u001b[0;31mKeyboardInterrupt\u001b[0m                         Traceback (most recent call last)",
      "Input \u001b[0;32mIn [281]\u001b[0m, in \u001b[0;36m<module>\u001b[0;34m\u001b[0m\n\u001b[0;32m----> 1\u001b[0m \u001b[43mgame\u001b[49m\u001b[43m(\u001b[49m\u001b[43maction_space\u001b[49m\u001b[43m,\u001b[49m\u001b[43mstate\u001b[49m\u001b[43m,\u001b[49m\u001b[43mcounter\u001b[49m\u001b[43m)\u001b[49m\n",
      "Input \u001b[0;32mIn [23]\u001b[0m, in \u001b[0;36mgame\u001b[0;34m(action_space, state, counter)\u001b[0m\n\u001b[1;32m      6\u001b[0m t\u001b[38;5;241m=\u001b[39m\u001b[38;5;241m0\u001b[39m\n\u001b[1;32m      7\u001b[0m \u001b[38;5;28;01mfor\u001b[39;00m t \u001b[38;5;129;01min\u001b[39;00m \u001b[38;5;28mrange\u001b[39m(\u001b[38;5;241m50\u001b[39m):\u001b[38;5;66;03m# -> 5 plays\u001b[39;00m\n\u001b[0;32m----> 8\u001b[0m     play_next \u001b[38;5;241m=\u001b[39m \u001b[38;5;28;43minput\u001b[39;49m\u001b[43m(\u001b[49m\u001b[43mFore\u001b[49m\u001b[38;5;241;43m.\u001b[39;49m\u001b[43mWHITE\u001b[49m\u001b[43m \u001b[49m\u001b[38;5;241;43m+\u001b[39;49m\u001b[43m \u001b[49m\u001b[43mBack\u001b[49m\u001b[38;5;241;43m.\u001b[39;49m\u001b[43mGREEN\u001b[49m\u001b[43m \u001b[49m\u001b[38;5;241;43m+\u001b[39;49m\u001b[38;5;124;43m'\u001b[39;49m\u001b[38;5;124;43mPress to play \u001b[39;49m\u001b[38;5;124;43m'\u001b[39;49m\u001b[43m \u001b[49m\u001b[38;5;241;43m+\u001b[39;49m\u001b[43m \u001b[49m\u001b[43mStyle\u001b[49m\u001b[38;5;241;43m.\u001b[39;49m\u001b[43mRESET_ALL\u001b[49m\u001b[43m)\u001b[49m\n\u001b[1;32m      9\u001b[0m     \u001b[38;5;28mprint\u001b[39m()\n\u001b[1;32m     10\u001b[0m     \u001b[38;5;28;01mif\u001b[39;00m state[\u001b[38;5;241m1\u001b[39m] \u001b[38;5;241m>\u001b[39m \u001b[38;5;241m0\u001b[39m: \u001b[38;5;66;03m#it provides the player for the active move\u001b[39;00m\n",
      "File \u001b[0;32m/opt/homebrew/lib/python3.9/site-packages/ipykernel/kernelbase.py:1044\u001b[0m, in \u001b[0;36mKernel.raw_input\u001b[0;34m(self, prompt)\u001b[0m\n\u001b[1;32m   1040\u001b[0m \u001b[38;5;28;01mif\u001b[39;00m \u001b[38;5;129;01mnot\u001b[39;00m \u001b[38;5;28mself\u001b[39m\u001b[38;5;241m.\u001b[39m_allow_stdin:\n\u001b[1;32m   1041\u001b[0m     \u001b[38;5;28;01mraise\u001b[39;00m StdinNotImplementedError(\n\u001b[1;32m   1042\u001b[0m         \u001b[38;5;124m\"\u001b[39m\u001b[38;5;124mraw_input was called, but this frontend does not support input requests.\u001b[39m\u001b[38;5;124m\"\u001b[39m\n\u001b[1;32m   1043\u001b[0m     )\n\u001b[0;32m-> 1044\u001b[0m \u001b[38;5;28;01mreturn\u001b[39;00m \u001b[38;5;28;43mself\u001b[39;49m\u001b[38;5;241;43m.\u001b[39;49m\u001b[43m_input_request\u001b[49m\u001b[43m(\u001b[49m\n\u001b[1;32m   1045\u001b[0m \u001b[43m    \u001b[49m\u001b[38;5;28;43mstr\u001b[39;49m\u001b[43m(\u001b[49m\u001b[43mprompt\u001b[49m\u001b[43m)\u001b[49m\u001b[43m,\u001b[49m\n\u001b[1;32m   1046\u001b[0m \u001b[43m    \u001b[49m\u001b[38;5;28;43mself\u001b[39;49m\u001b[38;5;241;43m.\u001b[39;49m\u001b[43m_parent_ident\u001b[49m\u001b[43m[\u001b[49m\u001b[38;5;124;43m\"\u001b[39;49m\u001b[38;5;124;43mshell\u001b[39;49m\u001b[38;5;124;43m\"\u001b[39;49m\u001b[43m]\u001b[49m\u001b[43m,\u001b[49m\n\u001b[1;32m   1047\u001b[0m \u001b[43m    \u001b[49m\u001b[38;5;28;43mself\u001b[39;49m\u001b[38;5;241;43m.\u001b[39;49m\u001b[43mget_parent\u001b[49m\u001b[43m(\u001b[49m\u001b[38;5;124;43m\"\u001b[39;49m\u001b[38;5;124;43mshell\u001b[39;49m\u001b[38;5;124;43m\"\u001b[39;49m\u001b[43m)\u001b[49m\u001b[43m,\u001b[49m\n\u001b[1;32m   1048\u001b[0m \u001b[43m    \u001b[49m\u001b[43mpassword\u001b[49m\u001b[38;5;241;43m=\u001b[39;49m\u001b[38;5;28;43;01mFalse\u001b[39;49;00m\u001b[43m,\u001b[49m\n\u001b[1;32m   1049\u001b[0m \u001b[43m\u001b[49m\u001b[43m)\u001b[49m\n",
      "File \u001b[0;32m/opt/homebrew/lib/python3.9/site-packages/ipykernel/kernelbase.py:1089\u001b[0m, in \u001b[0;36mKernel._input_request\u001b[0;34m(self, prompt, ident, parent, password)\u001b[0m\n\u001b[1;32m   1086\u001b[0m             \u001b[38;5;28;01mbreak\u001b[39;00m\n\u001b[1;32m   1087\u001b[0m \u001b[38;5;28;01mexcept\u001b[39;00m \u001b[38;5;167;01mKeyboardInterrupt\u001b[39;00m:\n\u001b[1;32m   1088\u001b[0m     \u001b[38;5;66;03m# re-raise KeyboardInterrupt, to truncate traceback\u001b[39;00m\n\u001b[0;32m-> 1089\u001b[0m     \u001b[38;5;28;01mraise\u001b[39;00m \u001b[38;5;167;01mKeyboardInterrupt\u001b[39;00m(\u001b[38;5;124m\"\u001b[39m\u001b[38;5;124mInterrupted by user\u001b[39m\u001b[38;5;124m\"\u001b[39m) \u001b[38;5;28;01mfrom\u001b[39;00m \u001b[38;5;28mNone\u001b[39m\n\u001b[1;32m   1090\u001b[0m \u001b[38;5;28;01mexcept\u001b[39;00m \u001b[38;5;167;01mException\u001b[39;00m:\n\u001b[1;32m   1091\u001b[0m     \u001b[38;5;28mself\u001b[39m\u001b[38;5;241m.\u001b[39mlog\u001b[38;5;241m.\u001b[39mwarning(\u001b[38;5;124m\"\u001b[39m\u001b[38;5;124mInvalid Message:\u001b[39m\u001b[38;5;124m\"\u001b[39m, exc_info\u001b[38;5;241m=\u001b[39m\u001b[38;5;28;01mTrue\u001b[39;00m)\n",
      "\u001b[0;31mKeyboardInterrupt\u001b[0m: Interrupted by user"
     ]
    }
   ],
   "source": [
    "game(action_space,state,counter) #test game"
   ]
  },
  {
   "cell_type": "code",
   "execution_count": null,
   "id": "229b11ca",
   "metadata": {},
   "outputs": [],
   "source": [
    "\n",
    "def vis(board): #state: list (board: np.array, agent: int +1 or -1) -> this function just prints\n",
    "#    board = state[0].tolist()\n",
    "#    agent = state[1]\n",
    "#    full_board = []\n",
    "    new_board = np.array_split(board, 8)\n",
    "    i = 0\n",
    "    finished_board = []\n",
    "    for i in range(0,8):\n",
    "        if i%2 == 0:\n",
    "            row =[]\n",
    "            for x in new_board[i]:\n",
    "                row.append(0)\n",
    "                row.append(x)\n",
    "        else:\n",
    "            row = []\n",
    "            for x in new_board[i]:\n",
    "                row.append(x)\n",
    "                row.append(0)\n",
    "        finished_board.append(row)\n",
    "    ary = np.array(finished_board)\n",
    "    brd = checkerboard_plot(ary, fmt = '%d', figsize=(5, 5), fontsize = 15)\n",
    "    plt.show()"
   ]
  },
  {
   "cell_type": "code",
   "execution_count": 32,
   "id": "cecd3efa",
   "metadata": {
    "collapsed": true
   },
   "outputs": [
    {
     "data": {
      "image/png": "[encoded data removed]",
      "text/plain": [
       "<Figure size 360x360 with 1 Axes>"
      ]
     },
     "metadata": {
      "needs_background": "light"
     },
     "output_type": "display_data"
    }
   ],
   "source": [
    "vis(board_3)"
   ]
  },
  {
   "cell_type": "code",
   "execution_count": 103,
   "id": "3265ac2c",
   "metadata": {},
   "outputs": [],
   "source": [
    "board_2 = np.array([1,1,1,1,1,1,1,1,1,1,1,1,1,0,0,0,0,0,0,0,-1,0,-1,-1,-1,-1,-1,-1,-1,-1,-1,-1])\n",
    "board_2[17]= -2\n",
    "board_2[18]= -2\n",
    "board_2[23]= 0\n",
    "board_2[13]= 1\n",
    "board_2[14]= 2\n",
    "board_2[5]= 1\n",
    "board_2[6]= 1\n",
    "board_2[26]= 0\n",
    "board_2[30]= 0\n",
    "board_2[1]= 0"
   ]
  },
  {
   "cell_type": "code",
   "execution_count": null,
   "id": "eb53646c",
   "metadata": {},
   "outputs": [],
   "source": []
  }
 ],
 "metadata": {
  "kernelspec": {
   "display_name": "Python 3 (ipykernel)",
   "language": "python",
   "name": "python3"
  },
  "language_info": {
   "codemirror_mode": {
    "name": "ipython",
    "version": 3
   },
   "file_extension": ".py",
   "mimetype": "text/x-python",
   "name": "python",
   "nbconvert_exporter": "python",
   "pygments_lexer": "ipython3",
   "version": "3.9.10"
  },
  "toc": {
   "base_numbering": 1,
   "nav_menu": {},
   "number_sections": true,
   "sideBar": true,
   "skip_h1_title": false,
   "title_cell": "Table of Contents",
   "title_sidebar": "Contents",
   "toc_cell": false,
   "toc_position": {
    "height": "calc(100% - 180px)",
    "left": "10px",
    "top": "150px",
    "width": "182px"
   },
   "toc_section_display": true,
   "toc_window_display": true
  },
  "varInspector": {
   "cols": {
    "lenName": 16,
    "lenType": 16,
    "lenVar": 40
   },
   "kernels_config": {
    "python": {
     "delete_cmd_postfix": "",
     "delete_cmd_prefix": "del ",
     "library": "var_list.py",
     "varRefreshCmd": "print(var_dic_list())"
    },
    "r": {
     "delete_cmd_postfix": ") ",
     "delete_cmd_prefix": "rm(",
     "library": "var_list.r",
     "varRefreshCmd": "cat(var_dic_list()) "
    }
   },
   "types_to_exclude": [
    "module",
    "function",
    "builtin_function_or_method",
    "instance",
    "_Feature"
   ],
   "window_display": false
  }
 },
 "nbformat": 4,
 "nbformat_minor": 5
}
