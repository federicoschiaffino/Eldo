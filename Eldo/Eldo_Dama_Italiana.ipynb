{
 "cells": [
  {
   "cell_type": "markdown",
   "id": "18c03538",
   "metadata": {
    "heading_collapsed": true
   },
   "source": [
    "# Eldo"
   ]
  },
  {
   "cell_type": "markdown",
   "id": "780ff909",
   "metadata": {
    "heading_collapsed": true
   },
   "source": [
    "# Checkers full code"
   ]
  },
  {
   "cell_type": "markdown",
   "id": "3f776612",
   "metadata": {
    "hidden": true
   },
   "source": [
    "1) Checkers action space\n",
    "2) referee for legal moves\n",
    "3) game baseline working om random picks\n",
    "4) basic python visualization output"
   ]
  },
  {
   "cell_type": "markdown",
   "id": "dc0ca356",
   "metadata": {},
   "source": [
    "# Input"
   ]
  },
  {
   "cell_type": "code",
   "execution_count": 1,
   "id": "de1a80d9",
   "metadata": {},
   "outputs": [],
   "source": [
    "#used libraries\n",
    "import numpy as np\n",
    "import random\n",
    "import math\n",
    "import matplotlib.pyplot as plt\n",
    "from mlxtend.plotting import checkerboard_plot\n",
    "from colorama import Fore, Back, Style\n",
    "import pdb\n",
    "from collections import Counter"
   ]
  },
  {
   "cell_type": "code",
   "execution_count": 2,
   "id": "ca616e7a",
   "metadata": {},
   "outputs": [],
   "source": [
    "action_space = [(0,4),#0\n",
    " (1,4),#1\n",
    " (1,5),#2\n",
    " (2,5),#3\n",
    " (2,6),#4\n",
    " (3,6),#5\n",
    " (3,7),#6\n",
    " (4,0),#7\n",
    " (4,1),#8\n",
    " (4,8),#9\n",
    " (4,9),#10\n",
    " (5,1),#11\n",
    " (5,2),#12\n",
    " (5,9),#13\n",
    " (5,10),#14\n",
    " (6,2),#15\n",
    " (6,3),#16\n",
    " (6,10),#17\n",
    " (6,11),#18\n",
    " (7,3),#19\n",
    " (7,11),#20\n",
    " (8,4),#21\n",
    " (8,12),#22\n",
    " (9,4),#23\n",
    " (9,5),#24\n",
    " (9,12),#25\n",
    " (9,13),#26\n",
    " (10,5),#27\n",
    " (10,6),#28\n",
    " (10,13),#29\n",
    " (10,14),#30\n",
    " (11,6),#31\n",
    " (11,7),#32\n",
    " (11,14),#33\n",
    " (11,15),#34\n",
    " (12,8),#35\n",
    " (12,9),#36\n",
    " (12,16),#37\n",
    " (12,17),#38\n",
    " (13,9),#39\n",
    " (13,10),#40\n",
    " (13,17),#41\n",
    " (13,18),#42\n",
    " (14,10),#43\n",
    " (14,11),#44\n",
    " (14,18),#45\n",
    " (14,19),#46\n",
    " (15,11),#47\n",
    " (15,19),#48\n",
    " (16, 12),#49\n",
    " (16, 20),#50\n",
    " (17, 12),#51\n",
    " (17, 13),#52\n",
    " (17, 20),#53\n",
    " (17, 21),#54\n",
    " (18, 13),#55\n",
    " (18, 14),#56\n",
    " (18, 21),#57\n",
    " (18, 22),#58\n",
    " (19, 14),#59\n",
    " (19, 15),#60\n",
    " (19, 22),#61\n",
    " (19, 23),#62\n",
    " (20, 16),#63\n",
    " (20, 17),#64\n",
    " (20, 24),#65\n",
    " (20, 25),#66\n",
    " (21, 17),#67\n",
    " (21, 18),#68\n",
    " (21, 25),#69\n",
    " (21, 26),#70\n",
    " (22, 18),#71\n",
    " (22, 19),#72\n",
    " (22, 26),#73\n",
    " (22, 27),#74\n",
    " (23, 19),#75\n",
    " (23, 27),#76\n",
    " (24, 20),#77\n",
    " (24, 28),#78\n",
    " (25, 20),#79\n",
    " (25, 21),#80\n",
    " (25, 28),#81\n",
    " (25, 29),#82\n",
    " (26, 21),#83\n",
    " (26, 22),#84\n",
    " (26, 29),#85\n",
    " (26, 30),#86\n",
    " (27, 22),#87\n",
    " (27, 23),#88\n",
    " (27, 30),#89\n",
    " (27, 31),#90\n",
    " (28, 24),#91\n",
    " (28, 25),#92\n",
    " (29, 25),#93\n",
    " (29, 26),#94\n",
    " (30, 26),#95\n",
    " (30, 27),#96\n",
    " (31, 27)]#97"
   ]
  },
  {
   "cell_type": "code",
   "execution_count": 3,
   "id": "f6c279ee",
   "metadata": {},
   "outputs": [],
   "source": [
    "#initial state\n",
    "agent = -1 #white\n",
    "board = np.array([1,1,1,1,1,1,1,1,1,1,1,1,0,0,0,0,0,0,0,0,-1,-1,-1,-1,-1,-1,-1,-1,-1,-1,-1,-1])#initial board\n",
    "state = [board,agent]# -> list with state\n",
    "full_state = [board,agent,(8,12)] # -> initializes the full_state variable which is changed in the baseline\n",
    "counter = 1"
   ]
  },
  {
   "cell_type": "markdown",
   "id": "feb5ac1d",
   "metadata": {},
   "source": [
    "# Referee"
   ]
  },
  {
   "cell_type": "code",
   "execution_count": 4,
   "id": "65ae248b",
   "metadata": {},
   "outputs": [],
   "source": [
    "def random_select(action_space): #returns random tuple of movement from action_space\n",
    "    m = action_space[random.randint(0,97)]\n",
    "    return m\n",
    "\n",
    "def complete_state(state, move): #creates a complete state list with [board, color, move]\n",
    "    board = state[0]\n",
    "    agent = state[1]\n",
    "    full_state = [board, agent, move]\n",
    "    return full_state"
   ]
  },
  {
   "cell_type": "code",
   "execution_count": 5,
   "id": "3ca15a9a",
   "metadata": {},
   "outputs": [],
   "source": [
    "def combine_list(new_moves, to_append):\n",
    "    res = []\n",
    "    for nm in new_moves:\n",
    "        for ta in to_append:\n",
    "            combi = nm + ta\n",
    "            res.append(combi) \n",
    "    return res"
   ]
  },
  {
   "cell_type": "code",
   "execution_count": 6,
   "id": "3a0400b7",
   "metadata": {},
   "outputs": [],
   "source": [
    "def iter_clean(ll):\n",
    "    res = []\n",
    "    for l in ll:\n",
    "        if type(l) == tuple:\n",
    "            res.append(l)\n",
    "        else:\n",
    "            res_iter = iter_clean(l)\n",
    "            res += res_iter\n",
    "    return res\n",
    "\n",
    "\n",
    "def remove_duplicates(lst):    \n",
    "    ll = iter_clean(lst)\n",
    "    return [(a, b) for i, [a, b] in enumerate(ll) if not any(c == b for _, c in ll[:i])]\n",
    "\n",
    "\n",
    "def final_clean(ll):\n",
    "    res = []\n",
    "    res_2 = []\n",
    "    for l in ll:\n",
    "        clean_l = remove_duplicates(l)\n",
    "        res.append(clean_l)\n",
    "    for k in res:\n",
    "        if k not in res_2:\n",
    "            res_2.append(k)\n",
    "    max_len = max([len(l) for l in res_2])\n",
    "    res_2 = [l for l in res_2 if len(l) == max_len]\n",
    "\n",
    "    return res_2\n",
    "\n",
    "def clean_val(l):\n",
    "    my_list = []\n",
    "    my_list.append(l[0])\n",
    "    my_list.append(len(l))\n",
    "    return my_list"
   ]
  },
  {
   "cell_type": "code",
   "execution_count": 7,
   "id": "70238992",
   "metadata": {},
   "outputs": [],
   "source": [
    "def first_queen(opponent_eat, i = 0):\n",
    "    count = Counter(opponent_eat[i])\n",
    "    if count[2] == 0:\n",
    "        i += 1 \n",
    "        if i >= len(opponent_eat):\n",
    "            return opponent_eat\n",
    "        else:\n",
    "            return first_queen(opponent_eat, i)\n",
    "    \n",
    "    elif count[2] == 1:\n",
    "        #returns the index of the first queen encountered\n",
    "        return opponent_eat[i].index(max(opponent_eat[i]))\n",
    "    \n",
    "    elif count[2] > 1:\n",
    "        index_del = list_duplicates_of(opponent_eat[i], 1)\n",
    "        #[index_del.append(opponent_eat[i].index(eat)) for eat in opponent_eat[i] if eat == 1]\n",
    "        i += 1\n",
    "        if i >= len(opponent_eat):\n",
    "            return(opponent_eat)\n",
    "        \n",
    "        else:\n",
    "            for k in range(len(opponent_eat)):\n",
    "                for item in index_del:\n",
    "                    opponent_eat[k][item] = 0\n",
    "            return first_queen(opponent_eat, i)\n",
    "        "
   ]
  },
  {
   "cell_type": "code",
   "execution_count": 8,
   "id": "58861ca6",
   "metadata": {},
   "outputs": [],
   "source": [
    "def list_duplicates_of(seq,item):\n",
    "    start_at = -1\n",
    "    locs = []\n",
    "    while True:\n",
    "        try:\n",
    "            loc = seq.index(item,start_at+1)\n",
    "        except ValueError:\n",
    "            break\n",
    "        else:\n",
    "            locs.append(loc)\n",
    "            start_at = loc\n",
    "    return locs"
   ]
  },
  {
   "cell_type": "code",
   "execution_count": 9,
   "id": "d9f2205c",
   "metadata": {},
   "outputs": [],
   "source": [
    "def eat(board, index, value_to_eat, moves = [[]]):\n",
    "    new_moves = [[]]\n",
    "    #pawn\n",
    "    if len(value_to_eat) == 1: \n",
    "        #black\n",
    "        if value_to_eat[0] < 0:\n",
    "            if index < 24:\n",
    "                #if you are on right side\n",
    "                if index%8 == 7: \n",
    "                    #only backward left capture \n",
    "                    moves_1 = moves.copy()\n",
    "                    if board[index+4] == -1 and board[index+7] == 0: \n",
    "                        move_end = index+4\n",
    "                        moves_1.append((index, move_end))\n",
    "                        new_board = board.copy()\n",
    "                        new_board[index] = 0\n",
    "                        new_board[move_end] = 0\n",
    "                        new_board[index+7] = 1\n",
    "                        to_append = eat(new_board, index+7, value_to_eat= value_to_eat, moves = [moves_1])\n",
    "                        new_moves += to_append\n",
    "                        new_moves.append([[moves_1]])\n",
    "                \n",
    "                #if you are close to right side        \n",
    "                if index%8 == 3:\n",
    "                    #only backward left capture\n",
    "                    moves_1 = moves.copy()\n",
    "                    if board[index+3] == -1 and board[index+7] == 0: \n",
    "                        move_end = index+3\n",
    "                        moves_1.append((index, move_end))\n",
    "                        new_board = board.copy()\n",
    "                        new_board[index] = 0\n",
    "                        new_board[move_end] = 0\n",
    "                        new_board[index+7] = 1\n",
    "                        to_append = eat(new_board, index+7, value_to_eat= value_to_eat, moves = [moves_1])\n",
    "                        new_moves += to_append\n",
    "                        new_moves.append([[moves_1]])\n",
    "                        \n",
    "                #if you are on left side\n",
    "                if index%8 == 0:\n",
    "                    #only backward right capture\n",
    "                    moves_1 = moves.copy()\n",
    "                    if board[index+4] == -1 and board[index+9] == 0: \n",
    "                        move_end = index+4\n",
    "                        moves_1.append((index, move_end))\n",
    "                        new_board = board.copy()\n",
    "                        new_board[index] = 0\n",
    "                        new_board[move_end] = 0\n",
    "                        new_board[index+9] = 1\n",
    "                        to_append = eat(new_board, index+9, value_to_eat= value_to_eat, moves = [moves_1])\n",
    "                        new_moves += to_append\n",
    "                        new_moves.append([[moves_1]])\n",
    "\n",
    "                #if you are close to left side\n",
    "                if index%8 == 4:\n",
    "                    #only backward right capture\n",
    "                    moves_1 = moves.copy()\n",
    "                    if board[index+5] == -1 and board[index+9] == 0: \n",
    "                        move_end = index+5\n",
    "                        moves_1.append((index, move_end))\n",
    "                        new_board = board.copy()\n",
    "                        new_board[index] = 0\n",
    "                        new_board[move_end] = 0\n",
    "                        new_board[index+9] = 1\n",
    "                        to_append = eat(new_board, index+9, value_to_eat= value_to_eat, moves = [moves_1])\n",
    "                        new_moves += to_append\n",
    "                        new_moves.append([[moves_1]])\n",
    "                \n",
    "                #if you are in odd row\n",
    "                if index%8 == 5 or index%8 == 6:\n",
    "                    moves_1 = moves.copy()\n",
    "                    moves_2 = moves.copy()\n",
    "                    #two captures possible backward left or right\n",
    "                    if board[index+4]== -1 and board[index+7] == 0:\n",
    "                        move_end = index+4\n",
    "                        moves_1.append((index, move_end))\n",
    "                        new_board = board.copy()\n",
    "                        new_board[index] = 0\n",
    "                        new_board[move_end] = 0\n",
    "                        new_board[index+7] = 1\n",
    "                        to_append = eat(new_board, index+7, value_to_eat= value_to_eat, moves = [moves_1])\n",
    "                        new_moves += to_append\n",
    "                        new_moves.append([[moves_1]])\n",
    "\n",
    "                    if board[index+5] == -1 and board[index+9] == 0:\n",
    "                        move_end = index+5\n",
    "                        moves_2.append((index, move_end))\n",
    "                        new_board = board.copy()\n",
    "                        new_board[index] = 0\n",
    "                        new_board[move_end] = 0\n",
    "                        new_board[index+9] = 1\n",
    "                        to_append = eat(new_board, index+9, value_to_eat= value_to_eat, moves = [moves_2])\n",
    "                        new_moves += to_append\n",
    "                        new_moves.append([[moves_2]])\n",
    "                \n",
    "                #if you are in even row\n",
    "                if index%8 == 1 or index%8 == 2:\n",
    "                    moves_1 = moves.copy()\n",
    "                    moves_2 = moves.copy()\n",
    "                    #two captures possible backward left and right\n",
    "                    if board[index+3]== -1 and board[index+7] == 0:\n",
    "                        move_end = index+3\n",
    "                        moves_1.append((index, move_end))\n",
    "                        new_board = board.copy()\n",
    "                        new_board[index] = 0\n",
    "                        new_board[move_end] = 0\n",
    "                        new_board[index+7] = 1\n",
    "                        to_append = eat(new_board, index+7, value_to_eat= value_to_eat, moves = [moves_1])\n",
    "                        new_moves += to_append\n",
    "                        new_moves.append([[moves_1]])\n",
    "                        \n",
    "                    if board[index+4] == -1 and board[index+9] == 0:\n",
    "                        move_end = index +4\n",
    "                        moves_2.append((index, move_end))\n",
    "                        new_board = board.copy()\n",
    "                        new_board[index] = 0\n",
    "                        new_board[move_end] = 0\n",
    "                        new_board[index+9] = 1\n",
    "                        moves_2.append([(index, move_end)])\n",
    "                        to_append = eat(new_board, index+9, value_to_eat= value_to_eat, moves = [moves_2])\n",
    "                        new_moves += to_append\n",
    "                        new_moves.append([[moves_2]])\n",
    "\n",
    "        \n",
    "        #white\n",
    "        if value_to_eat[0] > 0:\n",
    "            if index > 7:\n",
    "                #if you are on right side\n",
    "                if index%8 == 7: \n",
    "                    #only forward left capture \n",
    "                    moves_1 = moves.copy()\n",
    "                    if board[index-4]== 1 and board[index-9] == 0: \n",
    "                        move_end = index-4\n",
    "                        moves_1.append((index, move_end))\n",
    "                        new_board = board.copy()\n",
    "                        new_board[index] = 0\n",
    "                        new_board[move_end] = 0\n",
    "                        new_board[index-9] = -1\n",
    "                        to_append = eat(new_board, index-9, value_to_eat= value_to_eat, moves = [moves_1])\n",
    "                        new_moves += to_append\n",
    "                        new_moves.append([[moves_1]])\n",
    "                \n",
    "                #if you are close to right side        \n",
    "                if index%8 == 3:\n",
    "                    #only forward left capture\n",
    "                    moves_1 = moves.copy()\n",
    "                    if board[index-5]== 1 and board[index-9] == 0: \n",
    "                        move_end = index-5\n",
    "                        moves_1.append((index, move_end))\n",
    "                        new_board = board.copy()\n",
    "                        new_board[index] = 0\n",
    "                        new_board[move_end] = 0\n",
    "                        new_board[index-9] = -1\n",
    "                        to_append = eat(new_board, index-9, value_to_eat= value_to_eat, moves = [moves_1])\n",
    "                        new_moves += to_append\n",
    "                        new_moves.append([[moves_1]])\n",
    "                    \n",
    "                #if you are on left side\n",
    "                if index%8 == 0:\n",
    "                    #only forward right capture\n",
    "                    moves_1 = moves.copy()\n",
    "                    if board[index-4]== 1 and board[index-7] == 0:\n",
    "                        move_end = index-4\n",
    "                        moves_1.append((index, move_end))\n",
    "                        new_board = board.copy()\n",
    "                        new_board[index] = 0\n",
    "                        new_board[move_end] = 0\n",
    "                        new_board[index-7] = -1\n",
    "                        to_append = eat(new_board, index-7, value_to_eat= value_to_eat, moves = [moves_1])\n",
    "                        new_moves += to_append\n",
    "                        new_moves.append([[moves_1]])\n",
    "\n",
    "                #if you are close to left side\n",
    "                if index%8 == 4:\n",
    "                    #only forward right capture\n",
    "                    moves_1 = moves.copy()\n",
    "                    if board[index-3] == 1 and board[index-7] == 0: \n",
    "                        move_end = index-3\n",
    "                        moves_1.append((index, move_end))\n",
    "                        new_board = board.copy()\n",
    "                        new_board[index] = 0\n",
    "                        new_board[move_end] = 0\n",
    "                        new_board[index-7] = -1\n",
    "                        to_append = eat(new_board, index-7, value_to_eat= value_to_eat, moves = [moves_1])\n",
    "                        new_moves += to_append\n",
    "                        new_moves.append([[moves_1]])\n",
    "                \n",
    "                #if you are in even row\n",
    "                if index%8 == 5 or index%8 == 6: \n",
    "                    #two captures possible forward left or right\n",
    "                    moves_1 = moves.copy()\n",
    "                    moves_2 = moves.copy()\n",
    "                    if board[index-4]== 1 and board[index-9] == 0:\n",
    "                        move_end = index-4\n",
    "                        moves_1.append((index, move_end))\n",
    "                        new_board = board.copy()\n",
    "                        new_board[index] = 0\n",
    "                        new_board[move_end] = 0\n",
    "                        new_board[index-9] = -1\n",
    "                        to_append = eat(new_board, index-9, value_to_eat= value_to_eat, moves = [moves_1])\n",
    "                        new_moves += to_append\n",
    "                        new_moves.append([[moves_1]])\n",
    "\n",
    "                    if board[index-3] == 1 and board[index-7] == 0:\n",
    "                        move_end = index-3\n",
    "                        moves_2.append((index, move_end))\n",
    "                        new_board = board.copy()\n",
    "                        new_board[index] = 0\n",
    "                        new_board[move_end] = 0\n",
    "                        new_board[index-7] = -1\n",
    "                        to_append = eat(new_board, index-7, value_to_eat= value_to_eat, moves = [moves_2])\n",
    "                        new_moves += to_append\n",
    "                        new_moves.append([[moves_2]])\n",
    "\n",
    "                #if you are in odd row\n",
    "                if index%8 == 1 or index%8 == 2:\n",
    "                    #two captures possible forward left or right\n",
    "                    moves_1 = moves.copy()\n",
    "                    moves_2 = moves.copy()\n",
    "                    if board[index-5]== 1 and board[index-9] == 0:\n",
    "                        move_end = index-5\n",
    "                        moves_1.append((index, move_end))\n",
    "                        new_board = board.copy()\n",
    "                        new_board[index] = 0\n",
    "                        new_board[move_end] = 0\n",
    "                        new_board[index-9] = -1\n",
    "                        to_append = eat(new_board, index-9, value_to_eat= value_to_eat, moves = [moves_1])\n",
    "                        new_moves += to_append\n",
    "                        new_moves.append([[moves_1]])\n",
    "\n",
    "                    if board[index-4] == 1 and board[index-7] == 0:\n",
    "                        move_end = index-4\n",
    "                        moves_2.append((index, move_end))\n",
    "                        new_board = board.copy()\n",
    "                        new_board[index] = 0\n",
    "                        new_board[move_end] = 0\n",
    "                        new_board[index-7] = -1\n",
    "                        to_append = eat(new_board, index-7, value_to_eat= value_to_eat, moves = [moves_2])\n",
    "                        new_moves += to_append\n",
    "                        new_moves.append([[moves_2]])\n",
    "\n",
    "    #queen\n",
    "    if len(value_to_eat) == 2:\n",
    "        #black\n",
    "        if value_to_eat[0]<0:\n",
    "            #8 unique capture cases \n",
    "            if index == 4:\n",
    "                #backward right capture\n",
    "                moves_1 = moves.copy()\n",
    "                if board[index+5] <0 and board[index+9] == 0:\n",
    "                    move_end = index+5\n",
    "                    moves_1.append((index, move_end))\n",
    "                    new_board = board.copy()\n",
    "                    new_board[index] = 0\n",
    "                    new_board[move_end] = 0\n",
    "                    new_board[index+9] = 2\n",
    "                    to_append = eat(new_board, index+9, value_to_eat= value_to_eat, moves = [moves_1])\n",
    "                    new_moves += to_append\n",
    "                    new_moves.append([[moves_1]])\n",
    "            \n",
    "            if index == 0:\n",
    "                #backward right capture\n",
    "                moves_1 = moves.copy()\n",
    "                if board[index+4]<0 and board[index+9] == 0:\n",
    "                    move_end = index+4\n",
    "                    moves_1.append((index, move_end))\n",
    "                    new_board = board.copy()\n",
    "                    new_board[index] = 0\n",
    "                    new_board[move_end] = 0\n",
    "                    new_board[index+9] = 2\n",
    "                    to_append = eat(new_board, index+9, value_to_eat= value_to_eat, moves = [moves_1])\n",
    "                    new_moves += to_append\n",
    "                    new_moves.append([[moves_1]])\n",
    "                    \n",
    "            if index == 7:\n",
    "                #backward left capture\n",
    "                moves_1 = moves.copy()\n",
    "                if board[index+4]<0 and board[index+7] == 0:\n",
    "                    move_end = index+4\n",
    "                    moves_1.append((index, move_end))\n",
    "                    new_board = board.copy()\n",
    "                    new_board[index] = 0\n",
    "                    new_board[move_end] = 0\n",
    "                    new_board[index+7] = 2\n",
    "                    to_append = eat(new_board, index+7, value_to_eat= value_to_eat, moves = [moves_1])\n",
    "                    new_moves += to_append\n",
    "                    new_moves.append([[moves_1]])\n",
    "            \n",
    "            if index == 3:\n",
    "                #backwarfd left capture\n",
    "                moves_1 = moves.copy()\n",
    "                if board[index+3] <0 and board[index+7] == 0:\n",
    "                    move_end = index+3\n",
    "                    moves_1.append((index, move_end))\n",
    "                    new_board = board.copy()\n",
    "                    new_board[index] = 0\n",
    "                    new_board[move_end] = 0\n",
    "                    new_board[index+7] = 2\n",
    "                    to_append = eat(new_board, index+7, value_to_eat= value_to_eat, moves = [moves_1])\n",
    "                    new_moves += to_append\n",
    "                    new_moves.append([[moves_1]])\n",
    "                    \n",
    "            if index == 31:\n",
    "                #forward left capture\n",
    "                moves_1 = moves.copy()\n",
    "                if board[index-4]<0 and board[index-9] == 0:\n",
    "                    move_end = index-4\n",
    "                    moves_1.append((index, move_end))\n",
    "                    new_board = board.copy()\n",
    "                    new_board[index] = 0\n",
    "                    new_board[move_end] = 0\n",
    "                    new_board[index-9] = 2\n",
    "                    to_append = eat(new_board, index-9, value_to_eat= value_to_eat, moves = [moves_1])\n",
    "                    new_moves += to_append\n",
    "                    new_moves.append([[moves_1]])\n",
    "                    \n",
    "            if index == 27:\n",
    "                #forwad left capture\n",
    "                moves_1 = moves.copy()\n",
    "                if board[index-5]<0 and board[index-9] == 0:\n",
    "                    move_end = index-5\n",
    "                    moves_1.append((index, move_end))\n",
    "                    new_board = board.copy()\n",
    "                    new_board[index] = 0\n",
    "                    new_board[move_end] = 0\n",
    "                    new_board[index-9] = 2\n",
    "                    to_append = eat(new_board, index-9, value_to_eat= value_to_eat, moves = [moves_1])\n",
    "                    new_moves += to_append\n",
    "                    new_moves.append([[moves_1]])\n",
    "                    \n",
    "            if index == 28:\n",
    "                #forward right capture\n",
    "                moves_1 = moves.copy()\n",
    "                if board[index-3]<0 and board[index-7] == 0:\n",
    "                    move_end = index-3\n",
    "                    moves_1.append((index, move_end))\n",
    "                    new_board = board.copy()\n",
    "                    new_board[index] = 0\n",
    "                    new_board[move_end] = 0\n",
    "                    new_board[index-7] = 2\n",
    "                    to_append = eat(new_board, index-7, value_to_eat= value_to_eat, moves = [moves_1])\n",
    "                    new_moves += to_append\n",
    "                    new_moves.append([[moves_1]])\n",
    "                    \n",
    "            if index == 24:\n",
    "                #forward right capture\n",
    "                moves_1 = moves.copy()\n",
    "                if board[index-4]<0 and board[index-7] == 0:\n",
    "                    move_end = index-4\n",
    "                    moves_1.append((index, move_end))\n",
    "                    new_board = board.copy()\n",
    "                    new_board[index] = 0\n",
    "                    new_board[move_end] = 0\n",
    "                    new_board[index-7] = 2\n",
    "                    to_append = eat(new_board, index-7, value_to_eat= value_to_eat, moves = [moves_1])\n",
    "                    new_moves += to_append\n",
    "                    new_moves.append([[moves_1]])\n",
    "                    \n",
    "            #second row central\n",
    "            if index == 5 or index == 6:\n",
    "                #two captures - backward left\n",
    "                moves_1 = moves.copy()\n",
    "                moves_2 = moves.copy()\n",
    "                if board[index+4]<0 and board[index+7] == 0:\n",
    "                    move_end = index+4\n",
    "                    moves_1.append((index, move_end))\n",
    "                    new_board = board.copy()\n",
    "                    new_board[index] = 0\n",
    "                    new_board[move_end] = 0\n",
    "                    new_board[index+7] = 2\n",
    "                    to_append = eat(new_board, index+7, value_to_eat= value_to_eat, moves = [moves_1])\n",
    "                    new_moves += to_append\n",
    "                    new_moves.append([[moves_1]])\n",
    "\n",
    "                #backward right\n",
    "                if board[index+5]<0 and board[index+9] == 0:\n",
    "                    move_end = index+5\n",
    "                    moves_2.append((index, move_end))\n",
    "                    new_board = board.copy()\n",
    "                    new_board[index] = 0\n",
    "                    new_board[move_end] = 0\n",
    "                    new_board[index+9] = 2\n",
    "                    to_append = eat(new_board, index+9, value_to_eat= value_to_eat, moves = [moves_2])\n",
    "                    new_moves += to_append\n",
    "                    new_moves.append([[moves_2]])\n",
    "                    \n",
    "            #second to last row central\n",
    "            if index == 25 or index == 26:\n",
    "                moves_1 = moves.copy()\n",
    "                moves_2 = moves.copy()\n",
    "                #two captures - forward left\n",
    "                if board[index-5] <0 and board[index-9] == 0:\n",
    "                    move_end = index-5\n",
    "                    moves_1.append((index, move_end))\n",
    "                    new_board = board.copy()\n",
    "                    new_board[index] = 0\n",
    "                    new_board[move_end] = 0\n",
    "                    new_board[index-9] = 2\n",
    "                    to_append = eat(new_board, index-9, value_to_eat= value_to_eat, moves = [moves_1])\n",
    "                    new_moves += to_append\n",
    "                    new_moves.append([[moves_1]])\n",
    "\n",
    "                #forward right\n",
    "                if board[index-4] <0 and board[index-7] == 0:\n",
    "                    move_end = index-4\n",
    "                    moves_2.append((index, move_end))\n",
    "                    new_board = board.copy()\n",
    "                    new_board[index] = 0\n",
    "                    new_board[move_end] = 0\n",
    "                    new_board[index-7] = 2\n",
    "                    to_append = eat(new_board, index-7, value_to_eat= value_to_eat, moves = [moves_2])\n",
    "                    new_moves += to_append\n",
    "                    new_moves.append([[moves_2]])\n",
    "                    \n",
    "            #left side \n",
    "            if index == 8 or index == 16:\n",
    "                moves_1 = moves.copy()\n",
    "                moves_2 = moves.copy()\n",
    "                #two captures - forward right\n",
    "                if board[index-4] <0 and board[index-7] == 0:\n",
    "                    move_end = index-4\n",
    "                    moves_1.append((index, move_end))\n",
    "                    new_board = board.copy()\n",
    "                    new_board[index] = 0\n",
    "                    new_board[move_end] = 0\n",
    "                    new_board[index-7] = 2\n",
    "                    to_append = eat(new_board, index-7, value_to_eat= value_to_eat, moves = [moves_1])\n",
    "                    new_moves += to_append\n",
    "                    new_moves.append([[moves_1]])\n",
    "\n",
    "                #backward right\n",
    "                if board[index+4] <0 and board[index+9] == 0:\n",
    "                    move_end = index+4\n",
    "                    moves_2.append((index, move_end))\n",
    "                    new_board = board.copy()\n",
    "                    new_board[index] = 0\n",
    "                    new_board[move_end] = 0\n",
    "                    new_board[index+9] = 2\n",
    "                    to_append = eat(new_board, index+9, value_to_eat= value_to_eat, moves = [moves_2])\n",
    "                    new_moves += to_append\n",
    "                    new_moves.append([[moves_2]])\n",
    "                \n",
    "            #right side\n",
    "            if index == 15 or index == 23:\n",
    "                moves_1 = moves.copy()\n",
    "                moves_2 = moves.copy()\n",
    "                #two captures - forward left\n",
    "                if board[index-4] <0 and board[index-9] == 0:\n",
    "                    move_end = index-4\n",
    "                    moves_1.append((index, move_end))\n",
    "                    new_board = board.copy()\n",
    "                    new_board[index] = 0\n",
    "                    new_board[move_end] = 0\n",
    "                    new_board[index-9] = 2\n",
    "                    to_append = eat(new_board, index-9, value_to_eat= value_to_eat, moves = [moves_1])\n",
    "                    new_moves += to_append\n",
    "                    new_moves.append([[moves_1]])\n",
    "\n",
    "                #backward left\n",
    "                if board[index+4] <0 and board[index+7] == 0:\n",
    "                    move_end = index+4\n",
    "                    moves_2.append((index, move_end))\n",
    "                    new_board = board.copy()\n",
    "                    new_board[index] = 0\n",
    "                    new_board[move_end] = 0\n",
    "                    new_board[index+7] = 2\n",
    "                    to_append = eat(new_board, index+7, value_to_eat= value_to_eat, moves = [moves_2])\n",
    "                    new_moves += to_append\n",
    "                    new_moves.append([[moves_2]])\n",
    "                    \n",
    "            #first row central\n",
    "            if index == 1 or index == 2:\n",
    "                moves_1 = moves.copy()\n",
    "                moves_2 = moves.copy()\n",
    "                #two captures - backward left\n",
    "                if board[index+3] <0 and board[index+7] == 0:\n",
    "                    move_end = index+3\n",
    "                    moves_1.append((index, move_end))\n",
    "                    new_board = board.copy()\n",
    "                    new_board[index] = 0\n",
    "                    new_board[move_end] = 0\n",
    "                    new_board[index+7] = 2\n",
    "                    to_append = eat(new_board, index+7, value_to_eat= value_to_eat, moves = [moves_1])\n",
    "                    new_moves += to_append\n",
    "                    new_moves.append([[moves_1]])\n",
    "\n",
    "                #backward right\n",
    "                if board[index+4] <0 and board[index+9] == 0:\n",
    "                    move_end = index+4\n",
    "                    moves_2.append((index, move_end))\n",
    "                    new_board = board.copy()\n",
    "                    new_board[index] = 0\n",
    "                    new_board[move_end] = 0\n",
    "                    new_board[index+9] = 2\n",
    "                    to_append = eat(new_board, index+9, value_to_eat= value_to_eat, moves = [moves_2])\n",
    "                    new_moves += to_append\n",
    "                    new_moves.append([[moves_2]])\n",
    "                    \n",
    "            #last row central\n",
    "            if index == 29 or index == 30:\n",
    "                moves_1 = moves.copy()\n",
    "                moves_2 = moves.copy()\n",
    "                #two captures - forward left\n",
    "                if board[index-4] <0 and board[index-9] == 0:\n",
    "                    move_end = index-4\n",
    "                    moves_1.append((index, move_end))\n",
    "                    new_board = board.copy()\n",
    "                    new_board[index] = 0\n",
    "                    new_board[move_end] = 0\n",
    "                    new_board[index-9] = 2\n",
    "                    to_append = eat(new_board, index-9, value_to_eat= value_to_eat, moves = [moves_1])\n",
    "                    new_moves += to_append\n",
    "                    new_moves.append([[moves_1]])\n",
    "\n",
    "                #forward right\n",
    "                if board[index-3]<0 and board[index-7] == 0:\n",
    "                    move_end = index-3\n",
    "                    moves_2.append((index, move_end))\n",
    "                    new_board = board.copy()\n",
    "                    new_board[index] = 0\n",
    "                    new_board[move_end] = 0\n",
    "                    new_board[index-7] = 2\n",
    "                    to_append = eat(new_board, index-7, value_to_eat= value_to_eat, moves = [moves_2])\n",
    "                    new_moves += to_append\n",
    "                    new_moves.append([[moves_2]])\n",
    "                    \n",
    "            #second column left\n",
    "            if index == 12 or index == 20:\n",
    "                moves_1 = moves.copy()\n",
    "                moves_2 = moves.copy()\n",
    "                #two captures - forward right\n",
    "                if board[index-3] <0 and board[index-7] == 0:\n",
    "                    move_end = index-3\n",
    "                    moves_1.append((index, move_end))\n",
    "                    new_board = board.copy()\n",
    "                    new_board[index] = 0\n",
    "                    new_board[move_end] = 0\n",
    "                    new_board[index-7] = 2\n",
    "                    to_append = eat(new_board, index-7, value_to_eat= value_to_eat, moves = [moves_1])\n",
    "                    new_moves += to_append\n",
    "                    new_moves.append([[moves_1]])\n",
    "\n",
    "                #backward right\n",
    "                if board[index+5] <0 and board[index+9] == 0:\n",
    "                    move_end = index+5\n",
    "                    moves_2.append((index, move_end))\n",
    "                    new_board = board.copy()\n",
    "                    new_board[index] = 0\n",
    "                    new_board[move_end] = 0\n",
    "                    new_board[index+9] = 2\n",
    "                    to_append = eat(new_board, index+9, value_to_eat= value_to_eat, moves = [moves_2])\n",
    "                    new_moves += to_append\n",
    "                    new_moves.append([[moves_2]])\n",
    "                    \n",
    "            #second column right\n",
    "            if index == 11 or index == 19:\n",
    "                moves_1 = moves.copy()\n",
    "                moves_2 = moves.copy()\n",
    "                #only two captures - forward left\n",
    "                if board[index-5] <0 and board[index-9] == 0:\n",
    "                    move_end = index-5\n",
    "                    moves_1.append((index, move_end))\n",
    "                    new_board = board.copy()\n",
    "                    new_board[index] = 0\n",
    "                    new_board[move_end] = 0\n",
    "                    new_board[index-9] = 2\n",
    "                    to_append = eat(new_board, index-9, value_to_eat= value_to_eat, moves = [moves_1])\n",
    "                    new_moves += to_append\n",
    "                    new_moves.append([[moves_1]])\n",
    "\n",
    "                #backward left\n",
    "                if board[index+3] <0 and board[index+7] == 0:\n",
    "                    move_end = index+3\n",
    "                    moves_2.append((index, move_end))\n",
    "                    new_board = board.copy()\n",
    "                    new_board[index] = 0\n",
    "                    new_board[move_end] = 0\n",
    "                    new_board[index+7] = 2\n",
    "                    to_append = eat(new_board, index+7, value_to_eat= value_to_eat, moves = [moves_2])\n",
    "                    new_moves += to_append\n",
    "                    new_moves.append([[moves_2]])\n",
    "                    \n",
    "            if index == 13 or index == 14 or index == 21 or index == 22:\n",
    "                moves_1 = moves.copy()\n",
    "                moves_2 = moves.copy()\n",
    "                moves_3 = moves.copy()\n",
    "                moves_4 = moves.copy()\n",
    "                #four possible capture - forward left\n",
    "                if board[index-4] <0 and board[index-9] == 0:\n",
    "                    move_end = index-4\n",
    "                    moves_1.append((index, move_end))\n",
    "                    new_board = board.copy()\n",
    "                    new_board[index] = 0\n",
    "                    new_board[move_end] = 0\n",
    "                    new_board[index-9] = 2\n",
    "                    to_append = eat(new_board, index-9, value_to_eat= value_to_eat, moves = [moves_1])\n",
    "                    new_moves += to_append\n",
    "                    new_moves.append([[moves_1]])\n",
    "\n",
    "                #forward right\n",
    "                if board[index-3] <0 and board[index-7] == 0:\n",
    "                    move_end = index-3\n",
    "                    moves_2.append((index, move_end))\n",
    "                    new_board = board.copy()\n",
    "                    new_board[index] = 0\n",
    "                    new_board[move_end] = 0\n",
    "                    new_board[index-7] = 2\n",
    "                    to_append = eat(new_board, index-7, value_to_eat= value_to_eat, moves = [moves_2])\n",
    "                    new_moves += to_append\n",
    "                    new_moves.append([[moves_2]])\n",
    "                    \n",
    "                #backward left\n",
    "                if board[index+4] <0 and board[index+7] == 0:\n",
    "                    move_end = index+4\n",
    "                    moves_3.append((index, move_end))\n",
    "                    new_board = board.copy()\n",
    "                    new_board[index] = 0\n",
    "                    new_board[move_end] = 0\n",
    "                    new_board[index+7] = 2\n",
    "                    to_append = eat(new_board, index+7, value_to_eat= value_to_eat, moves = [moves_3])\n",
    "                    new_moves += to_append\n",
    "                    new_moves.append([[moves_3]])\n",
    "\n",
    "                #backward right\n",
    "                if board[index+5] <0 and board[index+9] == 0:\n",
    "                    move_end = index+5\n",
    "                    moves_4.append((index, move_end))\n",
    "                    new_board = board.copy()\n",
    "                    new_board[index] = 0\n",
    "                    new_board[move_end] = 0\n",
    "                    new_board[index+9] = 2\n",
    "                    to_append = eat(new_board, index+9, value_to_eat= value_to_eat, moves = [moves_4])\n",
    "                    new_moves += to_append\n",
    "                    new_moves.append([[moves_4]])\n",
    "                    \n",
    "            if index == 9 or index == 10 or index == 17 or index == 18:\n",
    "                moves_1 = moves.copy()\n",
    "                moves_2 = moves.copy()\n",
    "                moves_3 = moves.copy()\n",
    "                moves_4 = moves.copy()\n",
    "                #four possible capture - forward left\n",
    "                if board[index-5] <0 and board[index-9] == 0:\n",
    "                    move_end = index-5\n",
    "                    moves_1.append((index, move_end))\n",
    "                    new_board = board.copy()\n",
    "                    new_board[index] = 0\n",
    "                    new_board[move_end] = 0\n",
    "                    new_board[index-9] = 2\n",
    "                    to_append = eat(new_board, index-9, value_to_eat= value_to_eat, moves = [moves_1])\n",
    "                    new_moves += to_append\n",
    "                    new_moves.append([[moves_1]])\n",
    "\n",
    "                #forward right\n",
    "                if board[index-4] <0 and board[index-7] == 0:\n",
    "                    move_end = index-4\n",
    "                    moves_2.append((index, move_end))\n",
    "                    new_board = board.copy()\n",
    "                    new_board[index] = 0\n",
    "                    new_board[move_end] = 0\n",
    "                    new_board[index-7] = 2\n",
    "                    to_append = eat(new_board, index-7, value_to_eat= value_to_eat, moves = [moves_2])\n",
    "                    new_moves += to_append\n",
    "                    new_moves.append([[moves_2]])\n",
    "\n",
    "                #backward left\n",
    "                if board[index+3] <0 and board[index+7] == 0:\n",
    "                    move_end = index+3\n",
    "                    moves_3.append((index, move_end))\n",
    "                    new_board = board.copy()\n",
    "                    new_board[index] = 0\n",
    "                    new_board[move_end] = 0\n",
    "                    new_board[index+7] = 2\n",
    "                    to_append = eat(new_board, index+7, value_to_eat= value_to_eat, moves = [moves_3])\n",
    "                    new_moves += to_append\n",
    "                    new_moves.append([[moves_3]])\n",
    "\n",
    "                #backward right\n",
    "                if board[index+4] <0 and board[index+9] == 0:\n",
    "                    move_end = index+4\n",
    "                    moves_4.append((index, move_end))\n",
    "                    new_board = board.copy()\n",
    "                    new_board[index] = 0\n",
    "                    new_board[move_end] = 0\n",
    "                    new_board[index+9] = 2\n",
    "                    to_append = eat(new_board, index+9, value_to_eat= value_to_eat, moves = [moves_4])\n",
    "                    new_moves += to_append\n",
    "                    new_moves.append([[moves_4]])\n",
    "                    \n",
    "\n",
    "        #white\n",
    "        if value_to_eat[0]>0:\n",
    "            #8 unique capture cases \n",
    "            if index == 4:\n",
    "                moves_1 = moves.copy()\n",
    "                #backward right capture\n",
    "                if board[index+5] >0 and board[index+9] == 0:\n",
    "                    move_end = index+5\n",
    "                    moves_1.append((index, move_end))\n",
    "                    new_board = board.copy()\n",
    "                    new_board[index] = 0\n",
    "                    new_board[move_end] = 0\n",
    "                    new_board[index+9] = -2\n",
    "                    to_append = eat(new_board, index+9, value_to_eat= value_to_eat, moves = [moves_1])\n",
    "                    new_moves += to_append\n",
    "                    new_moves.append([[moves_1]])\n",
    "            \n",
    "            if index == 0:\n",
    "                moves_1 = moves.copy()\n",
    "                #backward right capture\n",
    "                if board[index+4]>0 and board[index+9] == 0:\n",
    "                    move_end = index+4\n",
    "                    moves_1.append((index, move_end))\n",
    "                    new_board = board.copy()\n",
    "                    new_board[index] = 0\n",
    "                    new_board[move_end] = 0\n",
    "                    new_board[index+9] = -2\n",
    "                    to_append = eat(new_board, index+9, value_to_eat= value_to_eat, moves = [moves_1])\n",
    "                    new_moves += to_append\n",
    "                    new_moves.append([[moves_1]])\n",
    "                    \n",
    "            if index == 7:\n",
    "                moves_1 = moves.copy()\n",
    "                #backward left capture\n",
    "                if board[index+4]>0 and board[index+7] == 0:\n",
    "                    move_end = index+4\n",
    "                    moves_1.append((index, move_end))\n",
    "                    new_board = board.copy()\n",
    "                    new_board[index] = 0\n",
    "                    new_board[move_end] = 0\n",
    "                    new_board[index+7] = -2\n",
    "                    to_append = eat(new_board, index+7, value_to_eat= value_to_eat, moves = [moves_1])\n",
    "                    new_moves += to_append\n",
    "                    new_moves.append([[moves_1]])\n",
    "            \n",
    "            if index == 3:\n",
    "                moves_1 = moves.copy()\n",
    "                #backwarfd left capture\n",
    "                if board[index+3] >0 and board[index+7] == 0:\n",
    "                    move_end = index+3\n",
    "                    moves_1.append((index, move_end))\n",
    "                    new_board = board.copy()\n",
    "                    new_board[index] = 0\n",
    "                    new_board[move_end] = 0\n",
    "                    new_board[index+7] = -2\n",
    "                    to_append = eat(new_board, index+7, value_to_eat= value_to_eat, moves = [moves_1])\n",
    "                    new_moves += to_append\n",
    "                    new_moves.append([[moves_1]])\n",
    "                    \n",
    "            if index == 31:\n",
    "                moves_1 = moves.copy()\n",
    "                #forward left capture\n",
    "                if board[index-4]>0 and board[index-9] == 0:\n",
    "                    move_end = index-4\n",
    "                    moves_1.append((index, move_end))\n",
    "                    new_board = board.copy()\n",
    "                    new_board[index] = 0\n",
    "                    new_board[move_end] = 0\n",
    "                    new_board[index-9] = -2\n",
    "                    to_append = eat(new_board, index-9, value_to_eat= value_to_eat, moves = [moves_1])\n",
    "                    new_moves += to_append\n",
    "                    new_moves.append([[moves_1]])\n",
    "                    \n",
    "            if index == 27:\n",
    "                moves_1 = moves.copy()\n",
    "                #forwad left capture\n",
    "                if board[index-5]>0 and board[index-9] == 0:\n",
    "                    move_end = index-5\n",
    "                    moves_1.append((index, move_end))\n",
    "                    new_board = board.copy()\n",
    "                    new_board[index] = 0\n",
    "                    new_board[move_end] = 0\n",
    "                    new_board[index-9] = -2\n",
    "                    to_append = eat(new_board, index-9, value_to_eat= value_to_eat, moves = [moves_1])\n",
    "                    new_moves += to_append\n",
    "                    new_moves.append([[moves_1]])\n",
    "                    \n",
    "            if index == 28:\n",
    "                moves_1 = moves.copy()\n",
    "                #forward right capture\n",
    "                if board[index-3]>0 and board[index-7] == 0:\n",
    "                    move_end = index-3\n",
    "                    moves_1.append((index, move_end))\n",
    "                    new_board = board.copy()\n",
    "                    new_board[index] = 0\n",
    "                    new_board[move_end] = 0\n",
    "                    new_board[index-7] = -2\n",
    "                    to_append = eat(new_board, index-7, value_to_eat= value_to_eat, moves = [moves_1])\n",
    "                    new_moves += to_append\n",
    "                    new_moves.append([[moves_1]])\n",
    "                    \n",
    "            if index == 24:\n",
    "                moves_1 = moves.copy()\n",
    "                #forward right capture\n",
    "                if board[index-4]>0 and board[index-7] == 0:\n",
    "                    move_end = index-4\n",
    "                    moves_1.append((index, move_end))\n",
    "                    new_board = board.copy()\n",
    "                    new_board[index] = 0\n",
    "                    new_board[move_end] = 0\n",
    "                    new_board[index-7] = -2\n",
    "                    to_append = eat(new_board, index-7, value_to_eat= value_to_eat, moves = [moves_1])\n",
    "                    new_moves += to_append\n",
    "                    new_moves.append([[moves_1]])\n",
    "                    \n",
    "            #second row central\n",
    "            if index == 5 or index == 6:\n",
    "                moves_1 = moves.copy()\n",
    "                moves_2 = moves.copy()\n",
    "                #two captures - backward left\n",
    "                if board[index+4]>0 and board[index+7] == 0:\n",
    "                    move_end = index+4\n",
    "                    moves_1.append((index, move_end))\n",
    "                    new_board = board.copy()\n",
    "                    new_board[index] = 0\n",
    "                    new_board[move_end] = 0\n",
    "                    new_board[index+7] = -2\n",
    "                    to_append = eat(new_board, index+7, value_to_eat= value_to_eat, moves = [moves_1])\n",
    "                    new_moves += to_append\n",
    "                    new_moves.append([[moves_1]])\n",
    "\n",
    "                #backward right\n",
    "                if board[index+5]>0 and board[index+9] == 0:\n",
    "                    move_end = index+5\n",
    "                    moves_2.append((index, move_end))\n",
    "                    new_board = board.copy()\n",
    "                    new_board[index] = 0\n",
    "                    new_board[move_end] = 0\n",
    "                    new_board[index+9] = -2\n",
    "                    to_append = eat(new_board, index+9, value_to_eat= value_to_eat, moves = [moves_2])\n",
    "                    new_moves += to_append\n",
    "                    new_moves.append([[moves_2]])\n",
    "                    \n",
    "            #secont to last row central\n",
    "            if index == 25 or index == 26:\n",
    "                moves_1 = moves.copy()\n",
    "                moves_2 = moves.copy()\n",
    "                #two captures - forward left\n",
    "                if board[index-5] >0 and board[index-9] == 0:\n",
    "                    move_end = index-5\n",
    "                    moves_1.append((index, move_end))\n",
    "                    new_board = board.copy()\n",
    "                    new_board[index] = 0\n",
    "                    new_board[move_end] = 0\n",
    "                    new_board[index-9] = -2\n",
    "                    to_append = eat(new_board, index-9, value_to_eat= value_to_eat, moves = [moves_1])\n",
    "                    new_moves += to_append\n",
    "                    new_moves.append([[moves_1]])\n",
    "\n",
    "                #forward right\n",
    "                if board[index-4] >0 and board[index-7] == 0:\n",
    "                    move_end = index-4\n",
    "                    moves_2.append((index, move_end))\n",
    "                    new_board = board.copy()\n",
    "                    new_board[index] = 0\n",
    "                    new_board[move_end] = 0\n",
    "                    new_board[index-7] = -2\n",
    "                    to_append = eat(new_board, index-7, value_to_eat= value_to_eat, moves = [moves_2])\n",
    "                    new_moves += to_append\n",
    "                    new_moves.append([[moves_2]])\n",
    "                    \n",
    "            #left side \n",
    "            if index == 8 or index == 16:\n",
    "                #two capture forward right\n",
    "                moves_1 = moves.copy()\n",
    "                moves_2 = moves.copy()\n",
    "                if board[index-4] >0 and board[index-7] == 0:\n",
    "                    move_end = index-4\n",
    "                    moves_1.append((index, move_end))\n",
    "                    new_board = board.copy()\n",
    "                    new_board[index] = 0\n",
    "                    new_board[move_end] = 0\n",
    "                    new_board[index-7] = -2\n",
    "                    to_append = eat(new_board, index-7, value_to_eat= value_to_eat, moves = [moves_1])\n",
    "                    new_moves += to_append\n",
    "                    new_moves.append([[moves_1]])\n",
    "\n",
    "                #backward right\n",
    "                if board[index+4] >0 and board[index+9] == 0:\n",
    "                    move_end = index+4\n",
    "                    moves_2.append((index, move_end))\n",
    "                    new_board = board.copy()\n",
    "                    new_board[index] = 0\n",
    "                    new_board[move_end] = 0\n",
    "                    new_board[index+9] = -2\n",
    "                    to_append = eat(new_board, index+9, value_to_eat= value_to_eat, moves = [moves_2])\n",
    "                    new_moves += to_append\n",
    "                    new_moves.append([[moves_2]])\n",
    "                \n",
    "            #right side\n",
    "            if index == 15 or index == 23:\n",
    "                #two captures forward left\n",
    "                moves_1 = moves.copy()\n",
    "                moves_2 = moves.copy()\n",
    "                if board[index-4] >0 and board[index-9] == 0:\n",
    "                    move_end = index-4\n",
    "                    moves_1.append((index, move_end))\n",
    "                    new_board = board.copy()\n",
    "                    new_board[index] = 0\n",
    "                    new_board[move_end] = 0\n",
    "                    new_board[index-9] = -2\n",
    "                    to_append = eat(new_board, index-9, value_to_eat= value_to_eat, moves = [moves_1])\n",
    "                    new_moves += to_append\n",
    "                    new_moves.append([[moves_1]])\n",
    "\n",
    "                #backward left\n",
    "                if board[index+4] >0 and board[index+7] == 0:\n",
    "                    move_end = index+4\n",
    "                    moves_2.append((index, move_end))\n",
    "                    new_board = board.copy()\n",
    "                    new_board[index] = 0\n",
    "                    new_board[move_end] = 0\n",
    "                    new_board[index+7] = -2\n",
    "                    to_append = eat(new_board, index+7, value_to_eat= value_to_eat, moves = [moves_2])\n",
    "                    new_moves += to_append\n",
    "                    new_moves.append([[moves_2]])\n",
    "                    \n",
    "            #first row central\n",
    "            if index == 1 or index == 2:\n",
    "                #two captures - backward left\n",
    "                moves_1 = moves.copy()\n",
    "                moves_2 = moves.copy()\n",
    "                if board[index+3] >0 and board[index+7] == 0:\n",
    "                    move_end = index+3\n",
    "                    moves_1.append((index, move_end))\n",
    "                    new_board = board.copy()\n",
    "                    new_board[index] = 0\n",
    "                    new_board[move_end] = 0\n",
    "                    new_board[index+7] = -2\n",
    "                    to_append = eat(new_board, index+7, value_to_eat= value_to_eat, moves = [moves_1])\n",
    "                    new_moves += to_append\n",
    "                    new_moves.append([[moves_1]])\n",
    "\n",
    "                #backward right\n",
    "                if board[index+4] >0 and board[index+9] == 0:\n",
    "                    move_end = index+4\n",
    "                    moves_2.append((index, move_end))\n",
    "                    new_board = board.copy()\n",
    "                    new_board[index] = 0\n",
    "                    new_board[move_end] = 0\n",
    "                    new_board[index+9] = -2\n",
    "                    to_append = eat(new_board, index+9, value_to_eat= value_to_eat, moves = [moves_2])\n",
    "                    new_moves += to_append\n",
    "                    new_moves.append([[moves_2]])\n",
    "                    \n",
    "            #last row central\n",
    "            if index == 29 or index == 30:\n",
    "                #two captures - forward left\n",
    "                moves_1 = moves.copy()\n",
    "                moves_2 = moves.copy()\n",
    "                if board[index-4] >0 and board[index-9] == 0:\n",
    "                    move_end = index-4\n",
    "                    moves_1.append((index, move_end))\n",
    "                    new_board = board.copy()\n",
    "                    new_board[index] = 0\n",
    "                    new_board[move_end] = 0\n",
    "                    new_board[index-9] = -2\n",
    "                    to_append = eat(new_board, index-9, value_to_eat= value_to_eat, moves = [moves_1])\n",
    "                    new_moves += to_append\n",
    "                    new_moves.append([[moves_1]])\n",
    "\n",
    "                #forward right\n",
    "                if board[index-3] >0 and board[index-7] == 0:\n",
    "                    move_end = index-3\n",
    "                    moves_2.append((index, move_end))\n",
    "                    new_board = board.copy()\n",
    "                    new_board[index] = 0\n",
    "                    new_board[move_end] = 0\n",
    "                    new_board[index-7] = -2\n",
    "                    to_append = eat(new_board, index-7, value_to_eat= value_to_eat, moves = [moves_2])\n",
    "                    new_moves += to_append\n",
    "                    new_moves.append([[moves_2]])\n",
    "                    \n",
    "            #second column left\n",
    "            if index == 12 or index == 20:\n",
    "                #two captures - forward right\n",
    "                moves_1 = moves.copy()\n",
    "                moves_2 = moves.copy()\n",
    "                if board[index-3] >0 and board[index-7] == 0:\n",
    "                    move_end = index-3\n",
    "                    moves_1.append((index, move_end))\n",
    "                    new_board = board.copy()\n",
    "                    new_board[index] = 0\n",
    "                    new_board[move_end] = 0\n",
    "                    new_board[index-7] = -2\n",
    "                    to_append = eat(new_board, index-7, value_to_eat= value_to_eat, moves = [moves_1])\n",
    "                    new_moves += to_append\n",
    "                    new_moves.append([[moves_1]])\n",
    "\n",
    "                #backward right\n",
    "                if board[index+5] >0 and board[index+9] == 0:\n",
    "                    move_end = index+5\n",
    "                    moves_2.append((index, move_end))\n",
    "                    new_board = board.copy()\n",
    "                    new_board[index] = 0\n",
    "                    new_board[move_end] = 0\n",
    "                    new_board[index+9] = -2\n",
    "                    to_append = eat(new_board, index+9, value_to_eat= value_to_eat, moves = [moves_2])\n",
    "                    new_moves += to_append\n",
    "                    new_moves.append([[moves_2]])\n",
    "                    \n",
    "            #second column right\n",
    "            if index == 11 or index == 19:\n",
    "                #only two captures - forward left\n",
    "                moves_1 = moves.copy()\n",
    "                moves_2 = moves.copy()\n",
    "                if board[index-5] >0 and board[index-9] == 0:\n",
    "                    move_end = index-5\n",
    "                    moves_1.append((index, move_end))\n",
    "                    new_board = board.copy()\n",
    "                    new_board[index] = 0\n",
    "                    new_board[move_end] = 0\n",
    "                    new_board[index-9] = -2\n",
    "                    to_append = eat(new_board, index-9, value_to_eat= value_to_eat, moves = [moves_1])\n",
    "                    new_moves += to_append\n",
    "                    new_moves.append([[moves_1]])\n",
    "\n",
    "                #backward left\n",
    "                if board[index+3] >0 and board[index+7] == 0:\n",
    "                    move_end = index+3\n",
    "                    moves_2.append((index, move_end))\n",
    "                    new_board = board.copy()\n",
    "                    new_board[index] = 0\n",
    "                    new_board[move_end] = 0\n",
    "                    new_board[index+7] = -2\n",
    "                    to_append = eat(new_board, index+7, value_to_eat= value_to_eat, moves = [moves_2])\n",
    "                    new_moves += to_append\n",
    "                    new_moves.append([[moves_2]])\n",
    "                    \n",
    "            if index == 13 or index == 14 or index == 21 or index == 22:\n",
    "                #four possible capture - forward left\n",
    "                moves_1 = moves.copy()\n",
    "                moves_2 = moves.copy()\n",
    "                moves_3 = moves.copy()\n",
    "                moves_4 = moves.copy()\n",
    "                if board[index-4] >0 and board[index-9] == 0:\n",
    "                    move_end = index-4\n",
    "                    moves_1.append((index, move_end))\n",
    "                    new_board = board.copy()\n",
    "                    new_board[index] = 0\n",
    "                    new_board[move_end] = 0\n",
    "                    new_board[index-9] = -2\n",
    "                    to_append = eat(new_board, index-9, value_to_eat= value_to_eat, moves = [moves_1])\n",
    "                    new_moves += to_append\n",
    "                    new_moves.append([[moves_1]])\n",
    "\n",
    "                #forward right\n",
    "                if board[index-3] >0 and board[index-7] == 0:\n",
    "                    move_end = index-3\n",
    "                    moves_2.append((index, move_end))\n",
    "                    new_board = board.copy()\n",
    "                    new_board[index] = 0\n",
    "                    new_board[move_end] = 0\n",
    "                    new_board[index-7] = -2\n",
    "                    to_append = eat(new_board, index-7, value_to_eat= value_to_eat, moves = [moves_2])\n",
    "                    new_moves += to_append\n",
    "                    new_moves.append([[moves_2]])\n",
    "\n",
    "                #backward left\n",
    "                if board[index+4] >0 and board[index+7] == 0:\n",
    "                    move_end = index+4\n",
    "                    moves_3.append((index, move_end))\n",
    "                    new_board = board.copy()\n",
    "                    new_board[index] = 0\n",
    "                    new_board[move_end] = 0\n",
    "                    new_board[index+7] = -2\n",
    "                    to_append = eat(new_board, index+7, value_to_eat= value_to_eat, moves = [moves_3])\n",
    "                    new_moves += to_append\n",
    "                    new_moves.append([[moves_3]])\n",
    "\n",
    "                #backward right\n",
    "                if board[index+5] >0 and board[index+9] == 0:\n",
    "                    move_end = index+5\n",
    "                    moves_4.append((index, move_end))\n",
    "                    new_board = board.copy()\n",
    "                    new_board[index] = 0\n",
    "                    new_board[move_end] = 0\n",
    "                    new_board[index+9] = -2\n",
    "                    to_append = eat(new_board, index+9, value_to_eat= value_to_eat, moves = [moves_4])\n",
    "                    new_moves += to_append\n",
    "                    new_moves.append([[moves_4]])\n",
    "                    \n",
    "            if index == 9 or index == 10 or index == 17 or index == 18:\n",
    "                #four possible capture - forward left\n",
    "                moves_1 = moves.copy()\n",
    "                moves_2 = moves.copy()\n",
    "                moves_3 = moves.copy()\n",
    "                moves_4 = moves.copy()\n",
    "                if board[index-5] >0 and board[index-9] == 0:\n",
    "                    move_end = index-5\n",
    "                    moves_1.append((index, move_end))\n",
    "                    new_board = board.copy()\n",
    "                    new_board[index] = 0\n",
    "                    new_board[move_end] = 0\n",
    "                    new_board[index-9] = -2\n",
    "                    to_append = eat(new_board, index-9, value_to_eat= value_to_eat, moves = [moves_1])\n",
    "                    new_moves += to_append\n",
    "                    new_moves.append([[moves_1]])\n",
    "\n",
    "                #forward right\n",
    "                if board[index-4] >0 and board[index-7] == 0:\n",
    "                    move_end = index-4\n",
    "                    moves_2.append((index, move_end))\n",
    "                    new_board = board.copy()\n",
    "                    new_board[index] = 0\n",
    "                    new_board[move_end] = 0\n",
    "                    new_board[index-7] = -2\n",
    "                    to_append = eat(new_board, index-7, value_to_eat= value_to_eat, moves = [moves_2])\n",
    "                    new_moves += to_append\n",
    "                    new_moves.append([[moves_2]])\n",
    "\n",
    "                #backward left\n",
    "                if board[index+3] >0 and board[index+7] == 0:\n",
    "                    move_end = index+3\n",
    "                    moves_3.append((index, move_end))\n",
    "                    new_board = board.copy()\n",
    "                    new_board[index] = 0\n",
    "                    new_board[move_end] = 0\n",
    "                    new_board[index+7] = -2\n",
    "                    to_append = eat(new_board, index+7, value_to_eat= value_to_eat, moves = [moves_3])\n",
    "                    new_moves += to_append\n",
    "                    new_moves.append([[moves_3]])\n",
    "\n",
    "                #backward right\n",
    "                if board[index+4] >0 and board[index+9] == 0:\n",
    "                    move_end = index+4\n",
    "                    moves_4.append((index, move_end))\n",
    "                    new_board = board.copy()\n",
    "                    new_board[index] = 0\n",
    "                    new_board[move_end] = 0\n",
    "                    new_board[index+9] = -2\n",
    "                    to_append = eat(new_board, index+9, value_to_eat= value_to_eat, moves = [moves_4])\n",
    "                    new_moves += to_append\n",
    "                    new_moves.append([[moves_4]])\n",
    "\n",
    "    if len(new_moves) == 0:\n",
    "        return new_moves\n",
    "#    max_len = max([len(l) for l in new_moves])\n",
    "#    new_moves = [l for l in new_moves if len(l) == max_len]\n",
    "\n",
    "    \n",
    "    return combine_list(moves, new_moves)"
   ]
  },
  {
   "cell_type": "code",
   "execution_count": 10,
   "id": "38f4b7b6",
   "metadata": {},
   "outputs": [],
   "source": [
    "def can_eat(full_state): #out [boolean, dict]\n",
    "    board = full_state[0]#board\n",
    "    color = full_state[1]#color\n",
    "    move = full_state[2]#move - tuple\n",
    "    my_dict = {}\n",
    "    #black\n",
    "    if color == 1:\n",
    "        #index of black pawns\n",
    "        index_list = (np.where(board>0))[0]\n",
    "        #index_list = index_list\n",
    "        for index in index_list:\n",
    "            if board[index] == 2:\n",
    "                my_dict[index] = final_clean(eat(board, index, value_to_eat=[-1,-2]))\n",
    "            else:\n",
    "                my_dict[index] = final_clean(eat(board, index, value_to_eat=[-1]))\n",
    "    \n",
    "    #white\n",
    "    if color == -1:\n",
    "        #index of white pawns\n",
    "        index_list = (np.where(board<0))[0]\n",
    "        #index_list = index_list[0]\n",
    "        for index in index_list:\n",
    "            if board[index] == -2:\n",
    "                my_dict[index] = final_clean(eat(board, index, value_to_eat=[1,2]))\n",
    "            else:\n",
    "                my_dict[index] = final_clean(eat(board, index, value_to_eat=[1]))\n",
    "    \n",
    "    values = 0\n",
    "    for index, square in enumerate(my_dict):\n",
    "        for cap in my_dict[square]:\n",
    "            values += len(cap)\n",
    "    if values != 0:\n",
    "        return [True, my_dict]\n",
    "    else:\n",
    "        return [False,0] "
   ]
  },
  {
   "cell_type": "code",
   "execution_count": 11,
   "id": "3ea8d822",
   "metadata": {},
   "outputs": [],
   "source": [
    "#move_piece function when not eating\n",
    "def move_piece(full_state):\n",
    "    agent_turn = full_state[1] #who is playing - black or white\n",
    "\n",
    "    start = full_state[2][0] #randomly selected start position\n",
    "    stop = full_state[2][1] #randomly selected stop position\n",
    "    \n",
    "    agent_start = full_state[0][start] #piece on start space / agent black: +1, white: -1, bQ = +2, wQ = -2, 0 empty\n",
    "    agent_stop = full_state[0][stop] #piece on stop space / agent black: +1, white: -1, bQ = +2, wQ = -2, 0 empty\n",
    "\n",
    "    if agent_turn == 1:#turn is black\n",
    "        if agent_start == 1: #start position occupied by black pawn, check direction\n",
    "            if stop > start:#good direction for black \n",
    "                if agent_stop == 0: #adjacent space is free and can move\n",
    "                    return True #good move for white on free space\n",
    "                else:\n",
    "                    return False #adjacent space is not empty\n",
    "            else:\n",
    "                return False #wrong direction for black\n",
    "        elif agent_start == 2: #start position occupied by black queen, check direction\n",
    "            if agent_stop == 0: #adjacent space is free and can move\n",
    "                return True #good move for black Queen on free space\n",
    "            else:\n",
    "                return False #adjacent space is not free and can't move\n",
    "        else:\n",
    "            return False #start position is empty - no piece on it\n",
    "\n",
    "    elif agent_turn == -1:#turn is white\n",
    "        if agent_start == -1: #start position occupied by white pawn, check direction\n",
    "            if stop < start:#good direction for white \n",
    "                if agent_stop == 0: #adjacent space is free and can move\n",
    "                    return True #good move for black on free space\n",
    "                else:\n",
    "                    return False #adjacent space is not empty\n",
    "            else:\n",
    "                return False #wrong direction for white\n",
    "        elif agent_start == -2: #start position occupied by white queen, check direction\n",
    "            if agent_stop == 0: #adjacent space is free and can move\n",
    "                return True #good move for white Queen on free space\n",
    "            else:\n",
    "                return False #adjacent space is not free and can't move\n",
    "        else:\n",
    "            return False #start position is empty - no piece on it\n",
    "    else:\n",
    "        return False #any other option  "
   ]
  },
  {
   "cell_type": "code",
   "execution_count": 12,
   "id": "fbbc7d7d",
   "metadata": {},
   "outputs": [],
   "source": [
    "def fix_dict(moves_dict, board):#returns list of list of priority capture(s)\n",
    "    my_board = board.copy()\n",
    "    moves = moves_dict\n",
    "    possible_moves = []\n",
    "    queen = []\n",
    "    max_eat = 0\n",
    "    cap_val = {}\n",
    "    for x in moves.values():\n",
    "        for cap in x:\n",
    "            #print(eat_val)\n",
    "            eat_val = 0\n",
    "            if len(cap) > max_eat:\n",
    "                max_eat = len(cap)\n",
    "            for move in cap: \n",
    "                eat_val += abs(my_board[move[1]])\n",
    "            cap_val[f'{cap}'] = eat_val\n",
    "    \n",
    "    #append all the longest captures\n",
    "    for x in moves.values():\n",
    "        for i in x:\n",
    "            if len(i) == max_eat:\n",
    "                possible_moves.append(i)\n",
    "\n",
    "    if len(possible_moves) > 1:\n",
    "        #check if queens can eat\n",
    "        new_pm = [cap for cap in possible_moves if abs(my_board[cap[0][0]]) == 2]\n",
    "        if len(new_pm) > 1:    \n",
    "            #check what is the total max value to eat\n",
    "            max_val = max([cap_val[f'{l}'] for l in new_pm])\n",
    "            res = [l for l in new_pm if cap_val[f'{l}'] == max_val]\n",
    "\n",
    "            if len(res) > 1:\n",
    "                #check which one encounters queen first \n",
    "                opponent_eat = []\n",
    "                if len(res) > 1:\n",
    "                    for i in range(max_eat):\n",
    "                        opponent_eat.append([abs(my_board[cap[i][1]]) for cap in res])\n",
    "                \n",
    "                res_2 = first_queen(opponent_eat)\n",
    "                if isinstance(res_2, int):\n",
    "                    return [res[res_2]]\n",
    "                else:       \n",
    "                    new_res = []\n",
    "                    i = -1\n",
    "                    for x in res_2[-1]:\n",
    "                        i += 1\n",
    "                        if x != 0:\n",
    "                            new_res.append(res_2[-1].index(x, i))\n",
    "                    return [res[cap] for cap in new_res]\n",
    "            else: \n",
    "                return [res[0]]\n",
    "        \n",
    "        else:\n",
    "            if not new_pm:\n",
    "                return possible_moves\n",
    "            return new_pm\n",
    "        \n",
    "    else:\n",
    "        return [possible_moves[0]]"
   ]
  },
  {
   "cell_type": "code",
   "execution_count": 13,
   "id": "c96f9cfe",
   "metadata": {},
   "outputs": [],
   "source": [
    "bb = np.array([ 0, 0, 0, 0, 0, 0, 0, 0, 0, 0, 0, 0, 0, 0, 0, 0,  0, 0, 0, 0,\n",
    "                0, 0, 0, 0, 0, 0, 0, 0, 0, 0, 0, 0,])\n",
    "\n",
    "bb[4] = 1\n",
    "bb[6] = 1\n",
    "bb[9] = -1\n",
    "bb[10] = -1\n",
    "bb[17] = -1\n",
    "bb[18] = -1\n",
    "\n",
    "\n",
    "\n",
    "#vis(bb)"
   ]
  },
  {
   "cell_type": "code",
   "execution_count": 14,
   "id": "c07b98cd",
   "metadata": {},
   "outputs": [
    {
     "data": {
      "text/plain": [
       "[[(4, 9), (13, 17)],\n",
       " [(4, 9), (13, 18)],\n",
       " [(6, 10), (13, 17)],\n",
       " [(6, 10), (13, 18)]]"
      ]
     },
     "execution_count": 14,
     "metadata": {},
     "output_type": "execute_result"
    }
   ],
   "source": [
    "fix_dict(can_eat([bb, 1, (21,25)])[1], bb)"
   ]
  },
  {
   "cell_type": "code",
   "execution_count": 15,
   "id": "ea7fdca4",
   "metadata": {},
   "outputs": [],
   "source": [
    "def eating_priority(my_dict, full_state):#eating priority main function IN: dictionary OUT: -> Boolean\n",
    "    move_list = fix_dict(my_dict, full_state[0])\n",
    "\n",
    "    if len(move_list) == 1:\n",
    "        return move_list[0][0] == full_state[2]\n",
    "    \n",
    "    res = [full_state[2] == x[0] for x in move_list]#CHANGE - COULD BE BETTER\n",
    "\n",
    "    if True in res:\n",
    "        return True\n",
    "    return False"
   ]
  },
  {
   "cell_type": "code",
   "execution_count": 16,
   "id": "e58381ca",
   "metadata": {
    "scrolled": true
   },
   "outputs": [
    {
     "data": {
      "text/plain": [
       "True"
      ]
     },
     "execution_count": 16,
     "metadata": {},
     "output_type": "execute_result"
    }
   ],
   "source": [
    "eating_priority(can_eat([bb, 1, (9,5)])[1], [bb, 1, (6,10)])"
   ]
  },
  {
   "cell_type": "code",
   "execution_count": 17,
   "id": "9d906bd6",
   "metadata": {},
   "outputs": [],
   "source": [
    "def referee(action_space, full_state):#full_state to be called with baseline_game with full_state defined as local variable\n",
    "    #OUT: [BOOLEAN, dict of prio move(s)]\n",
    "    A = can_eat(full_state)[0] #boolean\n",
    "    #print('full_state_ref',full_state)\n",
    "\n",
    "    if A == True:\n",
    "        possible_cap = fix_dict(can_eat(full_state)[1], full_state[0]) \n",
    "        B = eating_priority(can_eat(full_state)[1], full_state)\n",
    "        if B == True:\n",
    "            return [True, possible_cap]\n",
    "        else:\n",
    "            return [False, 0]\n",
    "    elif A == False:\n",
    "        C = move_piece(full_state)\n",
    "        if C == True:\n",
    "            return [True, 0]\n",
    "        else: \n",
    "            return [False, 0]\n",
    "    else:\n",
    "        return [False, 0]"
   ]
  },
  {
   "cell_type": "markdown",
   "id": "b66ed652",
   "metadata": {},
   "source": [
    "# Next State"
   ]
  },
  {
   "cell_type": "code",
   "execution_count": 18,
   "id": "ead7e2f5",
   "metadata": {},
   "outputs": [],
   "source": [
    "def capture(board,move): #works inside next_state\n",
    "    new_board = board.copy()\n",
    "    row = math.floor(move[0] / 4)\n",
    "    start_col = move[0] % 4\n",
    "    end_col = move[1] % 4\n",
    "\n",
    "    #if even numbered row\n",
    "    if row % 2 == 0:\n",
    "        if move[0] < move[1]:\n",
    "            if end_col < start_col:\n",
    "                #down left\n",
    "                new_board[move[1]] = 0\n",
    "                new_board[move[0]+7] = new_board[move[0]]\n",
    "                new_board[move[0]] = 0\n",
    "                pass\n",
    "            elif end_col >= start_col:\n",
    "                #down right\n",
    "                new_board[move[1]] = 0\n",
    "                new_board[move[0]+9] = new_board[move[0]]\n",
    "                new_board[move[0]] = 0\n",
    "        if move[0] > move[1]:\n",
    "            if end_col< start_col:\n",
    "                #up left\n",
    "                new_board[move[1]] = 0\n",
    "                new_board[move[0]-9] = new_board[move[0]]\n",
    "                new_board[move[0]] = 0\n",
    "            if end_col >= start_col:\n",
    "                #up right\n",
    "                new_board[move[1]] = 0\n",
    "                new_board[move[0]-7] = new_board[move[0]]\n",
    "                new_board[move[0]] = 0\n",
    "                    \n",
    "    #if odd numbered row\n",
    "    elif row % 2 != 0:\n",
    "        if move[0] < move[1]:\n",
    "            if end_col <= start_col:\n",
    "                #down left\n",
    "                new_board[move[1]] = 0\n",
    "                new_board[move[0]+7] = new_board[move[0]]\n",
    "                new_board[move[0]] = 0\n",
    "            elif end_col > start_col:\n",
    "                #down right\n",
    "                new_board[move[1]] = 0\n",
    "                new_board[move[0]+9] = new_board[move[0]]\n",
    "                new_board[move[0]] = 0\n",
    "        if move[0] > move[1]:\n",
    "            if end_col<= start_col:\n",
    "                #up left\n",
    "                new_board[move[1]] = 0\n",
    "                new_board[move[0]-9] = new_board[move[0]]\n",
    "                new_board[move[0]] = 0\n",
    "            if end_col > start_col:\n",
    "                #up right\n",
    "                new_board[move[1]] = 0\n",
    "                new_board[move[0]-7] = new_board[move[0]]\n",
    "                new_board[move[0]] = 0\n",
    "    return new_board"
   ]
  },
  {
   "cell_type": "code",
   "execution_count": 19,
   "id": "58de0d15",
   "metadata": {},
   "outputs": [],
   "source": [
    "def normal_move(board,move): #works inside next_state\n",
    "    new_board = board.copy()\n",
    "    if move[1] >= 28 and new_board[move[0]] == 1:\n",
    "        new_board[move[1]] = 2\n",
    "        new_board[move[0]] = 0\n",
    "        \n",
    "    elif move[1] <= 3 and new_board[move[0]] == -1:\n",
    "        #pdb.set_trace()\n",
    "        new_board[move[1]] = -2\n",
    "        new_board[move[0]] = 0\n",
    "    \n",
    "    else:\n",
    "        new_board[move[1]] = new_board[move[0]]\n",
    "        new_board[move[0]] = 0\n",
    "    return new_board"
   ]
  },
  {
   "cell_type": "code",
   "execution_count": 20,
   "id": "93bb2339",
   "metadata": {},
   "outputs": [],
   "source": [
    "def nextState(full_state,move): #compute next state IN: list with board np.array, int for color, tuple for move\n",
    "    board = full_state[0]\n",
    "    if board[move[1]] == 0:\n",
    "        board = normal_move(board,move)\n",
    "        return board\n",
    "    else:\n",
    "        board = capture(board,move)\n",
    "    return board"
   ]
  },
  {
   "cell_type": "code",
   "execution_count": 21,
   "id": "32ebc33c",
   "metadata": {},
   "outputs": [],
   "source": [
    "def nextStatev2(full_state,move, possible_captures):\n",
    "    new_board = full_state[0].copy()\n",
    "    k = 0\n",
    "    if possible_captures == 0:\n",
    "        new_board = nextState([new_board, full_state[1], full_state[2]],move)\n",
    "        return new_board\n",
    "    \n",
    "    if len(possible_captures) == 1:\n",
    "        for cap in possible_captures:\n",
    "            for i in cap:\n",
    "                new_board = nextState([new_board, full_state[1], full_state[2]],i)\n",
    "    \n",
    "    \n",
    "    else:\n",
    "        #TO BE CHANGED FOR REAL MODEL\n",
    "        for cap in possible_captures:\n",
    "            if move in cap:\n",
    "                k += 1\n",
    "                if k == 2:\n",
    "                    break\n",
    "                for i in cap:\n",
    "                    new_board = nextState([new_board, full_state[1], full_state[2]],i)\n",
    "            \n",
    "    for x in range(0,4):\n",
    "        if new_board[x] == -1:\n",
    "            new_board[x] = -2\n",
    "            \n",
    "    for x in range(28,32):\n",
    "        if new_board[x] == 1:\n",
    "            new_board[x] = 2\n",
    "    \n",
    "    return new_board"
   ]
  },
  {
   "cell_type": "markdown",
   "id": "643070a7",
   "metadata": {},
   "source": [
    "# Game Baseline"
   ]
  },
  {
   "cell_type": "code",
   "execution_count": 22,
   "id": "2195ec61",
   "metadata": {},
   "outputs": [],
   "source": [
    "def baseline_game(action_space,state): \n",
    "    legal_bl = False\n",
    "    i = 0 #delete for real model\n",
    "    turn_without_cap = 0\n",
    "    while legal_bl == False:\n",
    "        i += 1 #delete for real model\n",
    "        \n",
    "        #create a move by extracting a tuple\n",
    "        move = random_select(action_space)\n",
    "        \n",
    "        # full_state = [board (np.array), agent color (int), move (tuple)]\n",
    "        full_state = complete_state(state, move)\n",
    "\n",
    "        output_ref = referee(action_space,full_state) #out [True, move]\n",
    "        legal_bl = output_ref[0]\n",
    "        \n",
    "        if legal_bl == True:\n",
    "            print(f\"Last try: {move}\")\n",
    "            print(f\"# iterations: {i} -> False\")\n",
    "            break\n",
    "        \n",
    "        if i > 9999:\n",
    "            return [state[0], state[1], False]\n",
    "            \n",
    "        else:\n",
    "            continue\n",
    "\n",
    "    possible_cap = output_ref[1]\n",
    "    move = full_state[2]\n",
    "        \n",
    "    if full_state[0][move[1]] == 0:\n",
    "        turn_without_cap += 1\n",
    "    else:\n",
    "        turn_without_cap = 0\n",
    "    board = nextStatev2(full_state, move, possible_cap)# -> no.array / new board based \n",
    "        \n",
    "    if state[1] > 0:\n",
    "        agent = -1\n",
    "    else:\n",
    "        agent = 1\n",
    "    #pdb.set_trace()    \n",
    "    return [board,agent, True, turn_without_cap] #list [board = np.array, agent = integer]"
   ]
  },
  {
   "cell_type": "code",
   "execution_count": 23,
   "id": "06c96191",
   "metadata": {},
   "outputs": [],
   "source": [
    "def winner(state):\n",
    "    board = state[0]\n",
    "    \n",
    "    if len(np.where(board > 0)[0]) == 0:\n",
    "        return '=> Game over! The winner is White :)'\n",
    "\n",
    "    elif len(np.where(board < 0)[0]) == 0:\n",
    "        return '=> Game over! The winner is Black :)'\n",
    "    \n",
    "    if len(np.where(board > 0)[0]) <= 2:\n",
    "        return '=> Game over! The winner is White :)'\n",
    "    \n",
    "    elif len(np.where(board < 0)[0]) <= 2:\n",
    "        return '=> Game over! The winner is White :)'\n",
    "\n",
    "    else:\n",
    "        return 'Something is wrong'"
   ]
  },
  {
   "cell_type": "markdown",
   "id": "e1877f4d",
   "metadata": {},
   "source": [
    "# Visualization"
   ]
  },
  {
   "cell_type": "code",
   "execution_count": 34,
   "id": "1c24570d",
   "metadata": {},
   "outputs": [],
   "source": [
    "def visualize(state): #state: list (board: np.array, agent: int +1 or -1) -> this function just prints\n",
    "    board = state[0].tolist()\n",
    "    agent = state[1]\n",
    "    full_board = []\n",
    "    new_board = np.array_split(board, 8)\n",
    "    i = 0\n",
    "    finished_board = []\n",
    "    for i in range(0,8):\n",
    "        if i%2 == 0:\n",
    "            row =[]\n",
    "            for x in new_board[i]:\n",
    "                row.append(x)\n",
    "                row.append(0)\n",
    "        else:\n",
    "            row = []\n",
    "            for x in new_board[i]:\n",
    "                row.append(0)\n",
    "                row.append(x)\n",
    "        finished_board.append(row)\n",
    "    ary = np.array(finished_board)\n",
    "    brd = checkerboard_plot(cell_colors=('black', 'white'), font_colors=('white', 'black'), ary = ary, fmt = '%d',\n",
    "                            figsize=(3, 3), fontsize = 10)\n",
    "    plt.show()"
   ]
  },
  {
   "cell_type": "markdown",
   "id": "b38a6e83",
   "metadata": {},
   "source": [
    "# Game"
   ]
  },
  {
   "cell_type": "code",
   "execution_count": 35,
   "id": "0e1acd6a",
   "metadata": {},
   "outputs": [],
   "source": [
    "#Game script\n",
    "\n",
    "def game(action_space, state, counter):  #counter = 1  \n",
    "    print(\"Initial Board - Turn: White\")\n",
    "    visualize(state) #initial visualization\n",
    "    t=0\n",
    "    turns_without_cap = 0\n",
    "    for t in range(1000):# -> 1000 plays\n",
    "        play_next = input(Fore.WHITE + Back.GREEN +'Press to play ' + Style.RESET_ALL)\n",
    "        print()\n",
    "        if state[1] > 0: #it provides the player for the active move\n",
    "            player = 'Black'\n",
    "            next_player = 'White'\n",
    "            print(f\"Play: {counter } / Played by: {player} / Next player: {next_player}\")#display active play\n",
    "        else:\n",
    "            player = 'White'\n",
    "            next_player = 'Black'\n",
    "            print(f\"Play: {counter} / Played by: {player} / Next player: {next_player}\")#display active play\n",
    "        counter = t+2\n",
    "        state = baseline_game(action_space,state)#[board,agent] #state = list [board = np.array, agent = integer]\n",
    "\n",
    "        if len(state) == 4:\n",
    "            if state[3] != 0:\n",
    "                turns_without_cap += 1\n",
    "            else:\n",
    "                turns_without_cap = 0\n",
    "        \n",
    "        if turns_without_cap >= 50:\n",
    "            return \"It's a draw!\"\n",
    "        \n",
    "        if state[2] == False:\n",
    "            return winner([state[0], state[1]])\n",
    "        #print(counter)\n",
    "        visualize(state)\n",
    "\n",
    "    print(winner(state))"
   ]
  },
  {
   "cell_type": "markdown",
   "id": "76de0f79",
   "metadata": {},
   "source": [
    "# Execute"
   ]
  },
  {
   "cell_type": "code",
   "execution_count": 36,
   "id": "8007d431",
   "metadata": {},
   "outputs": [],
   "source": [
    "#initial board\n",
    "board_1 = np.array([1,1,1,1,1,1,1,1,1,1,1,1,0,0,0,0,0,0,0,0,-1,-1,-1,-1,-1,-1,-1,-1,-1,-1,-1,-1])\n",
    "\n",
    "state[0] = board_1"
   ]
  },
  {
   "cell_type": "code",
   "execution_count": 37,
   "id": "17716cef",
   "metadata": {
    "scrolled": true
   },
   "outputs": [
    {
     "name": "stdout",
     "output_type": "stream",
     "text": [
      "Initial Board - Turn: White\n"
     ]
    },
    {
     "data": {
      "image/png": "[encoded data removed]",
      "text/plain": [
       "<Figure size 300x300 with 1 Axes>"
      ]
     },
     "metadata": {},
     "output_type": "display_data"
    },
    {
     "name": "stdout",
     "output_type": "stream",
     "text": [
      "Press to play \n",
      "\n",
      "Play: 1 / Played by: White / Next player: Black\n",
      "Last try: (21, 17)\n",
      "# iterations: 8 -> False\n"
     ]
    },
    {
     "data": {
      "image/png": "[encoded data removed]",
      "text/plain": [
       "<Figure size 300x300 with 1 Axes>"
      ]
     },
     "metadata": {},
     "output_type": "display_data"
    },
    {
     "name": "stdout",
     "output_type": "stream",
     "text": [
      "Press to play \n",
      "\n",
      "Play: 2 / Played by: Black / Next player: White\n",
      "Last try: (10, 13)\n",
      "# iterations: 16 -> False\n"
     ]
    },
    {
     "data": {
      "image/png": "[encoded data removed]",
      "text/plain": [
       "<Figure size 300x300 with 1 Axes>"
      ]
     },
     "metadata": {},
     "output_type": "display_data"
    },
    {
     "name": "stdout",
     "output_type": "stream",
     "text": [
      "Press to play \n",
      "\n",
      "Play: 3 / Played by: White / Next player: Black\n",
      "Last try: (17, 13)\n",
      "# iterations: 48 -> False\n"
     ]
    },
    {
     "data": {
      "image/png": "[encoded data removed]",
      "text/plain": [
       "<Figure size 300x300 with 1 Axes>"
      ]
     },
     "metadata": {},
     "output_type": "display_data"
    },
    {
     "name": "stdout",
     "output_type": "stream",
     "text": [
      "Press to play \n",
      "\n",
      "Play: 4 / Played by: Black / Next player: White\n",
      "Last try: (5, 10)\n",
      "# iterations: 2 -> False\n"
     ]
    },
    {
     "data": {
      "image/png": "[encoded data removed]",
      "text/plain": [
       "<Figure size 300x300 with 1 Axes>"
      ]
     },
     "metadata": {},
     "output_type": "display_data"
    },
    {
     "name": "stdout",
     "output_type": "stream",
     "text": [
      "Press to play \n",
      "\n",
      "Play: 5 / Played by: White / Next player: Black\n",
      "Last try: (26, 21)\n",
      "# iterations: 2 -> False\n"
     ]
    },
    {
     "data": {
      "image/png": "[encoded data removed]",
      "text/plain": [
       "<Figure size 300x300 with 1 Axes>"
      ]
     },
     "metadata": {},
     "output_type": "display_data"
    },
    {
     "name": "stdout",
     "output_type": "stream",
     "text": [
      "Press to play \n",
      "\n",
      "Play: 6 / Played by: Black / Next player: White\n",
      "Last try: (9, 13)\n",
      "# iterations: 4 -> False\n"
     ]
    },
    {
     "data": {
      "image/png": "[encoded data removed]",
      "text/plain": [
       "<Figure size 300x300 with 1 Axes>"
      ]
     },
     "metadata": {},
     "output_type": "display_data"
    },
    {
     "name": "stdout",
     "output_type": "stream",
     "text": [
      "Press to play \n",
      "\n",
      "Play: 7 / Played by: White / Next player: Black\n",
      "Last try: (21, 18)\n",
      "# iterations: 4 -> False\n"
     ]
    },
    {
     "data": {
      "image/png": "[encoded data removed]",
      "text/plain": [
       "<Figure size 300x300 with 1 Axes>"
      ]
     },
     "metadata": {},
     "output_type": "display_data"
    },
    {
     "name": "stdout",
     "output_type": "stream",
     "text": [
      "Press to play \n",
      "\n",
      "Play: 8 / Played by: Black / Next player: White\n",
      "Last try: (14, 18)\n",
      "# iterations: 63 -> False\n"
     ]
    },
    {
     "data": {
      "image/png": "[encoded data removed]",
      "text/plain": [
       "<Figure size 300x300 with 1 Axes>"
      ]
     },
     "metadata": {},
     "output_type": "display_data"
    },
    {
     "name": "stdout",
     "output_type": "stream",
     "text": [
      "Press to play \n",
      "\n",
      "Play: 9 / Played by: White / Next player: Black\n",
      "Last try: (25, 21)\n",
      "# iterations: 13 -> False\n"
     ]
    },
    {
     "data": {
      "image/png": "[encoded data removed]",
      "text/plain": [
       "<Figure size 300x300 with 1 Axes>"
      ]
     },
     "metadata": {},
     "output_type": "display_data"
    },
    {
     "name": "stdout",
     "output_type": "stream",
     "text": [
      "Press to play \n",
      "\n",
      "Play: 10 / Played by: Black / Next player: White\n",
      "Last try: (4, 9)\n",
      "# iterations: 22 -> False\n"
     ]
    },
    {
     "data": {
      "image/png": "[encoded data removed]",
      "text/plain": [
       "<Figure size 300x300 with 1 Axes>"
      ]
     },
     "metadata": {},
     "output_type": "display_data"
    },
    {
     "name": "stdout",
     "output_type": "stream",
     "text": [
      "Press to play \n",
      "\n",
      "Play: 11 / Played by: White / Next player: Black\n",
      "Last try: (29, 25)\n",
      "# iterations: 2 -> False\n"
     ]
    },
    {
     "data": {
      "image/png": "[encoded data removed]",
      "text/plain": [
       "<Figure size 300x300 with 1 Axes>"
      ]
     },
     "metadata": {},
     "output_type": "display_data"
    },
    {
     "name": "stdout",
     "output_type": "stream",
     "text": [
      "Press to play \n",
      "\n",
      "Play: 12 / Played by: Black / Next player: White\n",
      "Last try: (1, 4)\n",
      "# iterations: 6 -> False\n"
     ]
    },
    {
     "data": {
      "image/png": "[encoded data removed]",
      "text/plain": [
       "<Figure size 300x300 with 1 Axes>"
      ]
     },
     "metadata": {},
     "output_type": "display_data"
    },
    {
     "name": "stdout",
     "output_type": "stream",
     "text": [
      "Press to play \n",
      "\n",
      "Play: 13 / Played by: White / Next player: Black\n",
      "Last try: (22, 19)\n",
      "# iterations: 13 -> False\n"
     ]
    },
    {
     "data": {
      "image/png": "[encoded data removed]",
      "text/plain": [
       "<Figure size 300x300 with 1 Axes>"
      ]
     },
     "metadata": {},
     "output_type": "display_data"
    },
    {
     "name": "stdout",
     "output_type": "stream",
     "text": [
      "Press to play \n",
      "\n",
      "Play: 14 / Played by: Black / Next player: White\n",
      "Last try: (13, 18)\n",
      "# iterations: 4 -> False\n"
     ]
    },
    {
     "data": {
      "image/png": "[encoded data removed]",
      "text/plain": [
       "<Figure size 300x300 with 1 Axes>"
      ]
     },
     "metadata": {},
     "output_type": "display_data"
    },
    {
     "name": "stdout",
     "output_type": "stream",
     "text": [
      "Press to play \n",
      "\n",
      "Play: 15 / Played by: White / Next player: Black\n",
      "Last try: (25, 21)\n",
      "# iterations: 3 -> False\n"
     ]
    },
    {
     "data": {
      "image/png": "[encoded data removed]",
      "text/plain": [
       "<Figure size 300x300 with 1 Axes>"
      ]
     },
     "metadata": {},
     "output_type": "display_data"
    },
    {
     "name": "stdout",
     "output_type": "stream",
     "text": [
      "Press to play \n",
      "\n",
      "Play: 16 / Played by: Black / Next player: White\n",
      "Last try: (18, 21)\n",
      "# iterations: 45 -> False\n"
     ]
    },
    {
     "data": {
      "image/png": "[encoded data removed]",
      "text/plain": [
       "<Figure size 300x300 with 1 Axes>"
      ]
     },
     "metadata": {},
     "output_type": "display_data"
    },
    {
     "name": "stdout",
     "output_type": "stream",
     "text": [
      "Press to play \n",
      "\n",
      "Play: 17 / Played by: White / Next player: Black\n",
      "Last try: (28, 25)\n",
      "# iterations: 65 -> False\n"
     ]
    },
    {
     "data": {
      "image/png": "[encoded data removed]",
      "text/plain": [
       "<Figure size 300x300 with 1 Axes>"
      ]
     },
     "metadata": {},
     "output_type": "display_data"
    },
    {
     "name": "stdout",
     "output_type": "stream",
     "text": [
      "Press to play \n",
      "\n",
      "Play: 18 / Played by: Black / Next player: White\n",
      "Last try: (8, 12)\n",
      "# iterations: 39 -> False\n"
     ]
    },
    {
     "data": {
      "image/png": "[encoded data removed]",
      "text/plain": [
       "<Figure size 300x300 with 1 Axes>"
      ]
     },
     "metadata": {},
     "output_type": "display_data"
    },
    {
     "name": "stdout",
     "output_type": "stream",
     "text": [
      "Press to play \n",
      "\n",
      "Play: 19 / Played by: White / Next player: Black\n",
      "Last try: (21, 17)\n",
      "# iterations: 38 -> False\n"
     ]
    },
    {
     "data": {
      "image/png": "[encoded data removed]",
      "text/plain": [
       "<Figure size 300x300 with 1 Axes>"
      ]
     },
     "metadata": {},
     "output_type": "display_data"
    },
    {
     "name": "stdout",
     "output_type": "stream",
     "text": [
      "Press to play \n",
      "\n",
      "Play: 20 / Played by: Black / Next player: White\n",
      "Last try: (12, 17)\n",
      "# iterations: 184 -> False\n"
     ]
    },
    {
     "data": {
      "image/png": "[encoded data removed]",
      "text/plain": [
       "<Figure size 300x300 with 1 Axes>"
      ]
     },
     "metadata": {},
     "output_type": "display_data"
    },
    {
     "name": "stdout",
     "output_type": "stream",
     "text": [
      "Press to play \n",
      "\n",
      "Play: 21 / Played by: White / Next player: Black\n",
      "Last try: (30, 26)\n",
      "# iterations: 12 -> False\n"
     ]
    },
    {
     "data": {
      "image/png": "[encoded data removed]",
      "text/plain": [
       "<Figure size 300x300 with 1 Axes>"
      ]
     },
     "metadata": {},
     "output_type": "display_data"
    },
    {
     "name": "stdout",
     "output_type": "stream",
     "text": [
      "Press to play \n",
      "\n",
      "Play: 22 / Played by: Black / Next player: White\n",
      "Last try: (21, 26)\n",
      "# iterations: 125 -> False\n"
     ]
    },
    {
     "data": {
      "image/png": "[encoded data removed]",
      "text/plain": [
       "<Figure size 300x300 with 1 Axes>"
      ]
     },
     "metadata": {},
     "output_type": "display_data"
    },
    {
     "name": "stdout",
     "output_type": "stream",
     "text": [
      "Press to play \n",
      "\n",
      "Play: 23 / Played by: White / Next player: Black\n",
      "Last try: (27, 22)\n",
      "# iterations: 4 -> False\n"
     ]
    },
    {
     "data": {
      "image/png": "[encoded data removed]",
      "text/plain": [
       "<Figure size 300x300 with 1 Axes>"
      ]
     },
     "metadata": {},
     "output_type": "display_data"
    },
    {
     "name": "stdout",
     "output_type": "stream",
     "text": [
      "Press to play \n",
      "\n",
      "Play: 24 / Played by: Black / Next player: White\n",
      "Last try: (11, 14)\n",
      "# iterations: 19 -> False\n"
     ]
    },
    {
     "data": {
      "image/png": "[encoded data removed]",
      "text/plain": [
       "<Figure size 300x300 with 1 Axes>"
      ]
     },
     "metadata": {},
     "output_type": "display_data"
    },
    {
     "name": "stdout",
     "output_type": "stream",
     "text": [
      "Press to play \n",
      "\n",
      "Play: 25 / Played by: White / Next player: Black\n",
      "Last try: (19, 14)\n",
      "# iterations: 6 -> False\n"
     ]
    },
    {
     "data": {
      "image/png": "[encoded data removed]",
      "text/plain": [
       "<Figure size 300x300 with 1 Axes>"
      ]
     },
     "metadata": {},
     "output_type": "display_data"
    },
    {
     "name": "stdout",
     "output_type": "stream",
     "text": [
      "Press to play \n",
      "\n",
      "Play: 26 / Played by: Black / Next player: White\n",
      "Last try: (6, 10)\n",
      "# iterations: 144 -> False\n"
     ]
    },
    {
     "data": {
      "image/png": "[encoded data removed]",
      "text/plain": [
       "<Figure size 300x300 with 1 Axes>"
      ]
     },
     "metadata": {},
     "output_type": "display_data"
    },
    {
     "name": "stdout",
     "output_type": "stream",
     "text": [
      "Press to play \n",
      "\n",
      "Play: 27 / Played by: White / Next player: Black\n",
      "Last try: (20, 17)\n",
      "# iterations: 3 -> False\n"
     ]
    },
    {
     "data": {
      "image/png": "[encoded data removed]",
      "text/plain": [
       "<Figure size 300x300 with 1 Axes>"
      ]
     },
     "metadata": {},
     "output_type": "display_data"
    },
    {
     "name": "stdout",
     "output_type": "stream",
     "text": [
      "Press to play \n",
      "\n",
      "Play: 28 / Played by: Black / Next player: White\n",
      "Last try: (13, 17)\n",
      "# iterations: 49 -> False\n"
     ]
    },
    {
     "data": {
      "image/png": "[encoded data removed]",
      "text/plain": [
       "<Figure size 300x300 with 1 Axes>"
      ]
     },
     "metadata": {},
     "output_type": "display_data"
    },
    {
     "name": "stdout",
     "output_type": "stream",
     "text": [
      "Press to play \n",
      "\n",
      "Play: 29 / Played by: White / Next player: Black\n",
      "Last try: (24, 20)\n",
      "# iterations: 17 -> False\n"
     ]
    },
    {
     "data": {
      "image/png": "[encoded data removed]",
      "text/plain": [
       "<Figure size 300x300 with 1 Axes>"
      ]
     },
     "metadata": {},
     "output_type": "display_data"
    },
    {
     "name": "stdout",
     "output_type": "stream",
     "text": [
      "Press to play \n",
      "\n",
      "Play: 30 / Played by: Black / Next player: White\n",
      "Last try: (3, 6)\n",
      "# iterations: 1 -> False\n"
     ]
    },
    {
     "data": {
      "image/png": "[encoded data removed]",
      "text/plain": [
       "<Figure size 300x300 with 1 Axes>"
      ]
     },
     "metadata": {},
     "output_type": "display_data"
    },
    {
     "name": "stdout",
     "output_type": "stream",
     "text": [
      "Press to play \n",
      "\n",
      "Play: 31 / Played by: White / Next player: Black\n",
      "Last try: (17, 12)\n",
      "# iterations: 15 -> False\n"
     ]
    },
    {
     "data": {
      "image/png": "[encoded data removed]",
      "text/plain": [
       "<Figure size 300x300 with 1 Axes>"
      ]
     },
     "metadata": {},
     "output_type": "display_data"
    },
    {
     "name": "stdout",
     "output_type": "stream",
     "text": [
      "Press to play \n",
      "\n",
      "Play: 32 / Played by: Black / Next player: White\n",
      "Last try: (2, 5)\n",
      "# iterations: 9 -> False\n"
     ]
    },
    {
     "data": {
      "image/png": "[encoded data removed]",
      "text/plain": [
       "<Figure size 300x300 with 1 Axes>"
      ]
     },
     "metadata": {},
     "output_type": "display_data"
    },
    {
     "name": "stdout",
     "output_type": "stream",
     "text": [
      "Press to play \n",
      "\n",
      "Play: 33 / Played by: White / Next player: Black\n",
      "Last try: (12, 9)\n",
      "# iterations: 18 -> False\n"
     ]
    },
    {
     "data": {
      "image/png": "[encoded data removed]",
      "text/plain": [
       "<Figure size 300x300 with 1 Axes>"
      ]
     },
     "metadata": {},
     "output_type": "display_data"
    },
    {
     "name": "stdout",
     "output_type": "stream",
     "text": [
      "Press to play \n",
      "\n",
      "Play: 34 / Played by: Black / Next player: White\n",
      "Last try: (4, 9)\n",
      "# iterations: 92 -> False\n"
     ]
    },
    {
     "data": {
      "image/png": "[encoded data removed]",
      "text/plain": [
       "<Figure size 300x300 with 1 Axes>"
      ]
     },
     "metadata": {},
     "output_type": "display_data"
    },
    {
     "name": "stdout",
     "output_type": "stream",
     "text": [
      "Press to play \n",
      "\n",
      "Play: 35 / Played by: White / Next player: Black\n",
      "Last try: (23, 19)\n",
      "# iterations: 7 -> False\n"
     ]
    },
    {
     "data": {
      "image/png": "[encoded data removed]",
      "text/plain": [
       "<Figure size 300x300 with 1 Axes>"
      ]
     },
     "metadata": {},
     "output_type": "display_data"
    },
    {
     "name": "stdout",
     "output_type": "stream",
     "text": [
      "Press to play \n",
      "\n",
      "Play: 36 / Played by: Black / Next player: White\n",
      "Last try: (7, 11)\n",
      "# iterations: 9 -> False\n"
     ]
    },
    {
     "data": {
      "image/png": "[encoded data removed]",
      "text/plain": [
       "<Figure size 300x300 with 1 Axes>"
      ]
     },
     "metadata": {},
     "output_type": "display_data"
    },
    {
     "name": "stdout",
     "output_type": "stream",
     "text": [
      "Press to play \n",
      "\n",
      "Play: 37 / Played by: White / Next player: Black\n",
      "Last try: (22, 18)\n",
      "# iterations: 11 -> False\n"
     ]
    },
    {
     "data": {
      "image/png": "[encoded data removed]",
      "text/plain": [
       "<Figure size 300x300 with 1 Axes>"
      ]
     },
     "metadata": {},
     "output_type": "display_data"
    },
    {
     "name": "stdout",
     "output_type": "stream",
     "text": [
      "Press to play \n",
      "\n",
      "Play: 38 / Played by: Black / Next player: White\n",
      "Last try: (13, 18)\n",
      "# iterations: 14 -> False\n"
     ]
    },
    {
     "data": {
      "image/png": "[encoded data removed]",
      "text/plain": [
       "<Figure size 300x300 with 1 Axes>"
      ]
     },
     "metadata": {},
     "output_type": "display_data"
    },
    {
     "name": "stdout",
     "output_type": "stream",
     "text": [
      "Press to play \n",
      "\n",
      "Play: 39 / Played by: White / Next player: Black\n",
      "Last try: (19, 14)\n",
      "# iterations: 9 -> False\n"
     ]
    },
    {
     "data": {
      "image/png": "[encoded data removed]",
      "text/plain": [
       "<Figure size 300x300 with 1 Axes>"
      ]
     },
     "metadata": {},
     "output_type": "display_data"
    },
    {
     "name": "stdout",
     "output_type": "stream",
     "text": [
      "Press to play \n",
      "\n",
      "Play: 40 / Played by: Black / Next player: White\n",
      "Last try: (11, 14)\n",
      "# iterations: 51 -> False\n"
     ]
    },
    {
     "data": {
      "image/png": "[encoded data removed]",
      "text/plain": [
       "<Figure size 300x300 with 1 Axes>"
      ]
     },
     "metadata": {},
     "output_type": "display_data"
    },
    {
     "name": "stdout",
     "output_type": "stream",
     "text": [
      "Press to play \n",
      "\n",
      "Play: 41 / Played by: White / Next player: Black\n",
      "Last try: (31, 27)\n",
      "# iterations: 137 -> False\n"
     ]
    },
    {
     "data": {
      "image/png": "[encoded data removed]",
      "text/plain": [
       "<Figure size 300x300 with 1 Axes>"
      ]
     },
     "metadata": {},
     "output_type": "display_data"
    },
    {
     "name": "stdout",
     "output_type": "stream",
     "text": [
      "Press to play \n",
      "\n",
      "Play: 42 / Played by: Black / Next player: White\n",
      "Last try: (30, 27)\n",
      "# iterations: 61 -> False\n"
     ]
    },
    {
     "data": {
      "image/png": "[encoded data removed]",
      "text/plain": [
       "<Figure size 300x300 with 1 Axes>"
      ]
     },
     "metadata": {},
     "output_type": "display_data"
    },
    {
     "name": "stdout",
     "output_type": "stream",
     "text": [
      "Press to play \n",
      "\n",
      "Play: 43 / Played by: White / Next player: Black\n"
     ]
    },
    {
     "data": {
      "text/plain": [
       "'=> Game over! The winner is Black :)'"
      ]
     },
     "execution_count": 37,
     "metadata": {},
     "output_type": "execute_result"
    }
   ],
   "source": [
    "game(action_space, state ,counter) #test game"
   ]
  },
  {
   "cell_type": "code",
   "execution_count": 15,
   "id": "229b11ca",
   "metadata": {},
   "outputs": [],
   "source": [
    "def vis(board):\n",
    "    new_board = np.array_split(board, 8)\n",
    "    i = 0\n",
    "    finished_board = []\n",
    "    for i in range(0,8):\n",
    "        if i%2 == 0:\n",
    "            row =[]\n",
    "            for x in new_board[i]:\n",
    "                row.append(x)\n",
    "                row.append(0)\n",
    "        else:\n",
    "            row = []\n",
    "            for x in new_board[i]:\n",
    "                row.append(0)\n",
    "                row.append(x)\n",
    "        finished_board.append(row)\n",
    "    ary = np.array(finished_board)\n",
    "    brd = checkerboard_plot(cell_colors=('black', 'white'), font_colors=('white', 'black'), ary = ary, fmt = '%d',\n",
    "                            figsize=(5, 5), fontsize = 15)\n",
    "    plt.show()"
   ]
  },
  {
   "cell_type": "code",
   "execution_count": 28,
   "id": "d514bbb5",
   "metadata": {},
   "outputs": [],
   "source": [
    "board_3 = np.array([ 0,  0,  0,  0, -1,  0,  0, -1, -1, -2, -2,  0,  0,  0,  0,  0, -2,\n",
    "        0, -1,  0,  0,  0,  2,  1, -2, -1, -1,  0,  0,  0,  0,  0])"
   ]
  },
  {
   "cell_type": "code",
   "execution_count": 700,
   "id": "e152830a",
   "metadata": {
    "scrolled": true
   },
   "outputs": [
    {
     "data": {
      "image/png": "[encoded data removed]",
      "text/plain": [
       "<Figure size 360x360 with 1 Axes>"
      ]
     },
     "metadata": {
      "needs_background": "light"
     },
     "output_type": "display_data"
    }
   ],
   "source": [
    "vis(board_1)"
   ]
  },
  {
   "cell_type": "code",
   "execution_count": 655,
   "id": "2f7614bd",
   "metadata": {},
   "outputs": [
    {
     "data": {
      "image/png": "[encoded data removed]",
      "text/plain": [
       "<Figure size 360x360 with 1 Axes>"
      ]
     },
     "metadata": {
      "needs_background": "light"
     },
     "output_type": "display_data"
    }
   ],
   "source": [
    "bb = np.array([ 0, 0, 0, 0, 0, 0, 0, 0, 0, 0, 0, 0, 0, 0, 0, 0,  0, 0, 0, 0,\n",
    "                0, 0, 0, 0, 0, 0, 0, 0, 0, 0, 0, 0,])\n",
    "\n",
    "\n",
    "bb[10] = 1\n",
    "bb[9] = -1\n",
    "\n",
    "vis(bb)"
   ]
  },
  {
   "cell_type": "code",
   "execution_count": 662,
   "id": "2371049f",
   "metadata": {},
   "outputs": [
    {
     "data": {
      "image/png": "[encoded data removed]",
      "text/plain": [
       "<Figure size 360x360 with 1 Axes>"
      ]
     },
     "metadata": {
      "needs_background": "light"
     },
     "output_type": "display_data"
    }
   ],
   "source": [
    "vis(b)"
   ]
  },
  {
   "cell_type": "code",
   "execution_count": 32,
   "id": "3265ac2c",
   "metadata": {
    "collapsed": true
   },
   "outputs": [
    {
     "data": {
      "image/png": "[encoded data removed]",
      "text/plain": [
       "<Figure size 360x360 with 1 Axes>"
      ]
     },
     "metadata": {
      "needs_background": "light"
     },
     "output_type": "display_data"
    }
   ],
   "source": [
    "board_2 = np.array([1,1,1,1,1,1,1,1,1,1,1,1,1,0,0,0,0,0,0,0,-1,0,-1,-1,-1,-1,-1,-1,-1,-1,-1,-1])\n",
    "board_2[17]= -2\n",
    "board_2[18]= -2\n",
    "board_2[23]= 0\n",
    "board_2[13]= 1\n",
    "board_2[14]= 2\n",
    "board_2[5]= 1\n",
    "board_2[6]= 1\n",
    "board_2[26]= 0\n",
    "board_2[30]= 0\n",
    "board_2[1]= 0\n",
    "\n",
    "vis(board_2)"
   ]
  },
  {
   "cell_type": "code",
   "execution_count": null,
   "id": "1672c4bc",
   "metadata": {},
   "outputs": [],
   "source": [
    "\n"
   ]
  }
 ],
 "metadata": {
  "kernelspec": {
   "display_name": "Python 3 (ipykernel)",
   "language": "python",
   "name": "python3"
  },
  "language_info": {
   "codemirror_mode": {
    "name": "ipython",
    "version": 3
   },
   "file_extension": ".py",
   "mimetype": "text/x-python",
   "name": "python",
   "nbconvert_exporter": "python",
   "pygments_lexer": "ipython3",
   "version": "3.9.7"
  },
  "toc": {
   "base_numbering": 1,
   "nav_menu": {},
   "number_sections": true,
   "sideBar": true,
   "skip_h1_title": false,
   "title_cell": "Table of Contents",
   "title_sidebar": "Contents",
   "toc_cell": false,
   "toc_position": {
    "height": "1184px",
    "left": "25px",
    "top": "137.141px",
    "width": "236px"
   },
   "toc_section_display": true,
   "toc_window_display": true
  },
  "varInspector": {
   "cols": {
    "lenName": 16,
    "lenType": 16,
    "lenVar": 40
   },
   "kernels_config": {
    "python": {
     "delete_cmd_postfix": "",
     "delete_cmd_prefix": "del ",
     "library": "var_list.py",
     "varRefreshCmd": "print(var_dic_list())"
    },
    "r": {
     "delete_cmd_postfix": ") ",
     "delete_cmd_prefix": "rm(",
     "library": "var_list.r",
     "varRefreshCmd": "cat(var_dic_list()) "
    }
   },
   "types_to_exclude": [
    "module",
    "function",
    "builtin_function_or_method",
    "instance",
    "_Feature"
   ],
   "window_display": false
  }
 },
 "nbformat": 4,
 "nbformat_minor": 5
}
