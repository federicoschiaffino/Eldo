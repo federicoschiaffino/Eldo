{
 "cells": [
  {
   "cell_type": "code",
   "execution_count": 1,
   "id": "42f06fb2",
   "metadata": {
    "scrolled": true
   },
   "outputs": [],
   "source": [
    "import numpy as np\n",
    "import pandas as pd\n",
    "import pdb\n",
    "from ipynb.fs.full.Game import *\n",
    "from random import randrange"
   ]
  },
  {
   "cell_type": "code",
   "execution_count": 2,
   "id": "84d6fd1c",
   "metadata": {},
   "outputs": [
    {
     "data": {
      "image/png": "[encoded data removed]",
      "text/plain": [
       "<Figure size 300x300 with 1 Axes>"
      ]
     },
     "metadata": {},
     "output_type": "display_data"
    }
   ],
   "source": [
    "board_1 = np.array([1,1,1,1,1,1,1,1,1,1,1,1,0,0,0,0,0,0,0,0,-1,-1,-1,-1,-1,-1,-1,-1,-1,-1,-1,-1])\n",
    "state = [board_1, -1]\n",
    "visualize(state)"
   ]
  },
  {
   "cell_type": "code",
   "execution_count": 3,
   "id": "c2bd6573",
   "metadata": {},
   "outputs": [
    {
     "data": {
      "text/plain": [
       "[[(4, 9), (13, 17)],\n",
       " [(4, 9), (13, 18)],\n",
       " [(6, 10), (13, 17)],\n",
       " [(6, 10), (13, 18)]]"
      ]
     },
     "execution_count": 3,
     "metadata": {},
     "output_type": "execute_result"
    }
   ],
   "source": [
    "bb = np.array([ 0, 0, 0, 0, 0, 0, 0, 0, 0, 0, 0, 0, 0, 0, 0, 0,  0, 0, 0, 0,\n",
    "                0, 0, 0, 0, 0, 0, 0, 0, 0, 0, 0, 0,])\n",
    "\n",
    "bb[4] = 1\n",
    "bb[6] = 1\n",
    "bb[9] = -1\n",
    "bb[10] = -1\n",
    "bb[17] = -1\n",
    "bb[18] = -1\n",
    "\n",
    "fix_dict(can_eat([bb, 1, (21,25)])[1], bb)"
   ]
  },
  {
   "cell_type": "code",
   "execution_count": 4,
   "id": "79dbd031",
   "metadata": {},
   "outputs": [],
   "source": [
    "action_space = [(0,4),#0\n",
    " (1,4),#1\n",
    " (1,5),#2\n",
    " (2,5),#3\n",
    " (2,6),#4\n",
    " (3,6),#5\n",
    " (3,7),#6\n",
    " (4,0),#7\n",
    " (4,1),#8\n",
    " (4,8),#9\n",
    " (4,9),#10\n",
    " (5,1),#11\n",
    " (5,2),#12\n",
    " (5,9),#13\n",
    " (5,10),#14\n",
    " (6,2),#15\n",
    " (6,3),#16\n",
    " (6,10),#17\n",
    " (6,11),#18\n",
    " (7,3),#19\n",
    " (7,11),#20\n",
    " (8,4),#21\n",
    " (8,12),#22\n",
    " (9,4),#23\n",
    " (9,5),#24\n",
    " (9,12),#25\n",
    " (9,13),#26\n",
    " (10,5),#27\n",
    " (10,6),#28\n",
    " (10,13),#29\n",
    " (10,14),#30\n",
    " (11,6),#31\n",
    " (11,7),#32\n",
    " (11,14),#33\n",
    " (11,15),#34\n",
    " (12,8),#35\n",
    " (12,9),#36\n",
    " (12,16),#37\n",
    " (12,17),#38\n",
    " (13,9),#39\n",
    " (13,10),#40\n",
    " (13,17),#41\n",
    " (13,18),#42\n",
    " (14,10),#43\n",
    " (14,11),#44\n",
    " (14,18),#45\n",
    " (14,19),#46\n",
    " (15,11),#47\n",
    " (15,19),#48\n",
    " (16, 12),#49\n",
    " (16, 20),#50\n",
    " (17, 12),#51\n",
    " (17, 13),#52\n",
    " (17, 20),#53\n",
    " (17, 21),#54\n",
    " (18, 13),#55\n",
    " (18, 14),#56\n",
    " (18, 21),#57\n",
    " (18, 22),#58\n",
    " (19, 14),#59\n",
    " (19, 15),#60\n",
    " (19, 22),#61\n",
    " (19, 23),#62\n",
    " (20, 16),#63\n",
    " (20, 17),#64\n",
    " (20, 24),#65\n",
    " (20, 25),#66\n",
    " (21, 17),#67\n",
    " (21, 18),#68\n",
    " (21, 25),#69\n",
    " (21, 26),#70\n",
    " (22, 18),#71\n",
    " (22, 19),#72\n",
    " (22, 26),#73\n",
    " (22, 27),#74\n",
    " (23, 19),#75\n",
    " (23, 27),#76\n",
    " (24, 20),#77\n",
    " (24, 28),#78\n",
    " (25, 20),#79\n",
    " (25, 21),#80\n",
    " (25, 28),#81\n",
    " (25, 29),#82\n",
    " (26, 21),#83\n",
    " (26, 22),#84\n",
    " (26, 29),#85\n",
    " (26, 30),#86\n",
    " (27, 22),#87\n",
    " (27, 23),#88\n",
    " (27, 30),#89\n",
    " (27, 31),#90\n",
    " (28, 24),#91\n",
    " (28, 25),#92\n",
    " (29, 25),#93\n",
    " (29, 26),#94\n",
    " (30, 26),#95\n",
    " (30, 27),#96\n",
    " (31, 27)]#97"
   ]
  },
  {
   "cell_type": "markdown",
   "id": "85129d42",
   "metadata": {},
   "source": [
    "# Q table"
   ]
  },
  {
   "cell_type": "markdown",
   "id": "5daeadf9",
   "metadata": {},
   "source": [
    "## game over"
   ]
  },
  {
   "cell_type": "code",
   "execution_count": 7,
   "id": "b5328e77",
   "metadata": {},
   "outputs": [],
   "source": [
    "def game_over(board, agent, action_space, turns_without_cap):\n",
    "    #new_full_state = full_state.copy()\n",
    "    '''function checks whether game is over and returns tuple bool and winner (as an int)'''\n",
    "    res = []\n",
    "    if turns_without_cap == 50:\n",
    "        return True, 0\n",
    "    for move in action_space:\n",
    "        full_state = [board, agent, move]\n",
    "        res.append(referee(action_space, full_state)[0])\n",
    "    #if game is over for W check the same for B\n",
    "    if not any(res):\n",
    "        winner = - agent\n",
    "        return True, winner\n",
    "    return False, 'game not over'"
   ]
  },
  {
   "cell_type": "markdown",
   "id": "a8036742",
   "metadata": {},
   "source": [
    "def game_over(board, agent, action_space, turns_without_cap):\n",
    "    #new_full_state = full_state.copy()\n",
    "    '''function checks whether game is over and returns tuple bool and winner (as an int)'''\n",
    "    res = []\n",
    "    if turns_without_cap == 50:\n",
    "        return True, 0\n",
    "    for move in action_space:\n",
    "        full_state = [board, agent, move]\n",
    "        res.append(referee(action_space, full_state)[0])\n",
    "    #if game is over for W check the same for B\n",
    "    if not any(res):\n",
    "        winner = - agent\n",
    "        return True, winner\n",
    "    \n",
    "    if not any(res) and agent == -1:\n",
    "        res_2 = []\n",
    "        agent = 1\n",
    "        for move in action_space:\n",
    "            full_state = [board, agent, move]\n",
    "            res_2.append(referee(action_space, full_state)[0])\n",
    "        #if game is over for B as well - return True and 0, i.e. it's a draw ; else B is the winner\n",
    "        if not any(res_2) :\n",
    "            return True, 0\n",
    "        else:\n",
    "            return True, 1\n",
    "        \n",
    "    #if game is over for B check the same for W\n",
    "    if not any(res) and agent == 1:\n",
    "        res_2 = []\n",
    "        agent = -1\n",
    "        for move in action_space:\n",
    "            full_state = [board, agent, move]\n",
    "            res_2.append(referee(action_space, full_state)[0])\n",
    "        #if game is over for W as well - return True and 0, i.e. it's a draw ; else W is the winner\n",
    "        if not any(res_2) :\n",
    "            return True, 0\n",
    "        else:\n",
    "            return True, -1\n",
    "\n",
    "    #pdb.set_trace()\n",
    "    return False, 'not over'\n",
    "    "
   ]
  },
  {
   "cell_type": "code",
   "execution_count": 8,
   "id": "2eb7749e",
   "metadata": {},
   "outputs": [
    {
     "data": {
      "text/plain": [
       "False"
      ]
     },
     "execution_count": 8,
     "metadata": {},
     "output_type": "execute_result"
    }
   ],
   "source": [
    "bb = np.array([ 0, 0, 0, 0, 0, 0, 0, 0, 0, 0, 0, 0, 0, 0, 0, 0,  0, 0, 0, 0,\n",
    "                0, 0, 0, 0, 0, 0, 0, 0, 0, 0, 0, 0,])\n",
    "a , b = game_over(board_1, -1, action_space, 0)\n",
    "a == True"
   ]
  },
  {
   "cell_type": "markdown",
   "id": "4f20c77c",
   "metadata": {},
   "source": [
    "## learning "
   ]
  },
  {
   "cell_type": "code",
   "execution_count": 9,
   "id": "b84de8a6",
   "metadata": {},
   "outputs": [],
   "source": [
    "def learning(state,new_state,action,lr,reward,gamma):#state and action are int taken from dictionaries\n",
    "    Q[state,action] = Q[state,action] + lr * (reward + gamma * np.max(Q[new_state,:]) - Q[state,action])"
   ]
  },
  {
   "cell_type": "markdown",
   "id": "3e13b055",
   "metadata": {},
   "source": [
    "## Training"
   ]
  },
  {
   "cell_type": "code",
   "execution_count": 10,
   "id": "c43e53dc",
   "metadata": {},
   "outputs": [
    {
     "data": {
      "image/png": "[encoded data removed]",
      "text/plain": [
       "<Figure size 300x300 with 1 Axes>"
      ]
     },
     "metadata": {},
     "output_type": "display_data"
    }
   ],
   "source": [
    "bb = np.array([ 0, 0, 0, 0, 0, 0, 0, 0, 0, 0, 0, 0, 0, 0, 0, 0,  0, 0, 0, 0,\n",
    "                0, 0, 0, 0, 0, 0, 0, 0, 0, 0, 0, 0,])\n",
    "\n",
    "bb[4] = 1\n",
    "bb[6] = 1\n",
    "bb[9] = -1\n",
    "bb[10] = -1\n",
    "bb[14] = 1\n",
    "bb[17] = -1\n",
    "bb[18] = -1\n",
    "visualize([bb, (0,4)])"
   ]
  },
  {
   "cell_type": "code",
   "execution_count": 55,
   "id": "a547587c",
   "metadata": {},
   "outputs": [
    {
     "data": {
      "text/html": [
       "<div>\n",
       "<style scoped>\n",
       "    .dataframe tbody tr th:only-of-type {\n",
       "        vertical-align: middle;\n",
       "    }\n",
       "\n",
       "    .dataframe tbody tr th {\n",
       "        vertical-align: top;\n",
       "    }\n",
       "\n",
       "    .dataframe thead th {\n",
       "        text-align: right;\n",
       "    }\n",
       "</style>\n",
       "<table border=\"1\" class=\"dataframe\">\n",
       "  <thead>\n",
       "    <tr style=\"text-align: right;\">\n",
       "      <th></th>\n",
       "      <th>(0, 4)</th>\n",
       "      <th>(1, 4)</th>\n",
       "      <th>(1, 5)</th>\n",
       "      <th>(2, 5)</th>\n",
       "      <th>(2, 6)</th>\n",
       "      <th>(3, 6)</th>\n",
       "      <th>(3, 7)</th>\n",
       "      <th>(4, 0)</th>\n",
       "      <th>(4, 1)</th>\n",
       "      <th>(4, 8)</th>\n",
       "      <th>...</th>\n",
       "      <th>(27, 23)</th>\n",
       "      <th>(27, 30)</th>\n",
       "      <th>(27, 31)</th>\n",
       "      <th>(28, 24)</th>\n",
       "      <th>(28, 25)</th>\n",
       "      <th>(29, 25)</th>\n",
       "      <th>(29, 26)</th>\n",
       "      <th>(30, 26)</th>\n",
       "      <th>(30, 27)</th>\n",
       "      <th>(31, 27)</th>\n",
       "    </tr>\n",
       "  </thead>\n",
       "  <tbody>\n",
       "    <tr>\n",
       "      <th>0</th>\n",
       "      <td>0</td>\n",
       "      <td>0</td>\n",
       "      <td>0</td>\n",
       "      <td>0</td>\n",
       "      <td>0</td>\n",
       "      <td>0</td>\n",
       "      <td>0</td>\n",
       "      <td>0</td>\n",
       "      <td>0</td>\n",
       "      <td>0</td>\n",
       "      <td>...</td>\n",
       "      <td>0</td>\n",
       "      <td>0</td>\n",
       "      <td>0</td>\n",
       "      <td>0</td>\n",
       "      <td>0</td>\n",
       "      <td>0</td>\n",
       "      <td>0</td>\n",
       "      <td>0</td>\n",
       "      <td>0</td>\n",
       "      <td>0</td>\n",
       "    </tr>\n",
       "    <tr>\n",
       "      <th>1</th>\n",
       "      <td>-100</td>\n",
       "      <td>-100</td>\n",
       "      <td>0</td>\n",
       "      <td>-100</td>\n",
       "      <td>-100</td>\n",
       "      <td>0</td>\n",
       "      <td>0</td>\n",
       "      <td>-100</td>\n",
       "      <td>-100</td>\n",
       "      <td>0</td>\n",
       "      <td>...</td>\n",
       "      <td>0</td>\n",
       "      <td>-100</td>\n",
       "      <td>0</td>\n",
       "      <td>0</td>\n",
       "      <td>0</td>\n",
       "      <td>-100</td>\n",
       "      <td>-100</td>\n",
       "      <td>0</td>\n",
       "      <td>-100</td>\n",
       "      <td>0</td>\n",
       "    </tr>\n",
       "  </tbody>\n",
       "</table>\n",
       "<p>2 rows × 98 columns</p>\n",
       "</div>"
      ],
      "text/plain": [
       "   (0, 4)  (1, 4)  (1, 5)  (2, 5)  (2, 6)  (3, 6)  (3, 7)  (4, 0)  (4, 1)  \\\n",
       "0       0       0       0       0       0       0       0       0       0   \n",
       "1    -100    -100       0    -100    -100       0       0    -100    -100   \n",
       "\n",
       "   (4, 8)  ...  (27, 23)  (27, 30)  (27, 31)  (28, 24)  (28, 25)  (29, 25)  \\\n",
       "0       0  ...         0         0         0         0         0         0   \n",
       "1       0  ...         0      -100         0         0         0      -100   \n",
       "\n",
       "   (29, 26)  (30, 26)  (30, 27)  (31, 27)  \n",
       "0         0         0         0         0  \n",
       "1      -100         0      -100         0  \n",
       "\n",
       "[2 rows x 98 columns]"
      ]
     },
     "execution_count": 55,
     "metadata": {},
     "output_type": "execute_result"
    }
   ],
   "source": [
    "Q_black"
   ]
  },
  {
   "cell_type": "code",
   "execution_count": 74,
   "id": "c5038bc0",
   "metadata": {},
   "outputs": [
    {
     "data": {
      "text/plain": [
       "array([[ 1,  1,  1,  1,  1,  1,  1,  1,  1,  1,  1,  1,  0,  0,  0,  0,\n",
       "         0,  0,  0,  0, -1, -1, -1, -1, -1, -1, -1, -1, -1, -1, -1, -1]])"
      ]
     },
     "execution_count": 74,
     "metadata": {},
     "output_type": "execute_result"
    }
   ],
   "source": [
    "black_boards"
   ]
  },
  {
   "cell_type": "code",
   "execution_count": 73,
   "id": "7b87c8dc",
   "metadata": {},
   "outputs": [
    {
     "data": {
      "text/plain": [
       "(1,\n",
       " array([[ 1,  1,  1,  1,  1,  1,  1,  1,  1,  1,  1,  1,  0,  0,  0,  0,\n",
       "          0,  0,  0,  0, -1, -1, -1, -1, -1, -1, -1, -1, -1, -1, -1, -1],\n",
       "        [ 0,  0,  0,  0,  1,  0,  0,  0,  0, -1,  0,  0,  0,  0,  0,  0,\n",
       "          0,  0,  0,  0,  0,  0,  0,  0,  0,  0,  0,  0,  0,  0,  0,  0]]))"
      ]
     },
     "execution_count": 73,
     "metadata": {},
     "output_type": "execute_result"
    }
   ],
   "source": [
    "initialise_board(bb, 1, Q_black, black_boards)"
   ]
  },
  {
   "cell_type": "code",
   "execution_count": 60,
   "id": "c8fe9c21",
   "metadata": {},
   "outputs": [],
   "source": [
    "def initialise_board(initial_board, agent, Q_color, color_boards):\n",
    "    '''Function that creates the index (that will be assigned to it in the Q table) for a given board. '''\n",
    "    #case where board is not in white_boards/black_board\n",
    "    if sum([(initial_board == board).all() for board in color_boards]) == 0:\n",
    "        #initialise board in Q table\n",
    "        color_boards = np.append(color_boards, [initial_board], axis=0)\n",
    "        #add board index as row  in Q\n",
    "        ind_board = color_boards.shape[0] -1 \n",
    "        Q_color.loc[ind_board] = 0\n",
    "\n",
    "    #case where board was already seen\n",
    "    else: \n",
    "        #first create list where first true is the idx of the board\n",
    "        ind_board = [idx for idx, bb in enumerate([(initial_board == b).all() for b in color_boards]) if bb][0]\n",
    "\n",
    "    return ind_board, color_boards"
   ]
  },
  {
   "cell_type": "code",
   "execution_count": 12,
   "id": "d8b8d492",
   "metadata": {},
   "outputs": [],
   "source": [
    "def find_move(initial_board, agent, ind_board, Q_color, color_mult_caps_dict = {}):\n",
    "    '''finds the best legal move consider all cases where there is more than 1 legal - if move is not legal updates\n",
    "    Qtable with -100'''\n",
    "    is_legal = False\n",
    "    while is_legal == False:\n",
    "        #choose move by selecting the max col in row representing current board\n",
    "        moves = list(Q_color.loc[ind_board, Q_color.loc[ind_board] == max(Q_color.loc[ind_board])].index)\n",
    "        #if more than one optimal move\n",
    "        #pdb.set_trace()\n",
    "        if len(moves)>1: \n",
    "            #random choice \n",
    "            my_move = moves[randrange(len(moves))]\n",
    "        else:\n",
    "            my_move = moves[0]\n",
    "\n",
    "        full_state = [initial_board, agent, my_move]\n",
    "        #pdb.set_trace()\n",
    "        is_legal, caps = referee(action_space, full_state)\n",
    "        if not is_legal:\n",
    "            #set move to -100 (i.e. illegal)\n",
    "            Q_color[my_move][ind_board] += -100\n",
    "        \n",
    "    #NOW my_move is legal\n",
    "    #if you can eat\n",
    "    if caps != 0:\n",
    "        #pdb.set_trace()\n",
    "        # RARE: if there are multiple double caps\n",
    "        if len(caps[0]) > 1 and len(caps) > 1:\n",
    "            #add board to nested dict of situation with multiple caps for white\n",
    "            if ind_board not in color_mult_caps_dict.keys():\n",
    "                color_mult_caps_dict[ind_board] = {}\n",
    "                for mov in caps:\n",
    "                    color_mult_caps_dict[ind_board][str(mov)] = 0\n",
    "            my_move = max(color_mult_caps_dict[ind_board])\n",
    "            my_move = [mov for mov in caps if str(mov) == my_move][0]\n",
    "        #case when there's one multiple cap\n",
    "        elif len(caps[0]) > 1:\n",
    "            my_move = caps[0]\n",
    "            \n",
    "    return my_move"
   ]
  },
  {
   "cell_type": "code",
   "execution_count": 13,
   "id": "5b8f4f33",
   "metadata": {},
   "outputs": [],
   "source": [
    "def update_board(initial_board,  agent, ind_board, my_move, color_hist, turns_without_cap = 0):\n",
    "    '''return new board and updates the number of turns without cap'''\n",
    "    #update board after move\n",
    "    #first rare case where there are multiple caps\n",
    "    if type(my_move) == list:\n",
    "        turns_without_cap = 0\n",
    "        for cap in my_move:\n",
    "            initial_board = nextState([initial_board, agent, cap], cap)\n",
    "    #all other cases (single cap or simple move)\n",
    "    else:\n",
    "        if initial_board[my_move[1]] != 0:\n",
    "            turns_without_cap = 0\n",
    "        else:\n",
    "            turns_without_cap += 1\n",
    "        initial_board = nextState([initial_board, agent, my_move], my_move)\n",
    "    visualize([initial_board, agent])\n",
    "    #add to history of moves in this game for white\n",
    "    color_hist[ind_board]= my_move\n",
    "    return initial_board, turns_without_cap"
   ]
  },
  {
   "cell_type": "code",
   "execution_count": 76,
   "id": "b38c4cfc",
   "metadata": {},
   "outputs": [],
   "source": [
    "def Q_table_update(Q_table, color_hist, color_mult_caps_dict, agent, winner):\n",
    "\n",
    "    if winner:\n",
    "        #for every board index and move\n",
    "        for ind, moves in color_hist.items():\n",
    "            #if move is not multiple caps update Q_table with positive reward\n",
    "            #pdb.set_trace()\n",
    "            if type(moves) == tuple:\n",
    "                Q_table[moves][ind] += 0.5\n",
    "        \n",
    "            #if multiple caps enter the nested dict\n",
    "            else:\n",
    "                if str(moves) in color_mult_caps_dict[ind].keys():\n",
    "                    color_mult_caps_dict[ind][str(moves)] += 0.5\n",
    "                else:\n",
    "                    color_mult_caps_dict[ind] = {str(moves): 0.5}\n",
    "                   \n",
    "        \n",
    "    else:\n",
    "        #for every board index and move\n",
    "        for ind, moves in color_hist.items():\n",
    "            #if move is not multiple caps update Q_table with negative reward\n",
    "            if type(moves) == tuple:\n",
    "                Q_table[moves][ind] += -0.5#####CHANGEEEEEEE\n",
    "        \n",
    "            #if multiple caps enter the nested dict\n",
    "            else:\n",
    "                if str(moves) in color_mult_caps_dict[ind].keys():\n",
    "                    color_mult_caps_dict[ind][str(moves)] += -0.5\n",
    "                else:\n",
    "                    color_mult_caps_dict[ind] = {str(moves): -0.5}\n",
    "                        \n",
    "    #reset history for new game MAYBE NOT NECESSARY\n",
    "    color_hist = {}\n",
    "    return Q_table, color_mult_caps_dict"
   ]
  },
  {
   "cell_type": "code",
   "execution_count": 111,
   "id": "2c64dc89",
   "metadata": {},
   "outputs": [
    {
     "name": "stdout",
     "output_type": "stream",
     "text": [
      "0 2 (2, 3)\n",
      "1 1 (2, 3)\n",
      "2 -3 (2, 3)\n"
     ]
    }
   ],
   "source": [
    "d = {2: (2,3), 1:(2,3)}\n",
    "d[-3] = (2,3)\n",
    "for ind, moves in enumerate(d):\n",
    "    print(ind, moves, d[moves])"
   ]
  },
  {
   "cell_type": "code",
   "execution_count": 110,
   "id": "2137dce6",
   "metadata": {},
   "outputs": [
    {
     "data": {
      "text/plain": [
       "3"
      ]
     },
     "execution_count": 110,
     "metadata": {},
     "output_type": "execute_result"
    }
   ],
   "source": [
    "len(d)"
   ]
  },
  {
   "cell_type": "markdown",
   "id": "bb43b87d",
   "metadata": {},
   "source": [
    "# HERE"
   ]
  },
  {
   "cell_type": "markdown",
   "id": "12bc3fe0",
   "metadata": {},
   "source": [
    "left off here, write case where move is not tuple and decide whether Q_table_update is of any use!! Keep on rolling brov"
   ]
  },
  {
   "cell_type": "code",
   "execution_count": null,
   "id": "6343c632",
   "metadata": {},
   "outputs": [],
   "source": [
    "def bell_eq(Q_color, color_hist, lr, reward, discount_factor):\n",
    "    \n",
    "    #for every board index and move\n",
    "    for move_number, ind in enumerate(color_hist):\n",
    "        move = color_hist[ind]\n",
    "        if type(move) == tuple:\n",
    "            if move_number < len(color_hist)-1:\n",
    "                next_move_val = Q_color[color_hist[ind+1]][ind+1]\n",
    "            else:\n",
    "                next_move_val = 1\n",
    "            \n",
    "            old_value = Q_color[move][ind]\n",
    "            Q_color[move][ind] = (1-lr)* old_value + lr*(reward + discount_factor * next_move_val)\n",
    "    \n",
    "        else:\n",
    "            \n",
    "            \n",
    "            \n",
    "    return Q_color"
   ]
  },
  {
   "cell_type": "code",
   "execution_count": 86,
   "id": "5cec77a1",
   "metadata": {},
   "outputs": [],
   "source": [
    "def training_Q(initial_board, agent, Q_white, Q_black, white_boards, black_boards, white_mult_caps_dict, \n",
    "            black_mult_caps_dict, white_hist = {}, black_hist = {}, game_is_over = False, turns_without_cap = 0):\n",
    "\n",
    "    while game_is_over == False:\n",
    "        if agent == -1:\n",
    "            ind_board, white_boards = initialise_board(initial_board, agent, Q_white, white_boards)\n",
    "            my_move = find_move(initial_board, agent, ind_board, Q_white, white_mult_caps_dict)\n",
    "            initial_board, turns_without_cap = update_board(initial_board, agent, ind_board, my_move, white_hist)\n",
    "            agent = 1\n",
    "            game_is_over, winner = game_over(initial_board, agent, action_space, turns_without_cap)\n",
    "            if game_is_over == True:\n",
    "                Q_white, white_mult_caps_dict = Q_table_update(Q_white, white_hist, white_mult_caps_dict, -1, True)\n",
    "                Q_black, black_mult_caps_dict = Q_table_update(Q_black, black_hist, black_mult_caps_dict, 1, False)\n",
    "                return 'and the winner is ' , winner\n",
    "\n",
    "            #return new_board, turns_without_cap\n",
    "        \n",
    "        elif agent == 1:\n",
    "            ind_board, black_boards = initialise_board(initial_board, agent, Q_black, black_boards)\n",
    "            #pdb.set_trace()\n",
    "            my_move = find_move(initial_board, agent, ind_board, Q_black, black_mult_caps_dict)\n",
    "            initial_board, turns_without_cap = update_board(initial_board, agent, ind_board, my_move, black_hist)\n",
    "            agent = -1\n",
    "            game_is_over, winner = game_over(initial_board, agent, action_space, turns_without_cap)\n",
    "            if game_is_over == True:\n",
    "                Q_black, black_mult_caps_dict = Q_table_update(Q_black, black_hist, black_mult_caps_dict, 1, True)\n",
    "                Q_white, white_mult_caps_dict = Q_table_update(Q_white, white_hist, white_mult_caps_dict, -1, False)\n",
    "                return 'and the winner is ' , winner,black_boards\n",
    "    \n",
    "\n",
    "\n",
    "    white_hist = {}\n",
    "    black_hist = {}\n",
    "    \n",
    "    return initial_board"
   ]
  },
  {
   "cell_type": "code",
   "execution_count": 101,
   "id": "ac240723",
   "metadata": {
    "scrolled": true
   },
   "outputs": [
    {
     "data": {
      "text/plain": [
       "{2: {'[(4, 9), (13, 17)]': 0, '[(5, 9), (12, 17)]': 1.0}}"
      ]
     },
     "execution_count": 101,
     "metadata": {},
     "output_type": "execute_result"
    }
   ],
   "source": [
    "black_mult_caps_dict"
   ]
  },
  {
   "cell_type": "code",
   "execution_count": 102,
   "id": "e27e318f",
   "metadata": {},
   "outputs": [
    {
     "data": {
      "text/html": [
       "<div>\n",
       "<style scoped>\n",
       "    .dataframe tbody tr th:only-of-type {\n",
       "        vertical-align: middle;\n",
       "    }\n",
       "\n",
       "    .dataframe tbody tr th {\n",
       "        vertical-align: top;\n",
       "    }\n",
       "\n",
       "    .dataframe thead th {\n",
       "        text-align: right;\n",
       "    }\n",
       "</style>\n",
       "<table border=\"1\" class=\"dataframe\">\n",
       "  <thead>\n",
       "    <tr style=\"text-align: right;\">\n",
       "      <th></th>\n",
       "      <th>(4, 9)</th>\n",
       "    </tr>\n",
       "  </thead>\n",
       "  <tbody>\n",
       "    <tr>\n",
       "      <th>1</th>\n",
       "      <td>2.0</td>\n",
       "    </tr>\n",
       "  </tbody>\n",
       "</table>\n",
       "</div>"
      ],
      "text/plain": [
       "   (4, 9)\n",
       "1     2.0"
      ]
     },
     "execution_count": 102,
     "metadata": {},
     "output_type": "execute_result"
    }
   ],
   "source": [
    "Q_black.loc\n",
    "Q_black.loc[[1], [(4,9)]]"
   ]
  },
  {
   "cell_type": "code",
   "execution_count": 100,
   "id": "1355ede2",
   "metadata": {
    "scrolled": true
   },
   "outputs": [
    {
     "name": "stdout",
     "output_type": "stream",
     "text": [
      "> \u001b[0;32m/var/folders/k4/4m28kxjd6l712gcj21bkw3fh0000gn/T/ipykernel_11189/3149157757.py\u001b[0m(21)\u001b[0;36mtraining_Q\u001b[0;34m()\u001b[0m\n",
      "\u001b[0;32m     19 \u001b[0;31m            \u001b[0mind_board\u001b[0m\u001b[0;34m,\u001b[0m \u001b[0mblack_boards\u001b[0m \u001b[0;34m=\u001b[0m \u001b[0minitialise_board\u001b[0m\u001b[0;34m(\u001b[0m\u001b[0minitial_board\u001b[0m\u001b[0;34m,\u001b[0m \u001b[0magent\u001b[0m\u001b[0;34m,\u001b[0m \u001b[0mQ_black\u001b[0m\u001b[0;34m,\u001b[0m \u001b[0mblack_boards\u001b[0m\u001b[0;34m)\u001b[0m\u001b[0;34m\u001b[0m\u001b[0;34m\u001b[0m\u001b[0m\n",
      "\u001b[0m\u001b[0;32m     20 \u001b[0;31m            \u001b[0mpdb\u001b[0m\u001b[0;34m.\u001b[0m\u001b[0mset_trace\u001b[0m\u001b[0;34m(\u001b[0m\u001b[0;34m)\u001b[0m\u001b[0;34m\u001b[0m\u001b[0;34m\u001b[0m\u001b[0m\n",
      "\u001b[0m\u001b[0;32m---> 21 \u001b[0;31m            \u001b[0mmy_move\u001b[0m \u001b[0;34m=\u001b[0m \u001b[0mfind_move\u001b[0m\u001b[0;34m(\u001b[0m\u001b[0minitial_board\u001b[0m\u001b[0;34m,\u001b[0m \u001b[0magent\u001b[0m\u001b[0;34m,\u001b[0m \u001b[0mind_board\u001b[0m\u001b[0;34m,\u001b[0m \u001b[0mQ_black\u001b[0m\u001b[0;34m,\u001b[0m \u001b[0mblack_mult_caps_dict\u001b[0m\u001b[0;34m)\u001b[0m\u001b[0;34m\u001b[0m\u001b[0;34m\u001b[0m\u001b[0m\n",
      "\u001b[0m\u001b[0;32m     22 \u001b[0;31m            \u001b[0minitial_board\u001b[0m\u001b[0;34m,\u001b[0m \u001b[0mturns_without_cap\u001b[0m \u001b[0;34m=\u001b[0m \u001b[0mupdate_board\u001b[0m\u001b[0;34m(\u001b[0m\u001b[0minitial_board\u001b[0m\u001b[0;34m,\u001b[0m \u001b[0magent\u001b[0m\u001b[0;34m,\u001b[0m \u001b[0mind_board\u001b[0m\u001b[0;34m,\u001b[0m \u001b[0mmy_move\u001b[0m\u001b[0;34m,\u001b[0m \u001b[0mblack_hist\u001b[0m\u001b[0;34m)\u001b[0m\u001b[0;34m\u001b[0m\u001b[0;34m\u001b[0m\u001b[0m\n",
      "\u001b[0m\u001b[0;32m     23 \u001b[0;31m            \u001b[0magent\u001b[0m \u001b[0;34m=\u001b[0m \u001b[0;34m-\u001b[0m\u001b[0;36m1\u001b[0m\u001b[0;34m\u001b[0m\u001b[0;34m\u001b[0m\u001b[0m\n",
      "\u001b[0m\n",
      "ipdb> c\n"
     ]
    },
    {
     "name": "stderr",
     "output_type": "stream",
     "text": [
      "/var/folders/k4/4m28kxjd6l712gcj21bkw3fh0000gn/T/ipykernel_11189/1013862122.py:21: SettingWithCopyWarning: \n",
      "A value is trying to be set on a copy of a slice from a DataFrame\n",
      "\n",
      "See the caveats in the documentation: https://pandas.pydata.org/pandas-docs/stable/user_guide/indexing.html#returning-a-view-versus-a-copy\n",
      "  Q_color[my_move][ind_board] += -100\n"
     ]
    },
    {
     "data": {
      "image/png": "[encoded data removed]",
      "text/plain": [
       "<Figure size 300x300 with 1 Axes>"
      ]
     },
     "metadata": {},
     "output_type": "display_data"
    },
    {
     "name": "stderr",
     "output_type": "stream",
     "text": [
      "/var/folders/k4/4m28kxjd6l712gcj21bkw3fh0000gn/T/ipykernel_11189/186530320.py:9: SettingWithCopyWarning: \n",
      "A value is trying to be set on a copy of a slice from a DataFrame\n",
      "\n",
      "See the caveats in the documentation: https://pandas.pydata.org/pandas-docs/stable/user_guide/indexing.html#returning-a-view-versus-a-copy\n",
      "  Q_table[moves][ind] += 0.5\n"
     ]
    }
   ],
   "source": [
    "#STORING value after running training_Q!!!!\n",
    "a,b, black_boards = training_Q(bb, 1, Q_white, Q_black, white_boards, black_boards, white_mult_caps_dict, \n",
    "            black_mult_caps_dict, white_hist, black_hist)"
   ]
  },
  {
   "cell_type": "code",
   "execution_count": 103,
   "id": "abb80c1c",
   "metadata": {},
   "outputs": [
    {
     "data": {
      "text/plain": [
       "{}"
      ]
     },
     "execution_count": 103,
     "metadata": {},
     "output_type": "execute_result"
    }
   ],
   "source": [
    "white_hist"
   ]
  },
  {
   "cell_type": "code",
   "execution_count": 97,
   "id": "ce3000d0",
   "metadata": {},
   "outputs": [
    {
     "data": {
      "image/png": "[encoded data removed]",
      "text/plain": [
       "<Figure size 300x300 with 1 Axes>"
      ]
     },
     "metadata": {},
     "output_type": "display_data"
    }
   ],
   "source": [
    "bb = np.array([ 0, 0, 0, 0, 0, 0, 0, 0, 0, 0, 0, 0, 0, 0, 0, 0,  0, 0, 0, 0,\n",
    "                0, 0, 0, 0, 0, 0, 0, 0, 0, 0, 0, 0,])\n",
    "\n",
    "bb[4] = 1\n",
    "bb[5] = 1\n",
    "bb[9] = -1\n",
    "bb[17] = -1\n",
    "\n",
    "visualize([bb, (0,4)])"
   ]
  },
  {
   "cell_type": "code",
   "execution_count": 203,
   "id": "9caad99a",
   "metadata": {},
   "outputs": [
    {
     "data": {
      "text/plain": [
       "0.0"
      ]
     },
     "execution_count": 203,
     "metadata": {},
     "output_type": "execute_result"
    }
   ],
   "source": [
    "#Q_white.loc[[0], [(1,4)]].values()# += -0.5\n",
    "Q_white[(1,4)][0] #= 0.5"
   ]
  },
  {
   "cell_type": "code",
   "execution_count": 156,
   "id": "516c1163",
   "metadata": {},
   "outputs": [
    {
     "data": {
      "text/plain": [
       "(True, 1)"
      ]
     },
     "execution_count": 156,
     "metadata": {},
     "output_type": "execute_result"
    }
   ],
   "source": [
    "game_over(bb, -1, action_space, 20)"
   ]
  },
  {
   "cell_type": "code",
   "execution_count": 58,
   "id": "ac00703b",
   "metadata": {},
   "outputs": [
    {
     "data": {
      "image/png": "[encoded data removed]",
      "text/plain": [
       "<Figure size 300x300 with 1 Axes>"
      ]
     },
     "metadata": {},
     "output_type": "display_data"
    },
    {
     "data": {
      "text/plain": [
       "(array([ 1,  1,  1,  1,  1,  1,  1,  1,  1,  1,  1,  1,  0,  0,  0,  0,  0,\n",
       "         0,  0,  0, -1, -1, -1, -1, -1, -1, -1, -1, -1, -1, -1, -1]),\n",
       " 1)"
      ]
     },
     "execution_count": 58,
     "metadata": {},
     "output_type": "execute_result"
    }
   ],
   "source": [
    "update_board(board_1, -1, 1, (20,16), [])"
   ]
  },
  {
   "cell_type": "code",
   "execution_count": 77,
   "id": "34a174cf",
   "metadata": {},
   "outputs": [
    {
     "data": {
      "text/html": [
       "<div>\n",
       "<style scoped>\n",
       "    .dataframe tbody tr th:only-of-type {\n",
       "        vertical-align: middle;\n",
       "    }\n",
       "\n",
       "    .dataframe tbody tr th {\n",
       "        vertical-align: top;\n",
       "    }\n",
       "\n",
       "    .dataframe thead th {\n",
       "        text-align: right;\n",
       "    }\n",
       "</style>\n",
       "<table border=\"1\" class=\"dataframe\">\n",
       "  <thead>\n",
       "    <tr style=\"text-align: right;\">\n",
       "      <th></th>\n",
       "      <th>(0, 4)</th>\n",
       "    </tr>\n",
       "  </thead>\n",
       "  <tbody>\n",
       "    <tr>\n",
       "      <th>0</th>\n",
       "      <td>9</td>\n",
       "    </tr>\n",
       "  </tbody>\n",
       "</table>\n",
       "</div>"
      ],
      "text/plain": [
       "   (0, 4)\n",
       "0       9"
      ]
     },
     "execution_count": 77,
     "metadata": {},
     "output_type": "execute_result"
    }
   ],
   "source": [
    "Q_white.loc[[0],[(0,4)]] += 3\n",
    "Q_white.loc[[0],[(0,4)]]"
   ]
  },
  {
   "cell_type": "code",
   "execution_count": 14,
   "id": "c89d8906",
   "metadata": {
    "scrolled": true
   },
   "outputs": [
    {
     "data": {
      "text/html": [
       "<div>\n",
       "<style scoped>\n",
       "    .dataframe tbody tr th:only-of-type {\n",
       "        vertical-align: middle;\n",
       "    }\n",
       "\n",
       "    .dataframe tbody tr th {\n",
       "        vertical-align: top;\n",
       "    }\n",
       "\n",
       "    .dataframe thead th {\n",
       "        text-align: right;\n",
       "    }\n",
       "</style>\n",
       "<table border=\"1\" class=\"dataframe\">\n",
       "  <thead>\n",
       "    <tr style=\"text-align: right;\">\n",
       "      <th></th>\n",
       "      <th>(0, 4)</th>\n",
       "      <th>(1, 4)</th>\n",
       "      <th>(1, 5)</th>\n",
       "      <th>(2, 5)</th>\n",
       "      <th>(2, 6)</th>\n",
       "      <th>(3, 6)</th>\n",
       "      <th>(3, 7)</th>\n",
       "      <th>(4, 0)</th>\n",
       "      <th>(4, 1)</th>\n",
       "      <th>(4, 8)</th>\n",
       "      <th>...</th>\n",
       "      <th>(27, 23)</th>\n",
       "      <th>(27, 30)</th>\n",
       "      <th>(27, 31)</th>\n",
       "      <th>(28, 24)</th>\n",
       "      <th>(28, 25)</th>\n",
       "      <th>(29, 25)</th>\n",
       "      <th>(29, 26)</th>\n",
       "      <th>(30, 26)</th>\n",
       "      <th>(30, 27)</th>\n",
       "      <th>(31, 27)</th>\n",
       "    </tr>\n",
       "  </thead>\n",
       "  <tbody>\n",
       "    <tr>\n",
       "      <th>0</th>\n",
       "      <td>0</td>\n",
       "      <td>0</td>\n",
       "      <td>0</td>\n",
       "      <td>0</td>\n",
       "      <td>0</td>\n",
       "      <td>0</td>\n",
       "      <td>0</td>\n",
       "      <td>0</td>\n",
       "      <td>0</td>\n",
       "      <td>0</td>\n",
       "      <td>...</td>\n",
       "      <td>0</td>\n",
       "      <td>0</td>\n",
       "      <td>0</td>\n",
       "      <td>0</td>\n",
       "      <td>0</td>\n",
       "      <td>0</td>\n",
       "      <td>0</td>\n",
       "      <td>0</td>\n",
       "      <td>0</td>\n",
       "      <td>0</td>\n",
       "    </tr>\n",
       "  </tbody>\n",
       "</table>\n",
       "<p>1 rows × 98 columns</p>\n",
       "</div>"
      ],
      "text/plain": [
       "   (0, 4)  (1, 4)  (1, 5)  (2, 5)  (2, 6)  (3, 6)  (3, 7)  (4, 0)  (4, 1)  \\\n",
       "0       0       0       0       0       0       0       0       0       0   \n",
       "\n",
       "   (4, 8)  ...  (27, 23)  (27, 30)  (27, 31)  (28, 24)  (28, 25)  (29, 25)  \\\n",
       "0       0  ...         0         0         0         0         0         0   \n",
       "\n",
       "   (29, 26)  (30, 26)  (30, 27)  (31, 27)  \n",
       "0         0         0         0         0  \n",
       "\n",
       "[1 rows x 98 columns]"
      ]
     },
     "execution_count": 14,
     "metadata": {},
     "output_type": "execute_result"
    }
   ],
   "source": [
    "Q_white = pd.DataFrame(data = 0, index=[0], columns=action_space)\n",
    "Q_white.head()"
   ]
  },
  {
   "cell_type": "code",
   "execution_count": 80,
   "id": "a5b5c6d2",
   "metadata": {},
   "outputs": [],
   "source": [
    "board_1 = np.array([1,1,1,1,1,1,1,1,1,1,1,1,0,0,0,0,0,0,0,0,-1,-1,-1,-1,-1,-1,-1,-1,-1,-1,-1,-1])\n",
    "Q_white = pd.DataFrame(data = 0, index=[0], columns=action_space)\n",
    "Q_black = pd.DataFrame(data = 0, index=[0], columns=action_space)\n",
    "white_boards = np.array([board_1])\n",
    "black_boards = np.array([board_1])\n",
    "white_mult_caps_dict = {}\n",
    "black_mult_caps_dict = {}\n",
    "white_hist = {} #ind_board as key and move as value\n",
    "black_hist = {}"
   ]
  },
  {
   "cell_type": "code",
   "execution_count": null,
   "id": "5d603c87",
   "metadata": {},
   "outputs": [],
   "source": []
  },
  {
   "cell_type": "markdown",
   "id": "2aac434f",
   "metadata": {},
   "source": [
    "## Game"
   ]
  },
  {
   "cell_type": "code",
   "execution_count": null,
   "id": "f19565b6",
   "metadata": {},
   "outputs": [],
   "source": [
    "def game(initial_board):\n",
    "    '''First thing is to create the Q_table and the other necessary tables/dict to keep track of the score. It is \n",
    "    also crucial that these are then stored somewhere in order to NOT START AGAIN.\n",
    "    Within a while loop call the training and the game over functions for white then black, back and forth,\n",
    "    until the game is over. Then finally update the Q_tables.'''\n",
    "    \n",
    "    while game_is_over = False:\n",
    "        training_white()\n",
    "        game_is_over = game_over(board, 1, action_space)    \n",
    "        training_black()\n",
    "        game_is_over = game_over(board, -1, action_space)\n",
    "    \n",
    "    \n",
    "    "
   ]
  },
  {
   "cell_type": "code",
   "execution_count": null,
   "id": "9b019422",
   "metadata": {},
   "outputs": [],
   "source": []
  },
  {
   "cell_type": "code",
   "execution_count": null,
   "id": "1e920478",
   "metadata": {},
   "outputs": [],
   "source": []
  },
  {
   "cell_type": "code",
   "execution_count": null,
   "id": "a67b6cf3",
   "metadata": {},
   "outputs": [],
   "source": []
  },
  {
   "cell_type": "code",
   "execution_count": null,
   "id": "ab7b109d",
   "metadata": {},
   "outputs": [],
   "source": []
  },
  {
   "cell_type": "code",
   "execution_count": null,
   "id": "c5f8d67a",
   "metadata": {},
   "outputs": [],
   "source": [
    "def training_white(initial_board, agent = -1, white_boards = np.array([board_1]), white_hist = [], \n",
    "                   white_mult_caps_dict={}):\n",
    "    '''Problem with this function is that it relies on Q_white which relies on white_state_dict both defined outside\n",
    "    the function. In addition there are many table/list that are important to the training purpose. NEED to \n",
    "    understand what it will return!\n",
    "    '''\n",
    "    if sum([(initial_board == board).all() for board in white_boards]) == 0:\n",
    "        #initialise board in Q table\n",
    "        white_boards = np.append(white_boards, [initial_board], axis=0)\n",
    "        #add board index as row  in Q\n",
    "        ind_board = white_boards.shape[0] -1 \n",
    "        Q_white.loc[ind_board] = 0\n",
    "\n",
    "    #case where board was already seen\n",
    "    else: \n",
    "        #first create list where first true is the idx of the board\n",
    "        ind_board = [idx for idx, bb in enumerate([(initial_board == b).all() for b in white_boards]) if bb][0]\n",
    "\n",
    "    is_legal = False\n",
    "    while is_legal == False:\n",
    "        #choose move by selecting the max col in row representing current board\n",
    "        moves = list(Q_white.loc[ind_board, Q_white.loc[ind_board] == max(Q_white.loc[ind_board])].index)\n",
    "        #if more than one optimal move\n",
    "        if len(moves)>1: \n",
    "            #random choice \n",
    "            my_move = moves[randrange(len(moves))]\n",
    "        else:\n",
    "            my_move = moves\n",
    "\n",
    "        full_state = [initial_board, agent, my_move]\n",
    "        is_legal, caps = referee(action_space, full_state)\n",
    "        if not is_legal:\n",
    "            #set move to -100 (i.e. illegal)\n",
    "            Q_white.loc[[ind_board], [my_move]] += -100\n",
    "\n",
    "    #NOW my_move is legal\n",
    "    #if you can eat\n",
    "    if caps != 0:\n",
    "        # RARE: if there are multiple double caps\n",
    "        if len(caps[0]) > 1 and len(caps) > 1:\n",
    "            #add board to nested dict of situation with multiple caps for white\n",
    "            if ind_board not in white_mult_caps_dict.keys():\n",
    "                white_mult_caps_dict[ind_board] = {}\n",
    "                for mov in caps:\n",
    "                    white_mult_caps_dict[ind_board][str(mov)] = 0\n",
    "            my_move = max(white_mult_caps_dict[ind_board])\n",
    "            my_move = [mov for mov in caps if str(mov) == my_move][0]\n",
    "        \n",
    "        #case when there's one multiple cap\n",
    "        elif len(caps[0]) > 1:\n",
    "            pdb.set_trace()\n",
    "            my_move = caps[0]\n",
    "    #update board after move\n",
    "    #first rare case where there are multiple caps\n",
    "    if type(my_move) == list:\n",
    "        for cap in my_move:\n",
    "            initial_board = nextState([initial_board, agent, cap], cap)\n",
    "    #all other cases (single cap or simple move)\n",
    "    else:\n",
    "        initial_board = nextState([initial_board, agent, my_move], my_move)\n",
    "    visualize([initial_board, agent])\n",
    "    #add to history of moves in this game for white\n",
    "    white_hist.append(my_move)\n",
    "\n",
    "        \n",
    "        "
   ]
  },
  {
   "cell_type": "code",
   "execution_count": null,
   "id": "3e82fbe0",
   "metadata": {},
   "outputs": [],
   "source": []
  },
  {
   "cell_type": "code",
   "execution_count": null,
   "id": "48260c2b",
   "metadata": {},
   "outputs": [],
   "source": []
  },
  {
   "cell_type": "markdown",
   "id": "7682a094",
   "metadata": {},
   "source": [
    "# Luigi"
   ]
  },
  {
   "cell_type": "code",
   "execution_count": 22,
   "id": "64fbe64f",
   "metadata": {},
   "outputs": [],
   "source": [
    "numbers = np.arange(1,99,1)"
   ]
  },
  {
   "cell_type": "code",
   "execution_count": 23,
   "id": "02b4c4cf",
   "metadata": {},
   "outputs": [],
   "source": [
    "action_dict = dict(zip(numbers,action_space))"
   ]
  },
  {
   "cell_type": "code",
   "execution_count": 24,
   "id": "31c58ce1",
   "metadata": {
    "collapsed": true
   },
   "outputs": [
    {
     "data": {
      "text/plain": [
       "{1: (0, 4),\n",
       " 2: (1, 4),\n",
       " 3: (1, 5),\n",
       " 4: (2, 5),\n",
       " 5: (2, 6),\n",
       " 6: (3, 6),\n",
       " 7: (3, 7),\n",
       " 8: (4, 0),\n",
       " 9: (4, 1),\n",
       " 10: (4, 8),\n",
       " 11: (4, 9),\n",
       " 12: (5, 1),\n",
       " 13: (5, 2),\n",
       " 14: (5, 9),\n",
       " 15: (5, 10),\n",
       " 16: (6, 2),\n",
       " 17: (6, 3),\n",
       " 18: (6, 10),\n",
       " 19: (6, 11),\n",
       " 20: (7, 3),\n",
       " 21: (7, 11),\n",
       " 22: (8, 4),\n",
       " 23: (8, 12),\n",
       " 24: (9, 4),\n",
       " 25: (9, 5),\n",
       " 26: (9, 12),\n",
       " 27: (9, 13),\n",
       " 28: (10, 5),\n",
       " 29: (10, 6),\n",
       " 30: (10, 13),\n",
       " 31: (10, 14),\n",
       " 32: (11, 6),\n",
       " 33: (11, 7),\n",
       " 34: (11, 14),\n",
       " 35: (11, 15),\n",
       " 36: (12, 8),\n",
       " 37: (12, 9),\n",
       " 38: (12, 16),\n",
       " 39: (12, 17),\n",
       " 40: (13, 9),\n",
       " 41: (13, 10),\n",
       " 42: (13, 17),\n",
       " 43: (13, 18),\n",
       " 44: (14, 10),\n",
       " 45: (14, 11),\n",
       " 46: (14, 18),\n",
       " 47: (14, 19),\n",
       " 48: (15, 11),\n",
       " 49: (15, 19),\n",
       " 50: (16, 12),\n",
       " 51: (16, 20),\n",
       " 52: (17, 12),\n",
       " 53: (17, 13),\n",
       " 54: (17, 20),\n",
       " 55: (17, 21),\n",
       " 56: (18, 13),\n",
       " 57: (18, 14),\n",
       " 58: (18, 21),\n",
       " 59: (18, 22),\n",
       " 60: (19, 14),\n",
       " 61: (19, 15),\n",
       " 62: (19, 22),\n",
       " 63: (19, 23),\n",
       " 64: (20, 16),\n",
       " 65: (20, 17),\n",
       " 66: (20, 24),\n",
       " 67: (20, 25),\n",
       " 68: (21, 17),\n",
       " 69: (21, 18),\n",
       " 70: (21, 25),\n",
       " 71: (21, 26),\n",
       " 72: (22, 18),\n",
       " 73: (22, 19),\n",
       " 74: (22, 26),\n",
       " 75: (22, 27),\n",
       " 76: (23, 19),\n",
       " 77: (23, 27),\n",
       " 78: (24, 20),\n",
       " 79: (24, 28),\n",
       " 80: (25, 20),\n",
       " 81: (25, 21),\n",
       " 82: (25, 28),\n",
       " 83: (25, 29),\n",
       " 84: (26, 21),\n",
       " 85: (26, 22),\n",
       " 86: (26, 29),\n",
       " 87: (26, 30),\n",
       " 88: (27, 22),\n",
       " 89: (27, 23),\n",
       " 90: (27, 30),\n",
       " 91: (27, 31),\n",
       " 92: (28, 24),\n",
       " 93: (28, 25),\n",
       " 94: (29, 25),\n",
       " 95: (29, 26),\n",
       " 96: (30, 26),\n",
       " 97: (30, 27),\n",
       " 98: (31, 27)}"
      ]
     },
     "execution_count": 24,
     "metadata": {},
     "output_type": "execute_result"
    }
   ],
   "source": [
    "action_dict"
   ]
  },
  {
   "cell_type": "code",
   "execution_count": 25,
   "id": "87d1b7e5",
   "metadata": {},
   "outputs": [],
   "source": [
    "initial_state = [1,1,1,1,1,1,1,1,1,1,1,1,0,0,0,0,0,0,0,0,-1,-1,-1,-1,-1,-1,-1,-1,-1,-1,-1,-1]"
   ]
  },
  {
   "cell_type": "code",
   "execution_count": 26,
   "id": "59d02c9f",
   "metadata": {},
   "outputs": [],
   "source": [
    "zeros = np.zeros((1,98))"
   ]
  },
  {
   "cell_type": "code",
   "execution_count": 27,
   "id": "779e92c1",
   "metadata": {},
   "outputs": [],
   "source": [
    "Q = np.zeros((1,98))"
   ]
  },
  {
   "cell_type": "code",
   "execution_count": 28,
   "id": "ccbc8ee4",
   "metadata": {},
   "outputs": [
    {
     "data": {
      "text/plain": [
       "array([[0., 0., 0., 0., 0., 0., 0., 0., 0., 0., 0., 0., 0., 0., 0., 0.,\n",
       "        0., 0., 0., 0., 0., 0., 0., 0., 0., 0., 0., 0., 0., 0., 0., 0.,\n",
       "        0., 0., 0., 0., 0., 0., 0., 0., 0., 0., 0., 0., 0., 0., 0., 0.,\n",
       "        0., 0., 0., 0., 0., 0., 0., 0., 0., 0., 0., 0., 0., 0., 0., 0.,\n",
       "        0., 0., 0., 0., 0., 0., 0., 0., 0., 0., 0., 0., 0., 0., 0., 0.,\n",
       "        0., 0., 0., 0., 0., 0., 0., 0., 0., 0., 0., 0., 0., 0., 0., 0.,\n",
       "        0., 0.]])"
      ]
     },
     "execution_count": 28,
     "metadata": {},
     "output_type": "execute_result"
    }
   ],
   "source": [
    "Q"
   ]
  },
  {
   "cell_type": "code",
   "execution_count": 29,
   "id": "c18d7207",
   "metadata": {},
   "outputs": [],
   "source": [
    "rows = {'1' : [1,1,1,1,1,1,1,1,1,1,1,1,0,0,0,0,0,0,0,0,-1,-1,-1,-1,-1,-1,-1,-1,-1,-1,-1,-1]}"
   ]
  },
  {
   "cell_type": "code",
   "execution_count": 30,
   "id": "ede5ab78",
   "metadata": {},
   "outputs": [],
   "source": [
    "state = (1,1,1,1,1,2,2,3,5,11,2,3,4,5,2,1,4)"
   ]
  },
  {
   "cell_type": "code",
   "execution_count": 31,
   "id": "fc423771",
   "metadata": {},
   "outputs": [],
   "source": [
    "def learning(state,new_state,action,lr,reward,gamma):#state and action are int taken from dictionaries\n",
    "    Q[state,action] = Q[state,action] + lr * (reward + gamma * np.max(Q[new_state,:]) - Q[state,action])"
   ]
  },
  {
   "cell_type": "code",
   "execution_count": 32,
   "id": "7522acfc",
   "metadata": {},
   "outputs": [],
   "source": [
    "def game_over(board):\n",
    "    negative_counter = 0\n",
    "    positive_counter = 0\n",
    "    #CHANGE\n",
    "    for x in action_space:\n",
    "        if referee(x)[0] == True:\n",
    "            return False\n",
    "    #PROB delete\n",
    "    for x in board:\n",
    "        if x < 0:\n",
    "            negative_counter += 1\n",
    "        elif x > 0:\n",
    "            positive_counter += 1\n",
    "    if negative_counter > 0 and positive_counter > 0:\n",
    "        return False\n",
    "    return True\n",
    "    "
   ]
  },
  {
   "cell_type": "code",
   "execution_count": 33,
   "id": "d4704eb6",
   "metadata": {},
   "outputs": [],
   "source": [
    "def determine_reward():\n",
    "    if referee(action_space,full_state)[0] == False:\n",
    "        return -1\n",
    "    elif game_over() == True:\n",
    "        return 1 #don't understand why\n",
    "    else:\n",
    "        return 0"
   ]
  },
  {
   "cell_type": "code",
   "execution_count": 34,
   "id": "afd2ecf7",
   "metadata": {},
   "outputs": [],
   "source": [
    "def append_dict(state,Q):\n",
    "    if state not in rows.values():\n",
    "        rows[f'{len(rows)+1}'] = state\n",
    "        Q = np.append(Q,zeros,axis = 0)\n",
    "        return Q\n",
    "    return Q"
   ]
  },
  {
   "cell_type": "code",
   "execution_count": 35,
   "id": "b60b256e",
   "metadata": {},
   "outputs": [],
   "source": [
    "Q = append_dict([1,2,3,4,5,6,7,8,9],Q)"
   ]
  },
  {
   "cell_type": "code",
   "execution_count": 36,
   "id": "cc8ceab0",
   "metadata": {},
   "outputs": [
    {
     "data": {
      "text/plain": [
       "{'1': [1,\n",
       "  1,\n",
       "  1,\n",
       "  1,\n",
       "  1,\n",
       "  1,\n",
       "  1,\n",
       "  1,\n",
       "  1,\n",
       "  1,\n",
       "  1,\n",
       "  1,\n",
       "  0,\n",
       "  0,\n",
       "  0,\n",
       "  0,\n",
       "  0,\n",
       "  0,\n",
       "  0,\n",
       "  0,\n",
       "  -1,\n",
       "  -1,\n",
       "  -1,\n",
       "  -1,\n",
       "  -1,\n",
       "  -1,\n",
       "  -1,\n",
       "  -1,\n",
       "  -1,\n",
       "  -1,\n",
       "  -1,\n",
       "  -1],\n",
       " '2': [1, 2, 3, 4, 5, 6, 7, 8, 9]}"
      ]
     },
     "execution_count": 36,
     "metadata": {},
     "output_type": "execute_result"
    }
   ],
   "source": [
    "rows"
   ]
  },
  {
   "cell_type": "code",
   "execution_count": 37,
   "id": "683f2342",
   "metadata": {},
   "outputs": [
    {
     "data": {
      "text/plain": [
       "(2, 98)"
      ]
     },
     "execution_count": 37,
     "metadata": {},
     "output_type": "execute_result"
    }
   ],
   "source": [
    "Q.shape"
   ]
  },
  {
   "cell_type": "code",
   "execution_count": 38,
   "id": "f6974a79",
   "metadata": {},
   "outputs": [
    {
     "data": {
      "text/plain": [
       "{'1': [1,\n",
       "  1,\n",
       "  1,\n",
       "  1,\n",
       "  1,\n",
       "  1,\n",
       "  1,\n",
       "  1,\n",
       "  1,\n",
       "  1,\n",
       "  1,\n",
       "  1,\n",
       "  0,\n",
       "  0,\n",
       "  0,\n",
       "  0,\n",
       "  0,\n",
       "  0,\n",
       "  0,\n",
       "  0,\n",
       "  -1,\n",
       "  -1,\n",
       "  -1,\n",
       "  -1,\n",
       "  -1,\n",
       "  -1,\n",
       "  -1,\n",
       "  -1,\n",
       "  -1,\n",
       "  -1,\n",
       "  -1,\n",
       "  -1],\n",
       " '2': [1, 2, 3, 4, 5, 6, 7, 8, 9]}"
      ]
     },
     "execution_count": 38,
     "metadata": {},
     "output_type": "execute_result"
    }
   ],
   "source": [
    "rows"
   ]
  },
  {
   "cell_type": "code",
   "execution_count": 39,
   "id": "0d25ed29",
   "metadata": {},
   "outputs": [],
   "source": [
    "def get_temporal_difference(state_index,move_index,reward,gamma):\n",
    "    max_action = np.argmax(Q[state_index])\n",
    "    max_Q = Q[state_index][max_action]\n",
    "    current_Q = Q[state_index][move_index]\n",
    "    return reward + (gamma * (max_Q - current_Q))"
   ]
  },
  {
   "cell_type": "markdown",
   "id": "95da8b87",
   "metadata": {},
   "source": [
    "# training"
   ]
  },
  {
   "cell_type": "code",
   "execution_count": 40,
   "id": "c36aec8e",
   "metadata": {},
   "outputs": [],
   "source": [
    "lr = 1\n",
    "gamma = 0.8\n",
    "reward = 0"
   ]
  },
  {
   "cell_type": "code",
   "execution_count": 41,
   "id": "cbac7ad2",
   "metadata": {},
   "outputs": [],
   "source": [
    "full_state = [[0,1,1,1,1],1,(4,10)]"
   ]
  },
  {
   "cell_type": "code",
   "execution_count": 42,
   "id": "5c3c7426",
   "metadata": {},
   "outputs": [],
   "source": [
    "state = full_state[0]"
   ]
  },
  {
   "cell_type": "code",
   "execution_count": 43,
   "id": "65a7c378",
   "metadata": {},
   "outputs": [],
   "source": [
    "def epsilon_greed(current_board,epsilon):\n",
    "    state_number = 0\n",
    "    for number,board_state in rows.items():\n",
    "        if board == current_board:\n",
    "            state_number = number\n",
    "        else:\n",
    "            append_dict(full_state[0])\n",
    "    if np.random.random() < epsilon:\n",
    "        return np.argmax(Q[state_number])\n",
    "    else:\n",
    "        return np.random.randint(98)"
   ]
  },
  {
   "cell_type": "code",
   "execution_count": 44,
   "id": "f710fb55",
   "metadata": {},
   "outputs": [],
   "source": [
    "full_state = []"
   ]
  },
  {
   "cell_type": "code",
   "execution_count": null,
   "id": "e9e8fa0d",
   "metadata": {},
   "outputs": [],
   "source": []
  },
  {
   "cell_type": "code",
   "execution_count": 45,
   "id": "9e13579b",
   "metadata": {},
   "outputs": [
    {
     "data": {
      "text/plain": [
       "0"
      ]
     },
     "execution_count": 45,
     "metadata": {},
     "output_type": "execute_result"
    }
   ],
   "source": [
    "np.argmax(Q[1])"
   ]
  },
  {
   "cell_type": "code",
   "execution_count": 46,
   "id": "f07de133",
   "metadata": {},
   "outputs": [],
   "source": [
    "Q[1][19] = 23"
   ]
  },
  {
   "cell_type": "code",
   "execution_count": 47,
   "id": "02c837c6",
   "metadata": {},
   "outputs": [],
   "source": [
    "def get_move(index):\n",
    "    return action_space[index]"
   ]
  },
  {
   "cell_type": "code",
   "execution_count": 157,
   "id": "6471fd9b",
   "metadata": {},
   "outputs": [
    {
     "ename": "NameError",
     "evalue": "name 'rows' is not defined",
     "output_type": "error",
     "traceback": [
      "\u001b[0;31m---------------------------------------------------------------------------\u001b[0m",
      "\u001b[0;31mNameError\u001b[0m                                 Traceback (most recent call last)",
      "Cell \u001b[0;32mIn[157], line 4\u001b[0m\n\u001b[1;32m      2\u001b[0m board \u001b[38;5;241m=\u001b[39m full_state[\u001b[38;5;241m0\u001b[39m]\n\u001b[1;32m      3\u001b[0m state_index \u001b[38;5;241m=\u001b[39m \u001b[38;5;241m0\u001b[39m\n\u001b[0;32m----> 4\u001b[0m \u001b[38;5;28;01mfor\u001b[39;00m number,board_state \u001b[38;5;129;01min\u001b[39;00m \u001b[43mrows\u001b[49m\u001b[38;5;241m.\u001b[39mitems():\n\u001b[1;32m      5\u001b[0m     \u001b[38;5;28;01mif\u001b[39;00m board \u001b[38;5;241m==\u001b[39m full_state[\u001b[38;5;241m0\u001b[39m]:\n\u001b[1;32m      6\u001b[0m         state_index \u001b[38;5;241m=\u001b[39m number\n",
      "\u001b[0;31mNameError\u001b[0m: name 'rows' is not defined"
     ]
    }
   ],
   "source": [
    "for episode in range(1000):\n",
    "    board = full_state[0]\n",
    "    state_index = 0\n",
    "    for number,board_state in rows.items():\n",
    "        if board == full_state[0]:\n",
    "            state_index = number\n",
    "        else:\n",
    "            append_dict(full_state[0])\n",
    "            for number,board_state in rows.items():\n",
    "                if board == full_state[0]:\n",
    "                    state_index = number\n",
    "            \n",
    "    while game_over(board) == False:\n",
    "        move_index = epsilon_greed(full_state,epsilon)\n",
    "        move = get_move(move_index)\n",
    "        legal_boolean = referee(full_state) #referee the move\n",
    "        if legal_boolean == False:\n",
    "            reward = -1\n",
    "            temporal_difference = get_temporal_difference\n",
    "            Q[state_index][move_index] = Q[state_index][move_index] + lr * temporal_difference\n",
    "            continue \n",
    "        reward = get_reward()\n",
    "        nextState()\n",
    "        Q[state_index][move_index] = Q[state_index][move_index] + lr * temporal_difference"
   ]
  },
  {
   "cell_type": "code",
   "execution_count": null,
   "id": "2b797654",
   "metadata": {},
   "outputs": [],
   "source": []
  }
 ],
 "metadata": {
  "kernelspec": {
   "display_name": "Python 3 (ipykernel)",
   "language": "python",
   "name": "python3"
  },
  "language_info": {
   "codemirror_mode": {
    "name": "ipython",
    "version": 3
   },
   "file_extension": ".py",
   "mimetype": "text/x-python",
   "name": "python",
   "nbconvert_exporter": "python",
   "pygments_lexer": "ipython3",
   "version": "3.9.7"
  },
  "toc": {
   "base_numbering": 1,
   "nav_menu": {},
   "number_sections": true,
   "sideBar": true,
   "skip_h1_title": false,
   "title_cell": "Table of Contents",
   "title_sidebar": "Contents",
   "toc_cell": false,
   "toc_position": {},
   "toc_section_display": true,
   "toc_window_display": true
  },
  "varInspector": {
   "cols": {
    "lenName": 16,
    "lenType": 16,
    "lenVar": 40
   },
   "kernels_config": {
    "python": {
     "delete_cmd_postfix": "",
     "delete_cmd_prefix": "del ",
     "library": "var_list.py",
     "varRefreshCmd": "print(var_dic_list())"
    },
    "r": {
     "delete_cmd_postfix": ") ",
     "delete_cmd_prefix": "rm(",
     "library": "var_list.r",
     "varRefreshCmd": "cat(var_dic_list()) "
    }
   },
   "types_to_exclude": [
    "module",
    "function",
    "builtin_function_or_method",
    "instance",
    "_Feature"
   ],
   "window_display": false
  }
 },
 "nbformat": 4,
 "nbformat_minor": 5
}
