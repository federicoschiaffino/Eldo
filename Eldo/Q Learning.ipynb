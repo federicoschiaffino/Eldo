{
 "cells": [
  {
   "cell_type": "code",
   "execution_count": 64,
   "id": "42f06fb2",
   "metadata": {
    "scrolled": true
   },
   "outputs": [],
   "source": [
    "import numpy as np\n",
    "import pandas as pd\n",
    "import pdb\n",
    "from ipynb.fs.full.Game import *"
   ]
  },
  {
   "cell_type": "code",
   "execution_count": 60,
   "id": "84d6fd1c",
   "metadata": {},
   "outputs": [
    {
     "data": {
      "image/png": "[encoded data removed]",
      "text/plain": [
       "<Figure size 300x300 with 1 Axes>"
      ]
     },
     "metadata": {},
     "output_type": "display_data"
    }
   ],
   "source": [
    "board_1 = np.array([1,1,1,1,1,1,1,1,1,1,1,1,0,0,0,0,0,0,0,0,-1,-1,-1,-1,-1,-1,-1,-1,-1,-1,-1,-1])\n",
    "state = [board_1, -1]\n",
    "visualize(state)"
   ]
  },
  {
   "cell_type": "code",
   "execution_count": 65,
   "id": "c2bd6573",
   "metadata": {},
   "outputs": [
    {
     "data": {
      "text/plain": [
       "[[(4, 9), (13, 17)],\n",
       " [(4, 9), (13, 18)],\n",
       " [(6, 10), (13, 17)],\n",
       " [(6, 10), (13, 18)]]"
      ]
     },
     "execution_count": 65,
     "metadata": {},
     "output_type": "execute_result"
    }
   ],
   "source": [
    "bb = np.array([ 0, 0, 0, 0, 0, 0, 0, 0, 0, 0, 0, 0, 0, 0, 0, 0,  0, 0, 0, 0,\n",
    "                0, 0, 0, 0, 0, 0, 0, 0, 0, 0, 0, 0,])\n",
    "\n",
    "bb[4] = 1\n",
    "bb[6] = 1\n",
    "bb[9] = -1\n",
    "bb[10] = -1\n",
    "bb[17] = -1\n",
    "bb[18] = -1\n",
    "\n",
    "fix_dict(can_eat([bb, 1, (21,25)])[1], bb)"
   ]
  },
  {
   "cell_type": "code",
   "execution_count": 21,
   "id": "79dbd031",
   "metadata": {},
   "outputs": [],
   "source": [
    "action_space = [(0,4),#0\n",
    " (1,4),#1\n",
    " (1,5),#2\n",
    " (2,5),#3\n",
    " (2,6),#4\n",
    " (3,6),#5\n",
    " (3,7),#6\n",
    " (4,0),#7\n",
    " (4,1),#8\n",
    " (4,8),#9\n",
    " (4,9),#10\n",
    " (5,1),#11\n",
    " (5,2),#12\n",
    " (5,9),#13\n",
    " (5,10),#14\n",
    " (6,2),#15\n",
    " (6,3),#16\n",
    " (6,10),#17\n",
    " (6,11),#18\n",
    " (7,3),#19\n",
    " (7,11),#20\n",
    " (8,4),#21\n",
    " (8,12),#22\n",
    " (9,4),#23\n",
    " (9,5),#24\n",
    " (9,12),#25\n",
    " (9,13),#26\n",
    " (10,5),#27\n",
    " (10,6),#28\n",
    " (10,13),#29\n",
    " (10,14),#30\n",
    " (11,6),#31\n",
    " (11,7),#32\n",
    " (11,14),#33\n",
    " (11,15),#34\n",
    " (12,8),#35\n",
    " (12,9),#36\n",
    " (12,16),#37\n",
    " (12,17),#38\n",
    " (13,9),#39\n",
    " (13,10),#40\n",
    " (13,17),#41\n",
    " (13,18),#42\n",
    " (14,10),#43\n",
    " (14,11),#44\n",
    " (14,18),#45\n",
    " (14,19),#46\n",
    " (15,11),#47\n",
    " (15,19),#48\n",
    " (16, 12),#49\n",
    " (16, 20),#50\n",
    " (17, 12),#51\n",
    " (17, 13),#52\n",
    " (17, 20),#53\n",
    " (17, 21),#54\n",
    " (18, 13),#55\n",
    " (18, 14),#56\n",
    " (18, 21),#57\n",
    " (18, 22),#58\n",
    " (19, 14),#59\n",
    " (19, 15),#60\n",
    " (19, 22),#61\n",
    " (19, 23),#62\n",
    " (20, 16),#63\n",
    " (20, 17),#64\n",
    " (20, 24),#65\n",
    " (20, 25),#66\n",
    " (21, 17),#67\n",
    " (21, 18),#68\n",
    " (21, 25),#69\n",
    " (21, 26),#70\n",
    " (22, 18),#71\n",
    " (22, 19),#72\n",
    " (22, 26),#73\n",
    " (22, 27),#74\n",
    " (23, 19),#75\n",
    " (23, 27),#76\n",
    " (24, 20),#77\n",
    " (24, 28),#78\n",
    " (25, 20),#79\n",
    " (25, 21),#80\n",
    " (25, 28),#81\n",
    " (25, 29),#82\n",
    " (26, 21),#83\n",
    " (26, 22),#84\n",
    " (26, 29),#85\n",
    " (26, 30),#86\n",
    " (27, 22),#87\n",
    " (27, 23),#88\n",
    " (27, 30),#89\n",
    " (27, 31),#90\n",
    " (28, 24),#91\n",
    " (28, 25),#92\n",
    " (29, 25),#93\n",
    " (29, 26),#94\n",
    " (30, 26),#95\n",
    " (30, 27),#96\n",
    " (31, 27)]#97"
   ]
  },
  {
   "cell_type": "code",
   "execution_count": 22,
   "id": "64fbe64f",
   "metadata": {},
   "outputs": [],
   "source": [
    "numbers = np.arange(1,99,1)"
   ]
  },
  {
   "cell_type": "code",
   "execution_count": 23,
   "id": "02b4c4cf",
   "metadata": {},
   "outputs": [],
   "source": [
    "action_dict = dict(zip(numbers,action_space))"
   ]
  },
  {
   "cell_type": "code",
   "execution_count": 24,
   "id": "31c58ce1",
   "metadata": {
    "scrolled": true
   },
   "outputs": [
    {
     "data": {
      "text/plain": [
       "{1: (0, 4),\n",
       " 2: (1, 4),\n",
       " 3: (1, 5),\n",
       " 4: (2, 5),\n",
       " 5: (2, 6),\n",
       " 6: (3, 6),\n",
       " 7: (3, 7),\n",
       " 8: (4, 0),\n",
       " 9: (4, 1),\n",
       " 10: (4, 8),\n",
       " 11: (4, 9),\n",
       " 12: (5, 1),\n",
       " 13: (5, 2),\n",
       " 14: (5, 9),\n",
       " 15: (5, 10),\n",
       " 16: (6, 2),\n",
       " 17: (6, 3),\n",
       " 18: (6, 10),\n",
       " 19: (6, 11),\n",
       " 20: (7, 3),\n",
       " 21: (7, 11),\n",
       " 22: (8, 4),\n",
       " 23: (8, 12),\n",
       " 24: (9, 4),\n",
       " 25: (9, 5),\n",
       " 26: (9, 12),\n",
       " 27: (9, 13),\n",
       " 28: (10, 5),\n",
       " 29: (10, 6),\n",
       " 30: (10, 13),\n",
       " 31: (10, 14),\n",
       " 32: (11, 6),\n",
       " 33: (11, 7),\n",
       " 34: (11, 14),\n",
       " 35: (11, 15),\n",
       " 36: (12, 8),\n",
       " 37: (12, 9),\n",
       " 38: (12, 16),\n",
       " 39: (12, 17),\n",
       " 40: (13, 9),\n",
       " 41: (13, 10),\n",
       " 42: (13, 17),\n",
       " 43: (13, 18),\n",
       " 44: (14, 10),\n",
       " 45: (14, 11),\n",
       " 46: (14, 18),\n",
       " 47: (14, 19),\n",
       " 48: (15, 11),\n",
       " 49: (15, 19),\n",
       " 50: (16, 12),\n",
       " 51: (16, 20),\n",
       " 52: (17, 12),\n",
       " 53: (17, 13),\n",
       " 54: (17, 20),\n",
       " 55: (17, 21),\n",
       " 56: (18, 13),\n",
       " 57: (18, 14),\n",
       " 58: (18, 21),\n",
       " 59: (18, 22),\n",
       " 60: (19, 14),\n",
       " 61: (19, 15),\n",
       " 62: (19, 22),\n",
       " 63: (19, 23),\n",
       " 64: (20, 16),\n",
       " 65: (20, 17),\n",
       " 66: (20, 24),\n",
       " 67: (20, 25),\n",
       " 68: (21, 17),\n",
       " 69: (21, 18),\n",
       " 70: (21, 25),\n",
       " 71: (21, 26),\n",
       " 72: (22, 18),\n",
       " 73: (22, 19),\n",
       " 74: (22, 26),\n",
       " 75: (22, 27),\n",
       " 76: (23, 19),\n",
       " 77: (23, 27),\n",
       " 78: (24, 20),\n",
       " 79: (24, 28),\n",
       " 80: (25, 20),\n",
       " 81: (25, 21),\n",
       " 82: (25, 28),\n",
       " 83: (25, 29),\n",
       " 84: (26, 21),\n",
       " 85: (26, 22),\n",
       " 86: (26, 29),\n",
       " 87: (26, 30),\n",
       " 88: (27, 22),\n",
       " 89: (27, 23),\n",
       " 90: (27, 30),\n",
       " 91: (27, 31),\n",
       " 92: (28, 24),\n",
       " 93: (28, 25),\n",
       " 94: (29, 25),\n",
       " 95: (29, 26),\n",
       " 96: (30, 26),\n",
       " 97: (30, 27),\n",
       " 98: (31, 27)}"
      ]
     },
     "execution_count": 24,
     "metadata": {},
     "output_type": "execute_result"
    }
   ],
   "source": [
    "action_dict"
   ]
  },
  {
   "cell_type": "code",
   "execution_count": 25,
   "id": "87d1b7e5",
   "metadata": {},
   "outputs": [],
   "source": [
    "initial_state = [1,1,1,1,1,1,1,1,1,1,1,1,0,0,0,0,0,0,0,0,-1,-1,-1,-1,-1,-1,-1,-1,-1,-1,-1,-1]"
   ]
  },
  {
   "cell_type": "code",
   "execution_count": 26,
   "id": "59d02c9f",
   "metadata": {},
   "outputs": [],
   "source": [
    "zeros = np.zeros((1,98))"
   ]
  },
  {
   "cell_type": "code",
   "execution_count": 27,
   "id": "779e92c1",
   "metadata": {},
   "outputs": [],
   "source": [
    "Q = np.zeros((1,98))"
   ]
  },
  {
   "cell_type": "code",
   "execution_count": 28,
   "id": "ccbc8ee4",
   "metadata": {},
   "outputs": [
    {
     "data": {
      "text/plain": [
       "array([[0., 0., 0., 0., 0., 0., 0., 0., 0., 0., 0., 0., 0., 0., 0., 0.,\n",
       "        0., 0., 0., 0., 0., 0., 0., 0., 0., 0., 0., 0., 0., 0., 0., 0.,\n",
       "        0., 0., 0., 0., 0., 0., 0., 0., 0., 0., 0., 0., 0., 0., 0., 0.,\n",
       "        0., 0., 0., 0., 0., 0., 0., 0., 0., 0., 0., 0., 0., 0., 0., 0.,\n",
       "        0., 0., 0., 0., 0., 0., 0., 0., 0., 0., 0., 0., 0., 0., 0., 0.,\n",
       "        0., 0., 0., 0., 0., 0., 0., 0., 0., 0., 0., 0., 0., 0., 0., 0.,\n",
       "        0., 0.]])"
      ]
     },
     "execution_count": 28,
     "metadata": {},
     "output_type": "execute_result"
    }
   ],
   "source": [
    "Q"
   ]
  },
  {
   "cell_type": "code",
   "execution_count": 29,
   "id": "c18d7207",
   "metadata": {},
   "outputs": [],
   "source": [
    "rows = {'1' : [1,1,1,1,1,1,1,1,1,1,1,1,0,0,0,0,0,0,0,0,-1,-1,-1,-1,-1,-1,-1,-1,-1,-1,-1,-1]}"
   ]
  },
  {
   "cell_type": "code",
   "execution_count": 30,
   "id": "ede5ab78",
   "metadata": {},
   "outputs": [],
   "source": [
    "state = (1,1,1,1,1,2,2,3,5,11,2,3,4,5,2,1,4)"
   ]
  },
  {
   "cell_type": "code",
   "execution_count": 31,
   "id": "fc423771",
   "metadata": {},
   "outputs": [],
   "source": [
    "def learning(state,new_state,action,lr,reward,gamma):#state and action are int taken from dictionaries\n",
    "    Q[state,action] = Q[state,action] + lr * (reward + gamma * np.max(Q[new_state,:] - Q[state,action]))"
   ]
  },
  {
   "cell_type": "code",
   "execution_count": 32,
   "id": "7522acfc",
   "metadata": {},
   "outputs": [],
   "source": [
    "def game_over(board):\n",
    "    negative_counter = 0\n",
    "    positive_counter = 0\n",
    "    #CHANGE\n",
    "    for x in action_space:\n",
    "        if referee(x)[0] == True:\n",
    "            return False\n",
    "    #PROB delete\n",
    "    for x in board:\n",
    "        if x < 0:\n",
    "            negative_counter += 1\n",
    "        elif x > 0:\n",
    "            positive_counter += 1\n",
    "    if negative_counter > 0 and positive_counter > 0:\n",
    "        return False\n",
    "    return True\n",
    "    "
   ]
  },
  {
   "cell_type": "code",
   "execution_count": 33,
   "id": "d4704eb6",
   "metadata": {},
   "outputs": [],
   "source": [
    "def determine_reward():\n",
    "    if referee(action_space,full_state)[0] == False:\n",
    "        return -1\n",
    "    elif game_over() == True:\n",
    "        return 1 #don't understand why\n",
    "    else:\n",
    "        return 0"
   ]
  },
  {
   "cell_type": "code",
   "execution_count": 34,
   "id": "afd2ecf7",
   "metadata": {},
   "outputs": [],
   "source": [
    "def append_dict(state,Q):\n",
    "    if state not in rows.values():\n",
    "        rows[f'{len(rows)+1}'] = state\n",
    "        Q = np.append(Q,zeros,axis = 0)\n",
    "        return Q\n",
    "    return Q"
   ]
  },
  {
   "cell_type": "code",
   "execution_count": 35,
   "id": "b60b256e",
   "metadata": {},
   "outputs": [],
   "source": [
    "Q = append_dict([1,2,3,4,5,6,7,8,9],Q)"
   ]
  },
  {
   "cell_type": "code",
   "execution_count": 36,
   "id": "cc8ceab0",
   "metadata": {},
   "outputs": [
    {
     "data": {
      "text/plain": [
       "{'1': [1,\n",
       "  1,\n",
       "  1,\n",
       "  1,\n",
       "  1,\n",
       "  1,\n",
       "  1,\n",
       "  1,\n",
       "  1,\n",
       "  1,\n",
       "  1,\n",
       "  1,\n",
       "  0,\n",
       "  0,\n",
       "  0,\n",
       "  0,\n",
       "  0,\n",
       "  0,\n",
       "  0,\n",
       "  0,\n",
       "  -1,\n",
       "  -1,\n",
       "  -1,\n",
       "  -1,\n",
       "  -1,\n",
       "  -1,\n",
       "  -1,\n",
       "  -1,\n",
       "  -1,\n",
       "  -1,\n",
       "  -1,\n",
       "  -1],\n",
       " '2': [1, 2, 3, 4, 5, 6, 7, 8, 9]}"
      ]
     },
     "execution_count": 36,
     "metadata": {},
     "output_type": "execute_result"
    }
   ],
   "source": [
    "rows"
   ]
  },
  {
   "cell_type": "code",
   "execution_count": 37,
   "id": "683f2342",
   "metadata": {},
   "outputs": [
    {
     "data": {
      "text/plain": [
       "(2, 98)"
      ]
     },
     "execution_count": 37,
     "metadata": {},
     "output_type": "execute_result"
    }
   ],
   "source": [
    "Q.shape"
   ]
  },
  {
   "cell_type": "code",
   "execution_count": 38,
   "id": "f6974a79",
   "metadata": {},
   "outputs": [
    {
     "data": {
      "text/plain": [
       "{'1': [1,\n",
       "  1,\n",
       "  1,\n",
       "  1,\n",
       "  1,\n",
       "  1,\n",
       "  1,\n",
       "  1,\n",
       "  1,\n",
       "  1,\n",
       "  1,\n",
       "  1,\n",
       "  0,\n",
       "  0,\n",
       "  0,\n",
       "  0,\n",
       "  0,\n",
       "  0,\n",
       "  0,\n",
       "  0,\n",
       "  -1,\n",
       "  -1,\n",
       "  -1,\n",
       "  -1,\n",
       "  -1,\n",
       "  -1,\n",
       "  -1,\n",
       "  -1,\n",
       "  -1,\n",
       "  -1,\n",
       "  -1,\n",
       "  -1],\n",
       " '2': [1, 2, 3, 4, 5, 6, 7, 8, 9]}"
      ]
     },
     "execution_count": 38,
     "metadata": {},
     "output_type": "execute_result"
    }
   ],
   "source": [
    "rows"
   ]
  },
  {
   "cell_type": "code",
   "execution_count": 39,
   "id": "0d25ed29",
   "metadata": {},
   "outputs": [],
   "source": [
    "def get_temporal_difference(state_index,move_index,reward,gamma):\n",
    "    max_action = np.argmax(Q[state_index])\n",
    "    max_Q = Q[state_index][max_action]\n",
    "    current_Q = Q[state_index][move_index]\n",
    "    return reward + (gamma * (max_Q - current_Q))"
   ]
  },
  {
   "cell_type": "markdown",
   "id": "95da8b87",
   "metadata": {},
   "source": [
    "# training"
   ]
  },
  {
   "cell_type": "code",
   "execution_count": 40,
   "id": "c36aec8e",
   "metadata": {},
   "outputs": [],
   "source": [
    "lr = 1\n",
    "gamma = 0.8\n",
    "reward = 0"
   ]
  },
  {
   "cell_type": "code",
   "execution_count": 41,
   "id": "cbac7ad2",
   "metadata": {},
   "outputs": [],
   "source": [
    "full_state = [[0,1,1,1,1],1,(4,10)]"
   ]
  },
  {
   "cell_type": "code",
   "execution_count": 42,
   "id": "5c3c7426",
   "metadata": {},
   "outputs": [],
   "source": [
    "state = full_state[0]"
   ]
  },
  {
   "cell_type": "code",
   "execution_count": 43,
   "id": "65a7c378",
   "metadata": {},
   "outputs": [],
   "source": [
    "def epsilon_greed(current_board,epsilon):\n",
    "    state_number = 0\n",
    "    for number,board_state in rows.items():\n",
    "        if board == current_board:\n",
    "            state_number = number\n",
    "        else:\n",
    "            append_dict(full_state[0])\n",
    "    if np.random.random() < epsilon:\n",
    "        return np.argmax(Q[state_number])\n",
    "    else:\n",
    "        return np.random.randint(98)"
   ]
  },
  {
   "cell_type": "code",
   "execution_count": 44,
   "id": "f710fb55",
   "metadata": {},
   "outputs": [],
   "source": [
    "full_state = []"
   ]
  },
  {
   "cell_type": "code",
   "execution_count": null,
   "id": "e9e8fa0d",
   "metadata": {},
   "outputs": [],
   "source": []
  },
  {
   "cell_type": "code",
   "execution_count": 45,
   "id": "9e13579b",
   "metadata": {},
   "outputs": [
    {
     "data": {
      "text/plain": [
       "0"
      ]
     },
     "execution_count": 45,
     "metadata": {},
     "output_type": "execute_result"
    }
   ],
   "source": [
    "np.argmax(Q[1])"
   ]
  },
  {
   "cell_type": "code",
   "execution_count": 46,
   "id": "f07de133",
   "metadata": {},
   "outputs": [],
   "source": [
    "Q[1][19] = 23"
   ]
  },
  {
   "cell_type": "code",
   "execution_count": 47,
   "id": "02c837c6",
   "metadata": {},
   "outputs": [],
   "source": [
    "def get_move(index):\n",
    "    return action_space[index]"
   ]
  },
  {
   "cell_type": "code",
   "execution_count": 48,
   "id": "6471fd9b",
   "metadata": {},
   "outputs": [
    {
     "ename": "IndexError",
     "evalue": "list index out of range",
     "output_type": "error",
     "traceback": [
      "\u001b[0;31m---------------------------------------------------------------------------\u001b[0m",
      "\u001b[0;31mIndexError\u001b[0m                                Traceback (most recent call last)",
      "Cell \u001b[0;32mIn[48], line 2\u001b[0m\n\u001b[1;32m      1\u001b[0m \u001b[38;5;28;01mfor\u001b[39;00m episode \u001b[38;5;129;01min\u001b[39;00m \u001b[38;5;28mrange\u001b[39m(\u001b[38;5;241m1000\u001b[39m):\n\u001b[0;32m----> 2\u001b[0m     board \u001b[38;5;241m=\u001b[39m \u001b[43mfull_state\u001b[49m\u001b[43m[\u001b[49m\u001b[38;5;241;43m0\u001b[39;49m\u001b[43m]\u001b[49m\n\u001b[1;32m      3\u001b[0m     state_index \u001b[38;5;241m=\u001b[39m \u001b[38;5;241m0\u001b[39m\n\u001b[1;32m      4\u001b[0m     \u001b[38;5;28;01mfor\u001b[39;00m number,board_state \u001b[38;5;129;01min\u001b[39;00m rows\u001b[38;5;241m.\u001b[39mitems():\n",
      "\u001b[0;31mIndexError\u001b[0m: list index out of range"
     ]
    }
   ],
   "source": [
    "for episode in range(1000):\n",
    "    board = full_state[0]\n",
    "    state_index = 0\n",
    "    for number,board_state in rows.items():\n",
    "        if board == full_state[0]:\n",
    "            state_index = number\n",
    "        else:\n",
    "            append_dict(full_state[0])\n",
    "            for number,board_state in rows.items():\n",
    "                if board == full_state[0]:\n",
    "                    state_index = number\n",
    "            \n",
    "    while game_over(board) == False:\n",
    "        move_index = epsilon_greed(full_state,epsilon)\n",
    "        move = get_move(move_index)\n",
    "        legal_boolean = referee(full_state) #referee the move\n",
    "        if legal_boolean == False:\n",
    "            reward = -1\n",
    "            temporal_difference = get_temporal_difference\n",
    "            Q[state_index][move_index] = Q[state_index][move_index] + lr * temporal_difference\n",
    "            continue \n",
    "        reward = get_reward()\n",
    "        nextState()\n",
    "        Q[state_index][move_index] = Q[state_index][move_index] + lr * temporal_difference"
   ]
  },
  {
   "cell_type": "code",
   "execution_count": null,
   "id": "2b797654",
   "metadata": {},
   "outputs": [],
   "source": []
  }
 ],
 "metadata": {
  "kernelspec": {
   "display_name": "Python 3 (ipykernel)",
   "language": "python",
   "name": "python3"
  },
  "language_info": {
   "codemirror_mode": {
    "name": "ipython",
    "version": 3
   },
   "file_extension": ".py",
   "mimetype": "text/x-python",
   "name": "python",
   "nbconvert_exporter": "python",
   "pygments_lexer": "ipython3",
   "version": "3.9.7"
  },
  "toc": {
   "base_numbering": 1,
   "nav_menu": {},
   "number_sections": true,
   "sideBar": true,
   "skip_h1_title": false,
   "title_cell": "Table of Contents",
   "title_sidebar": "Contents",
   "toc_cell": false,
   "toc_position": {},
   "toc_section_display": true,
   "toc_window_display": false
  },
  "varInspector": {
   "cols": {
    "lenName": 16,
    "lenType": 16,
    "lenVar": 40
   },
   "kernels_config": {
    "python": {
     "delete_cmd_postfix": "",
     "delete_cmd_prefix": "del ",
     "library": "var_list.py",
     "varRefreshCmd": "print(var_dic_list())"
    },
    "r": {
     "delete_cmd_postfix": ") ",
     "delete_cmd_prefix": "rm(",
     "library": "var_list.r",
     "varRefreshCmd": "cat(var_dic_list()) "
    }
   },
   "types_to_exclude": [
    "module",
    "function",
    "builtin_function_or_method",
    "instance",
    "_Feature"
   ],
   "window_display": false
  }
 },
 "nbformat": 4,
 "nbformat_minor": 5
}
