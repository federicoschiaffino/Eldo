{
 "cells": [
  {
   "cell_type": "code",
   "execution_count": 3,
   "id": "3185ccc7",
   "metadata": {},
   "outputs": [],
   "source": [
    "def nextState(full_state): #compute next state IN: list with board np.array, int for color, tuple for move\n",
    "    board = full_state[0]\n",
    "    move = full_state[2]\n",
    "    if board[move[1]] == 0:\n",
    "        board = normal_move(board,move)\n",
    "        return board\n",
    "    else:\n",
    "        board = capture(board,move)\n",
    "    return board"
   ]
  },
  {
   "cell_type": "code",
   "execution_count": 2,
   "id": "d638ac0d",
   "metadata": {},
   "outputs": [],
   "source": [
    "def normal_move(board,move): #works inside next_state\n",
    "    board[move[1]] = board[move[0]]\n",
    "    board[move[0]] = 0\n",
    "    return board"
   ]
  },
  {
   "cell_type": "code",
   "execution_count": 1,
   "id": "538b7d98",
   "metadata": {},
   "outputs": [],
   "source": [
    "def capture(board,move): #works inside next_state\n",
    "    row = math.floor(move[0] / 4)\n",
    "    start_col = move[0] % 4\n",
    "    end_col = move[1] % 4\n",
    "    #print(row,start_col,end_col)\n",
    "    if row % 2 == 0:\n",
    "        if move[0] < move[1]:\n",
    "            if end_col <= start_col:\n",
    "                #down left\n",
    "                board[move[1]] = 0\n",
    "                board[move[0]+7] = board[move[0]]\n",
    "                board[move[0]] = 0\n",
    "                pass\n",
    "            elif end_col > start_col:\n",
    "                #down right\n",
    "                board[move[1]] = 0\n",
    "                board[move[0]+9] = board[move[0]]\n",
    "                board[move[0]] = 0\n",
    "        if move[0] > move[1]:\n",
    "            if end_col<= start_col:\n",
    "                #up left\n",
    "                board[move[1]] = 0\n",
    "                board[move[0]-9] = board[move[0]]\n",
    "                board[move[0]] = 0\n",
    "            if end_col > start_col:\n",
    "                #up right\n",
    "                board[move[1]] = 0\n",
    "                board[move[0]-7] = board[move[0]]\n",
    "                board[move[0]] = 0\n",
    "    elif row % 2 != 0:\n",
    "        if move[0] < move[1]:\n",
    "            if end_col < start_col:\n",
    "                #down left\n",
    "                board[move[1]] = 0\n",
    "                board[move[0]+7] = board[move[0]]\n",
    "                board[move[0]] = 0\n",
    "            elif end_col >= start_col:\n",
    "                #down right\n",
    "                board[move[1]] = 0\n",
    "                board[move[0]+9] = board[move[0]]\n",
    "                board[move[0]] = 0\n",
    "        if move[0] > move[1]:\n",
    "            if end_col< start_col:\n",
    "                #up left\n",
    "                board[move[1]] = 0\n",
    "                board[move[0]-9] = board[move[0]]\n",
    "                board[move[0]] = 0\n",
    "            if end_col >= start_col:\n",
    "                #up right\n",
    "                board[move[1]] = 0\n",
    "                board[move[0]-7] = board[move[0]]\n",
    "                board[move[0]] = 0\n",
    "    return board"
   ]
  },
  {
   "cell_type": "code",
   "execution_count": null,
   "id": "07c83399",
   "metadata": {},
   "outputs": [],
   "source": [
    "[[(9, 13), (16, 21)], [(9, 14), (18, 22)], [(9, 14), (18, 23)]]"
   ]
  },
  {
   "cell_type": "code",
   "execution_count": 30,
   "id": "f6823dbf",
   "metadata": {},
   "outputs": [],
   "source": [
    "my_dict = [true,{'1':[],'9':[[(9, 13), (16, 21)], [(9, 14), (18, 22)], [(9, 14), (18, 23)]]}]"
   ]
  },
  {
   "cell_type": "code",
   "execution_count": 14,
   "id": "ee7251aa",
   "metadata": {},
   "outputs": [],
   "source": [
    "def nextStatev2(full_state,moves_dict):\n",
    "    moves = moves_dict[1]\n",
    "    possible_moves = []\n",
    "    max_eat = 0\n",
    "    for x in moves.values():\n",
    "        for i in x:\n",
    "            if len(i) > max_eat:\n",
    "                max_eat = len(i)\n",
    "    for x in moves.values():\n",
    "        for i in x:\n",
    "            if len(i) == max_eat:\n",
    "                if i[2] == full_state[2]:\n",
    "                    possible_moves.append(i)\n",
    "    print(possible_moves)\n",
    "    for x in possible_moves:\n",
    "        print(x)\n",
    "        full_state[2] = x\n",
    "        board = nextState(full_state)\n",
    "    return board"
   ]
  },
  {
   "cell_type": "code",
   "execution_count": 6,
   "id": "bb90b4fa",
   "metadata": {},
   "outputs": [],
   "source": [
    "def eating_priority(my_dict):#eating priority main function IN: dictionary OUT: -> Boolean\n",
    "    move_list = fix_dic(my_dict)\n",
    "    queens = []\n",
    "    eating_queens = []\n",
    "    if len(move_list) == 1:\n",
    "        return move_list[0] == full_state[2]\n",
    "    for x in move_list:\n",
    "        if abs(board[x[0]]) == 2:\n",
    "            queens.append(x)\n",
    "    if len(queens) == 0:\n",
    "        return full_state[2] in move_list\n",
    "    if len(queens) == 1:\n",
    "        return queens[0] == full_state[2]\n",
    "    for x in queens:\n",
    "        if abs(board[x[1]]) == 2:\n",
    "            eating_queens.append(x)\n",
    "            #print(eating_queens)\n",
    "    return(full_state[2] in eating_queens)"
   ]
  },
  {
   "cell_type": "code",
   "execution_count": 17,
   "id": "c15069ca",
   "metadata": {},
   "outputs": [],
   "source": [
    "moves_dict = [False,{'1':[[(1,2),(2,5)]],'2':[[(2,3),(3,4)]],'3':[[(2,4)]]}]"
   ]
  },
  {
   "cell_type": "code",
   "execution_count": 13,
   "id": "5911f68b",
   "metadata": {},
   "outputs": [],
   "source": [
    "def fix_dic(moves_dict):\n",
    "    moves = moves_dict[1]\n",
    "    print(moves)\n",
    "    possible_moves = []\n",
    "    max_eat = 0\n",
    "    for x in moves.values():\n",
    "        for i in x:\n",
    "            if len(i) > max_eat:\n",
    "                max_eat = len(i)\n",
    "    for x in moves.values():\n",
    "        for i in x:\n",
    "            if len(i) == max_eat:\n",
    "                possible_moves.append(i[0])\n",
    "    return possible_moves"
   ]
  },
  {
   "cell_type": "code",
   "execution_count": 14,
   "id": "66c755c3",
   "metadata": {},
   "outputs": [
    {
     "name": "stdout",
     "output_type": "stream",
     "text": [
      "{'1': [[(1, 2), (2, 3)]], '2': [[(2, 3), (3, 4)]], '3': [[(2, 3)]]}\n"
     ]
    },
    {
     "data": {
      "text/plain": [
       "[(1, 2), (2, 3)]"
      ]
     },
     "execution_count": 14,
     "metadata": {},
     "output_type": "execute_result"
    }
   ],
   "source": [
    "fix_dic(moves_dict)"
   ]
  },
  {
   "cell_type": "code",
   "execution_count": 19,
   "id": "daf2b06a",
   "metadata": {},
   "outputs": [],
   "source": [
    "board = [1,1,1,1,1,1,1,1,1,1,1,1,0,0,0,0,0,0,0,0,-1,-1,-1,-1,-1,-1,-1,-1,-1,-1,-1,]"
   ]
  },
  {
   "cell_type": "code",
   "execution_count": 15,
   "id": "69938587",
   "metadata": {},
   "outputs": [],
   "source": [
    "full_state = [[1,1,1,1],23,(2,3)]"
   ]
  },
  {
   "cell_type": "code",
   "execution_count": 20,
   "id": "31482cad",
   "metadata": {},
   "outputs": [
    {
     "name": "stdout",
     "output_type": "stream",
     "text": [
      "{'1': [[(1, 2), (2, 5)]], '2': [[(2, 3), (3, 4)]], '3': [[(2, 4)]]}\n"
     ]
    },
    {
     "data": {
      "text/plain": [
       "True"
      ]
     },
     "execution_count": 20,
     "metadata": {},
     "output_type": "execute_result"
    }
   ],
   "source": [
    "eating_priority(moves_dict)"
   ]
  },
  {
   "cell_type": "code",
   "execution_count": null,
   "id": "938c83ca",
   "metadata": {},
   "outputs": [],
   "source": []
  }
 ],
 "metadata": {
  "kernelspec": {
   "display_name": "Python 3 (ipykernel)",
   "language": "python",
   "name": "python3"
  },
  "language_info": {
   "codemirror_mode": {
    "name": "ipython",
    "version": 3
   },
   "file_extension": ".py",
   "mimetype": "text/x-python",
   "name": "python",
   "nbconvert_exporter": "python",
   "pygments_lexer": "ipython3",
   "version": "3.8.6"
  },
  "toc": {
   "base_numbering": 1,
   "nav_menu": {},
   "number_sections": true,
   "sideBar": true,
   "skip_h1_title": false,
   "title_cell": "Table of Contents",
   "title_sidebar": "Contents",
   "toc_cell": false,
   "toc_position": {},
   "toc_section_display": true,
   "toc_window_display": false
  },
  "varInspector": {
   "cols": {
    "lenName": 16,
    "lenType": 16,
    "lenVar": 40
   },
   "kernels_config": {
    "python": {
     "delete_cmd_postfix": "",
     "delete_cmd_prefix": "del ",
     "library": "var_list.py",
     "varRefreshCmd": "print(var_dic_list())"
    },
    "r": {
     "delete_cmd_postfix": ") ",
     "delete_cmd_prefix": "rm(",
     "library": "var_list.r",
     "varRefreshCmd": "cat(var_dic_list()) "
    }
   },
   "types_to_exclude": [
    "module",
    "function",
    "builtin_function_or_method",
    "instance",
    "_Feature"
   ],
   "window_display": false
  }
 },
 "nbformat": 4,
 "nbformat_minor": 5
}
